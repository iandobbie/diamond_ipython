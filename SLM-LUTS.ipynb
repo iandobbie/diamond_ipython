{
 "metadata": {
  "name": "",
  "signature": "sha256:85f4f5a78ab9d2e0c6651995b75fc4b3a5e75595f1e684bd2711fdcf1e53f156"
 },
 "nbformat": 3,
 "nbformat_minor": 0,
 "worksheets": [
  {
   "cells": [
    {
     "cell_type": "code",
     "collapsed": false,
     "input": [
      "import numpy as np\n",
      "import matplotlib.pyplot as plt\n",
      "import os"
     ],
     "language": "python",
     "metadata": {},
     "outputs": [],
     "prompt_number": 29
    },
    {
     "cell_type": "code",
     "collapsed": false,
     "input": [
      "os.chdir('\\\\\\\\slm.b24\\\\SLM\\\\slm')\n",
      "files = {'linear':'linear.lut',\n",
      "         'uv':    'slm7070_at405_P16.lut',\n",
      "         'green': 'slm7070_at532_P16.lut',\n",
      "         'red':   'slm7070_at635_P16.lut',}\n",
      "\n",
      "luts = {}\n",
      "\n",
      "for lutname, fname in files.iteritems():\n",
      "    f = open(fname)\n",
      "    luts.update({lutname: [[],[]]})\n",
      "    lut = luts[lutname]\n",
      "\n",
      "    for line in f:\n",
      "        l, r = [int(i) for i in line.split()]\n",
      "        lut[0].append(l)\n",
      "        lut[1].append(r)\n",
      "    f.close()"
     ],
     "language": "python",
     "metadata": {},
     "outputs": [],
     "prompt_number": 23
    },
    {
     "cell_type": "code",
     "collapsed": false,
     "input": [
      "colours = {'linear':'k', 'uv':'m', 'green':'g', 'red':'r'}\n",
      "series = []\n",
      "fig = plt.figure(figsize=(16,12), dpi=100)\n",
      "for lutname, lut in luts.iteritems():\n",
      "    #series.extend([lut[0], lut[1], colours[lutname] + '.'])\n",
      "    plt.plot(lut[0], lut[1], colours[lutname] + '.', label=lutname)\n",
      "#plt.plot(*series)\n",
      "plt.title('SLM 7070 LUT')\n",
      "plt.legend(loc=4)\n",
      "None"
     ],
     "language": "python",
     "metadata": {},
     "outputs": [
      {
       "ename": "NameError",
       "evalue": "name 'luts' is not defined",
       "output_type": "pyerr",
       "traceback": [
        "\u001b[1;31m---------------------------------------------------------------------------\u001b[0m\n\u001b[1;31mNameError\u001b[0m                                 Traceback (most recent call last)",
        "\u001b[1;32m<ipython-input-1-65d0608499a8>\u001b[0m in \u001b[0;36m<module>\u001b[1;34m()\u001b[0m\n\u001b[0;32m      2\u001b[0m \u001b[0mseries\u001b[0m \u001b[1;33m=\u001b[0m \u001b[1;33m[\u001b[0m\u001b[1;33m]\u001b[0m\u001b[1;33m\u001b[0m\u001b[0m\n\u001b[0;32m      3\u001b[0m \u001b[0mfig\u001b[0m \u001b[1;33m=\u001b[0m \u001b[0mplt\u001b[0m\u001b[1;33m.\u001b[0m\u001b[0mfigure\u001b[0m\u001b[1;33m(\u001b[0m\u001b[0mfigsize\u001b[0m\u001b[1;33m=\u001b[0m\u001b[1;33m(\u001b[0m\u001b[1;36m16\u001b[0m\u001b[1;33m,\u001b[0m\u001b[1;36m12\u001b[0m\u001b[1;33m)\u001b[0m\u001b[1;33m,\u001b[0m \u001b[0mdpi\u001b[0m\u001b[1;33m=\u001b[0m\u001b[1;36m100\u001b[0m\u001b[1;33m)\u001b[0m\u001b[1;33m\u001b[0m\u001b[0m\n\u001b[1;32m----> 4\u001b[1;33m \u001b[1;32mfor\u001b[0m \u001b[0mlutname\u001b[0m\u001b[1;33m,\u001b[0m \u001b[0mlut\u001b[0m \u001b[1;32min\u001b[0m \u001b[0mluts\u001b[0m\u001b[1;33m.\u001b[0m\u001b[0miteritems\u001b[0m\u001b[1;33m(\u001b[0m\u001b[1;33m)\u001b[0m\u001b[1;33m:\u001b[0m\u001b[1;33m\u001b[0m\u001b[0m\n\u001b[0m\u001b[0;32m      5\u001b[0m     \u001b[1;31m#series.extend([lut[0], lut[1], colours[lutname] + '.'])\u001b[0m\u001b[1;33m\u001b[0m\u001b[1;33m\u001b[0m\u001b[0m\n\u001b[0;32m      6\u001b[0m     \u001b[0mplt\u001b[0m\u001b[1;33m.\u001b[0m\u001b[0mplot\u001b[0m\u001b[1;33m(\u001b[0m\u001b[0mlut\u001b[0m\u001b[1;33m[\u001b[0m\u001b[1;36m0\u001b[0m\u001b[1;33m]\u001b[0m\u001b[1;33m,\u001b[0m \u001b[0mlut\u001b[0m\u001b[1;33m[\u001b[0m\u001b[1;36m1\u001b[0m\u001b[1;33m]\u001b[0m\u001b[1;33m,\u001b[0m \u001b[0mcolours\u001b[0m\u001b[1;33m[\u001b[0m\u001b[0mlutname\u001b[0m\u001b[1;33m]\u001b[0m \u001b[1;33m+\u001b[0m \u001b[1;34m'.'\u001b[0m\u001b[1;33m,\u001b[0m \u001b[0mlabel\u001b[0m\u001b[1;33m=\u001b[0m\u001b[0mlutname\u001b[0m\u001b[1;33m)\u001b[0m\u001b[1;33m\u001b[0m\u001b[0m\n",
        "\u001b[1;31mNameError\u001b[0m: name 'luts' is not defined"
       ]
      },
      {
       "metadata": {},
       "output_type": "display_data",
       "text": [
        "<matplotlib.figure.Figure at 0xa4489e8>"
       ]
      }
     ],
     "prompt_number": 1
    },
    {
     "cell_type": "code",
     "collapsed": false,
     "input": [
      "max(luts['green'][1]), min(luts['green'][1]), max(luts['green'][1]) - min(luts['green'][1])"
     ],
     "language": "python",
     "metadata": {},
     "outputs": [
      {
       "metadata": {},
       "output_type": "pyout",
       "prompt_number": 80,
       "text": [
        "(65535, 49279, 16256)"
       ]
      }
     ],
     "prompt_number": 80
    }
   ],
   "metadata": {}
  }
 ]
}