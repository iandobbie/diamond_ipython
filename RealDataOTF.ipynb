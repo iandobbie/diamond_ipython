{
 "metadata": {
  "name": "",
  "signature": "sha256:79c549dcd9039979be32b28c64c24fdaeeb888f59c9eda98f31d85cca45083ce"
 },
 "nbformat": 3,
 "nbformat_minor": 0,
 "worksheets": [
  {
   "cells": [
    {
     "cell_type": "code",
     "collapsed": false,
     "input": [
      "import matplotlib.pyplot as plt\n",
      "import Mrc\n",
      "import numpy as np\n",
      "import sliceViewer\n",
      "reload(sliceViewer)\n",
      "plt.rcParams['image.cmap'] = 'gray'\n",
      "\n",
      "dataPath = r'c:\\b24\\488_512_a2_tp1160_01.dv'\n",
      "\n",
      "# Load data\n",
      "data = Mrc.open(dataPath)\n",
      "zStack = data.readStack(data.hdr.Num[-1])\n",
      "\n",
      "zSummedPhases = np.zeros((data.hdr.Num[2]/5, data.hdr.Num[1], data.hdr.Num[0]))\n",
      "for i in range(data.hdr.Num[2]/5): zSummedPhases[i,:,:] = zStack[i * 5:5 + i * 5].sum(axis=0)\n",
      "\n",
      "# View separate and summed phases in real space.\n",
      "vStack = sliceViewer.SliceViewer(zStack, scaling=data.hdr.d[::-1])\n",
      "vSummed = sliceViewer.SliceViewer(zSummedPhases, scaling=data.hdr.d[::-1])\n",
      "\n",
      "# 2D Hanning window\n",
      "window = np.multiply(np.hanning(data.hdr.Num[0])[None,...], np.hanning(data.hdr.Num[1])[...,None])\n",
      "# Take 3D FFT of each image in ztack, applying window.\n",
      "kStack = np.fft.fftshift(np.fft.fftn(zStack * window[None,...]))\n",
      "#kStack = np.fft.fftshift(np.fft.fftn(zSummedPhases * window[None,...]))\n",
      "# Modulus and argument.\n",
      "kStackMod = np.multiply(kStack, kStack.conj()).real\n",
      "kStackArg = np.arctan(np.divide(kStack.imag, kStack.real)).real\n"
     ],
     "language": "python",
     "metadata": {},
     "outputs": [],
     "prompt_number": 62
    },
    {
     "cell_type": "code",
     "collapsed": false,
     "input": [
      "# View OTF of full data stack.\n",
      "kStackViewers = (sliceViewer.SliceViewer(kStackMod), sliceViewer.SliceViewer(kStackArg))"
     ],
     "language": "python",
     "metadata": {},
     "outputs": [],
     "prompt_number": 63
    },
    {
     "cell_type": "code",
     "collapsed": false,
     "input": [
      "# View the 5 phases seprately.\n",
      "# Data is ordered (z0, ph0), (z0, ph1) ... (zN, ph5).\n",
      "# Take every 5th image to extract Z-stack for each phase.\n",
      "zPhases = [zStack[i:zStack.shape[0]:5] for i in range(5)]\n",
      "zPhasesFT = [np.fft.fftshift(np.fft.fftn(phase)) for phase in zPhases]\n",
      "zPhasesMod = [np.multiply(ft, ft.conj()).real for ft in zPhasesFT]\n",
      "zPhasesArg = [np.arctan(np.divide(ft.imag, ft.real)).real for ft in zPhasesFT]\n",
      "views = [sliceViewer.SliceViewer(d) for d in zPhasesMod]"
     ],
     "language": "python",
     "metadata": {},
     "outputs": [],
     "prompt_number": 64
    },
    {
     "cell_type": "code",
     "collapsed": false,
     "input": [
      "# Separate the 0, +/-1 and +/-2 bands.\n",
      "window = np.multiply(np.hanning(data.hdr.Num[0])[None,...], np.hanning(data.hdr.Num[1])[...,None])\n",
      "#kStack = np.fft.fftshift(np.fft.fftn(zStack * window[None,...]))\n",
      "kStack = np.fft.fftn(zStack * window[None,...])\n",
      "kStackMod = np.multiply(kStack, kStack.conj()).real\n",
      "kStackArg = np.arctan(np.divide(kStack.imag, kStack.real)).real\n",
      "kStackViewers = (sliceViewer.SliceViewer(kStackMod), sliceViewer.SliceViewer(kStackArg))"
     ],
     "language": "python",
     "metadata": {},
     "outputs": [],
     "prompt_number": 65
    },
    {
     "cell_type": "code",
     "collapsed": false,
     "input": [
      "# Radially average about kz=0.\n",
      "# k-space co-ordinates\n",
      "ky, kx = np.ogrid[-kStack.shape[1]/2:kStack.shape[1]/2, -kStack.shape[2]/2:kStack.shape[2]/2]\n",
      "kz = np.ogrid[0:kStack.shape[0]]\n",
      "# Radius in k-space, shifted to match FFT.\n",
      "radius = np.fft.fftshift(np.hypot(kx, ky))\n",
      "# Assign each pixel to a bin in r_circ.\n",
      "r_circ = np.arange(kStack.shape[2]/2.)\n",
      "circles = np.digitize(radius.flat, r_circ + 0.5)\n",
      "# sum around circles\n",
      "s = np.array([[kStack[k].flat[circles==r].sum() for r in r_circ] for k in kz], 'complex')\n",
      "avg = np.divide(s, np.bincount(circles)[1:])\n",
      "avgMod = np.multiply(avg, avg.conj()).real\n",
      "avgArg = np.arctan(np.divide(avg.imag, avg.real)).real\n",
      "kz.shape, s.shape, avg.shape"
     ],
     "language": "python",
     "metadata": {},
     "outputs": [
      {
       "metadata": {},
       "output_type": "pyout",
       "prompt_number": 66,
       "text": [
        "((325L,), (325L, 128L), (325L, 128L))"
       ]
      }
     ],
     "prompt_number": 66
    },
    {
     "cell_type": "code",
     "collapsed": false,
     "input": [
      "plt.figure()\n",
      "plt.imshow(np.log10(avgMod), interpolation='none')\n",
      "plt.figure()\n",
      "plt.imshow(avgArg, interpolation='none')\n",
      "v = sliceViewer.SliceViewer(kStackMod)"
     ],
     "language": "python",
     "metadata": {},
     "outputs": [],
     "prompt_number": 67
    },
    {
     "cell_type": "code",
     "collapsed": false,
     "input": [
      "m0 = avgArg[0:64] + avgArg[-1:-65:-1]\n",
      "plt.figure()\n",
      "plt.imshow(np.log10(m0))"
     ],
     "language": "python",
     "metadata": {},
     "outputs": [
      {
       "metadata": {},
       "output_type": "pyout",
       "prompt_number": 68,
       "text": [
        "<matplotlib.image.AxesImage at 0x26a32240>"
       ]
      }
     ],
     "prompt_number": 68
    },
    {
     "cell_type": "code",
     "collapsed": false,
     "input": [
      "# Load and view a softwoRx OTF.\n",
      "swDataPath = r'c:\\b24\\488_512_a2_tp1160_01.otf'\n",
      "swData = Mrc.open(swDataPath)\n",
      "swStack = swData.readStack(swData.hdr.Num[-1])\n",
      "swMod = np.multiply(swStack, swStack.conj()).real\n",
      "swArg = np.arctan(np.divide(swStack.imag, swStack.real)).real\n",
      "swViews = (sliceViewer.SliceViewer(swMod), sliceViewer.SliceViewer(swArg))"
     ],
     "language": "python",
     "metadata": {},
     "outputs": [],
     "prompt_number": 70
    },
    {
     "cell_type": "code",
     "collapsed": false,
     "input": [
      "reload(sliceViewer)\n",
      "# Test radial averaging.\n",
      "test = np.zeros((6,256,256))\n",
      "radius = np.fft.fftshift(np.hypot(kx, ky))\n",
      "kz = np.arange(6)\n",
      "# Assign each pixel to a bin in r_circ.\n",
      "r_circ = np.arange(int(np.max(radius)))\n",
      "circles = np.digitize(radius.flat, r_circ)\n",
      "test = np.sin(np.divide(radius[None,:,:],1 + kz[:,None,None]))\n",
      "# sum around circles\n",
      "s = np.array([[test[k].flat[circles==r].sum() for r in r_circ] for k in kz])\n",
      "avg = np.divide(s, np.bincount(circles)[1:])\n",
      "#avgMod = np.multiply(avg, avg.conj()).real\n",
      "#avgArg = np.arctan(np.divide(avg.imag, avg.real)).real\n",
      "#kz.shape, s.shape, avg.shape\n",
      "#plt.imshow(np.log10(avgMod))\n",
      "plt.imshow(avg, aspect='auto', interpolation='none')\n",
      "v = sliceViewer.SliceViewer(test)"
     ],
     "language": "python",
     "metadata": {},
     "outputs": [],
     "prompt_number": 71
    }
   ],
   "metadata": {}
  }
 ]
}