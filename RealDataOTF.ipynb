{
 "metadata": {
  "name": "",
  "signature": "sha256:9b0f6d4c8f3340332d44eed2196b05c5703bd3fe2ab07711b9ea6e9d358ea0ae"
 },
 "nbformat": 3,
 "nbformat_minor": 0,
 "worksheets": [
  {
   "cells": [
    {
     "cell_type": "code",
     "collapsed": false,
     "input": [
      "import matplotlib.pyplot as plt\n",
      "import Mrc\n",
      "import numpy as np\n",
      "import sliceViewer\n",
      "reload(sliceViewer)\n",
      "plt.rcParams['image.cmap'] = 'gray'\n",
      "\n",
      "dataPath = r'c:\\b24\\488_512_a2_tp1160_01.dv'\n",
      "\n",
      "data = Mrc.open(dataPath)\n",
      "zStack = data.readStack(data.hdr.Num[-1])\n",
      "\n",
      "zSummedPhases = np.zeros((data.hdr.Num[2]/5, data.hdr.Num[1], data.hdr.Num[0]))\n",
      "for i in range(data.hdr.Num[2]/5): zSummedPhases[i,:,:] = zStack[i * 5:5 + i * 5].sum(axis=0)\n",
      "\n",
      "vStack = sliceViewer.SliceViewer(zStack)\n",
      "vSummed = sliceViewer.SliceViewer(zSummedPhases)"
     ],
     "language": "python",
     "metadata": {},
     "outputs": [],
     "prompt_number": 1
    },
    {
     "cell_type": "code",
     "collapsed": false,
     "input": [
      "# View OTF of full data stack.\n",
      "# 2D hanning window\n",
      "window = np.multiply(np.hanning(data.hdr.Num[0])[None,...], np.hanning(data.hdr.Num[1])[...,None])\n",
      "# Take 3D FFT of each image in ztack, applying window.\n",
      "kStack = np.fft.fftshift(np.fft.fftn(zStack * window[None,...]))\n",
      "#kStack = np.fft.fftshift(np.fft.fftn(zSummedPhases * window[None,...]))\n",
      "# Modulus and argument.\n",
      "kStackMod = np.multiply(kStack, kStack.conj()).real\n",
      "kStackArg = np.arctan(np.divide(kStack.imag, kStack.real)).real\n",
      "kStackViewers = (sliceViewer.SliceViewer(kStackMod), sliceViewer.SliceViewer(kStackArg))"
     ],
     "language": "python",
     "metadata": {},
     "outputs": [],
     "prompt_number": 27
    },
    {
     "cell_type": "code",
     "collapsed": false,
     "input": [
      "# View the 5 phases seprately.\n",
      "zPhases = [zStack[i:zStack.shape[0]:5] for i in range(5)]\n",
      "zPhasesFT = [np.fft.fftshift(np.fft.fftn(phase)) for phase in zPhases]\n",
      "zPhasesMod = [np.multiply(ft, ft.conj()).real for ft in zPhasesFT]\n",
      "zPhasesArg = [np.arctan(np.divide(ft.imag, ft.real)).real for ft in zPhasesFT]\n",
      "views = [sliceViewer.SliceViewer(d) for d in zPhasesMod]"
     ],
     "language": "python",
     "metadata": {},
     "outputs": [],
     "prompt_number": 142
    },
    {
     "cell_type": "code",
     "collapsed": false,
     "input": [
      "# Separate the 0, +/-1 and +/-2 bands.\n",
      "window = np.multiply(np.hanning(data.hdr.Num[0])[None,...], np.hanning(data.hdr.Num[1])[...,None])\n",
      "kStack = np.fft.fftn(zStack * window[None,...])\n",
      "\n",
      "kStackMod = np.multiply(kStack, kStack.conj()).real\n",
      "kStackArg = np.arctan(np.divide(kStack.imag, kStack.real)).real\n",
      "kStackViewers = (sliceViewer.SliceViewer(kStackMod), sliceViewer.SliceViewer(kStackArg))"
     ],
     "language": "python",
     "metadata": {},
     "outputs": [],
     "prompt_number": 2
    },
    {
     "cell_type": "code",
     "collapsed": false,
     "input": [
      "# Radially average about kz=0.\n",
      "ky, kx = np.ogrid[-kStack.shape[1]/2:kStack.shape[1]/2, -kStack.shape[2]/2:kStack.shape[2]/2]\n",
      "#ky, kx = np.ogrid[-32:32, -32:32]\n",
      "kxsq = np.power(kx, 2)\n",
      "kysq = np.power(ky, 2)\n",
      "kz = np.ogrid[0:kStack.shape[0]]\n",
      "ftAvg = np.zeros((kStack.shape[0], min(kStack.shape[1:2])), 'complex')\n",
      "#for r in np.arange(1, ftAvg.shape[1]):\n",
      "#    ftAvg[:,r] = np.mean(kStack[[Ellipsis] + list(np.where(np.logical_and(kxsq + kysq <= r**2, kxsq + kysq <= (r-1)**2)))], axis=1)\n",
      "\n",
      "\n",
      "circles = np.zeros((kStack.shape[1], kStack.shape[2]))\n",
      "nx, ny = kStack.shape[1:2]\n",
      "circles = np.sqrt( (ky % ny) - round(ky / ny, 0)\n",
      "count = np.zeros(kStack.shape[0])\n",
      "\n",
      "\n",
      "#plt.imshow(np.log(ftAvg.real))\n",
      "circles"
     ],
     "language": "python",
     "metadata": {},
     "outputs": [
      {
       "metadata": {},
       "output_type": "pyout",
       "prompt_number": 26,
       "text": [
        "array([[ 256.        ,  255.50146771,  255.00588229, ...,  254.51326095,\n",
        "         255.00588229,  255.50146771],\n",
        "       [ 255.50146771,  255.00196078,  254.50540269, ...,  254.01181075,\n",
        "         254.50540269,  255.00196078],\n",
        "       [ 255.00588229,  254.50540269,  254.00787389, ...,  253.51331326,\n",
        "         254.00787389,  254.50540269],\n",
        "       ..., \n",
        "       [ 254.51326095,  254.01181075,  253.51331326, ...,  253.01778594,\n",
        "         253.51331326,  254.01181075],\n",
        "       [ 255.00588229,  254.50540269,  254.00787389, ...,  253.51331326,\n",
        "         254.00787389,  254.50540269],\n",
        "       [ 255.50146771,  255.00196078,  254.50540269, ...,  254.01181075,\n",
        "         254.50540269,  255.00196078]])"
       ]
      }
     ],
     "prompt_number": 26
    },
    {
     "cell_type": "code",
     "collapsed": false,
     "input": [
      "ky, kx = np.ogrid[-3:3, -3:3]\n",
      "kysq = np.power(ky, 2)\n",
      "kxsq = np.power(kx, 2)\n",
      "zs = kStack[:,...]\n",
      "#np.where(np.logical_and(kxsq + kysq <= r**2, kxsq + kysq <= (r-1)**2))\n",
      "#circ = np.where(np.logical_and(kxsq + kysq <= r**2, kxsq + kysq <= (r-1)**2))\n",
      "#kStack[[Ellipsis] + list(np.where(np.logical_and(kxsq + kysq <= r**2, kxsq + kysq <= (r-1)**2)))].shape\n",
      "circ = kStack[[Ellipsis] + list(np.where(np.logical_and(kxsq + kysq <= r**2, kxsq + kysq <= (r-1)**2)))]\n",
      "np.mean(circ, axis=1).shape"
     ],
     "language": "python",
     "metadata": {},
     "outputs": [
      {
       "metadata": {},
       "output_type": "pyout",
       "prompt_number": 11,
       "text": [
        "(325L,)"
       ]
      }
     ],
     "prompt_number": 11
    },
    {
     "cell_type": "code",
     "collapsed": false,
     "input": [
      "# Load and view a softwoRx OTF.\n",
      "swDataPath = r'c:\\b24\\488_512_a2_tp1160_01.otf'\n",
      "swData = Mrc.open(swDataPath)\n",
      "swStack = swData.readStack(swData.hdr.Num[-1])\n",
      "swMod = np.multiply(swStack, swStack.conj()).real\n",
      "swArg = np.arctan(np.divide(swStack.imag, swStack.real)).real\n",
      "swViews = (sliceViewer.SliceViewer(swMod), sliceViewer.SliceViewer(swArg))"
     ],
     "language": "python",
     "metadata": {},
     "outputs": [],
     "prompt_number": 303
    }
   ],
   "metadata": {}
  }
 ]
}