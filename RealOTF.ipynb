{
 "metadata": {
  "name": "",
  "signature": "sha256:014e8b56df456f3a70baa34beb98651a926afac935f2aeb6c692eb973989bf49"
 },
 "nbformat": 3,
 "nbformat_minor": 0,
 "worksheets": [
  {
   "cells": [
    {
     "cell_type": "code",
     "collapsed": false,
     "input": [
      "import matplotlib.pyplot as plt\n",
      "import Mrc\n",
      "import numpy as np\n",
      "import sliceViewer\n",
      "plt.rcParams['image.cmap'] = 'gray'\n",
      "\n",
      "dataPath = r'c:\\b24\\488_512_a2_tp1160_01.dv'\n",
      "\n",
      "# Load data\n",
      "data = Mrc.open(dataPath)\n",
      "zStack = data.readStack(data.hdr.Num[-1])\n",
      "\n",
      "zSummedPhases = np.zeros((data.hdr.Num[2]/5, data.hdr.Num[1], data.hdr.Num[0]))\n",
      "for i in range(data.hdr.Num[2]/5): zSummedPhases[i,:,:] = zStack[i * 5:5 + i * 5].sum(axis=0)\n",
      "\n",
      "# View separate and summed phases in real space.\n",
      "#vStack = sliceViewer.SliceViewer(zStack, scaling=data.hdr.d[::-1])\n",
      "#vSummed = sliceViewer.SliceViewer(zSummedPhases, scaling=data.hdr.d[::-1])"
     ],
     "language": "python",
     "metadata": {},
     "outputs": [],
     "prompt_number": 1
    },
    {
     "cell_type": "code",
     "collapsed": false,
     "input": [
      "# 2D Hanning window\n",
      "window = np.multiply(np.hanning(data.hdr.Num[0])[None,...], np.hanning(data.hdr.Num[1])[...,None])\n",
      "# Take 3D FFT of each image in ztack, applying window.\n",
      "# The input data is real. Setting axes=(2,1,0) exploits this to\n",
      "# reduce the dimension of kz.\n",
      "\n",
      "#kStack = np.fft.rfftn(zStack * window[None,...], axes=(2,1,0))\n",
      "\n",
      "# Now radially average around 2D half-spaces.\n",
      "# Elements pair up in two half spaces in diagonally opposing\n",
      "# quadrants.\n",
      "# If a dimension has an even length, the 0th element is f=0,\n",
      "# and elements pair up [k] to [-k].\n",
      "# If a dimesion has an odd length, there is no f=0 element, and\n",
      "# elements pair up [k] to [-(k+1)].\n",
      "# We do not care about f=0.\n",
      "nky, nkx = kStack.shape[1:]\n",
      "# Indices into kx and ky.\n",
      "kx = np.array([(1 - nkx % 2) * [0] # ignore f=0\n",
      "               + range(1,(nkx+1)/2) + range((nkx+1)/2, 0, -1)])\n",
      "ky = np.array([(1 - nky % 2) * [0] # ignore f=0\n",
      "               + range(1,(nky+1)/2) + range((nky+1)/2, 0, -1)]).T\n",
      "kz = np.arange(kStack.shape[0], dtype=np.int64)\n",
      "\n",
      "# Each pixel is assigned to a bin with ID floor(radius).\n",
      "binID = np.floor(np.hypot(kx,ky)).astype(np.int64)\n",
      "# All points at f=0 go into bin zero, which we disregard.\n",
      "binID = np.where(np.logical_or(kx == 0, ky == 0), 0, binID)\n",
      "# If nk_ is even, the central element is at the Nyquist frequency\n",
      "# and contributes to both half-spaces.\n",
      "ind = np.indices((nky, nkx))\n",
      "q1 = np.where(np.logical_or(\n",
      "                np.logical_and(ind[0]<=nky/2, ind[1]>=nkx/2), \n",
      "                np.logical_and(ind[0]>=nky/2, ind[1]<=nkx/2)),\n",
      "                binID , 0)\n",
      "q2 = np.where(np.logical_or(\n",
      "                np.logical_and(ind[0]<=nky/2, ind[1]<=nkx/2),\n",
      "                np.logical_and(ind[0]>=nky/2, ind[1]>=nkx/2))\n",
      "                , binID , 0)\n",
      "\n",
      "nBins = np.arange(1,binID.max(), dtype=np.int64)\n",
      "q1s = np.array([[kStack[k].flat[q1.flat==n].sum() for n in nBins] for k in kz])\n",
      "count = np.bincount(binID.flat)\n",
      "\n",
      "#kStackMod = np.multiply(kStack, kStack.conj()).real\n",
      "#kStackArg = np.arctan(np.divide(kStack.imag, kStack.real)).real\n",
      "# Radial average\n",
      "# If kStack dimensions are(odd, odd, even):\n",
      "# kStack[kz-1, ky, kx] = conj(kStack[-kz, -ky, -kx])\n"
     ],
     "language": "python",
     "metadata": {},
     "outputs": [],
     "prompt_number": 392
    },
    {
     "cell_type": "code",
     "collapsed": false,
     "input": [
      "plt.imshow(np.angle(q1s))"
     ],
     "language": "python",
     "metadata": {},
     "outputs": [
      {
       "metadata": {},
       "output_type": "pyout",
       "prompt_number": 397,
       "text": [
        "<matplotlib.image.AxesImage at 0x17451400>"
       ]
      }
     ],
     "prompt_number": 397
    },
    {
     "cell_type": "code",
     "collapsed": false,
     "input": [
      "q1s"
     ],
     "language": "python",
     "metadata": {},
     "outputs": [
      {
       "metadata": {},
       "output_type": "pyout",
       "prompt_number": 373,
       "text": [
        "array([[  1.153e+08+2629969.342j,  -9.311e+06-2256867.324j,\n",
        "          1.895e+06 -968108.151j, ...,   1.414e+04 -146350.855j,\n",
        "          9.889e+04 +246025.893j,  -1.253e+05 -174372.501j],\n",
        "       [ -2.017e+06-1357719.787j,   2.421e+06+1368553.917j,\n",
        "         -6.068e+05 +509532.182j, ...,  -9.390e+02  +28904.004j,\n",
        "         -1.660e+04  -42675.967j,  -2.252e+03  +40037.686j],\n",
        "       [ -1.414e+05  +50328.723j,   1.991e+04 -201650.626j,\n",
        "         -2.539e+04 -379119.372j, ...,  -5.817e+03   -5422.337j,\n",
        "         -1.603e+04  +36428.304j,   1.416e+04  -33306.346j],\n",
        "       ..., \n",
        "       [  3.363e+04   -5179.391j,   9.127e+02   -3821.259j,\n",
        "         -5.148e+03   +3071.073j, ...,   1.673e+04   +1858.367j,\n",
        "         -3.066e+04   -3056.264j,   3.493e+04  -13491.351j],\n",
        "       [  5.475e+04   -8855.757j,  -3.099e+04   +9305.592j,\n",
        "         -4.069e+01   -5070.285j, ...,  -1.534e+03  -47935.147j,\n",
        "          1.149e+04  +46909.72j ,  -4.167e+03   -8651.073j],\n",
        "       [ -8.372e+03  +45156.895j,   2.239e+03  -42926.606j,\n",
        "          7.855e+03  +28289.691j, ...,   3.421e+04  -17870.607j,\n",
        "         -1.473e+04   -2421.664j,   1.096e+04   +4348.209j]])"
       ]
      }
     ],
     "prompt_number": 373
    },
    {
     "cell_type": "code",
     "collapsed": false,
     "input": [
      "kx.where"
     ],
     "language": "python",
     "metadata": {},
     "outputs": [
      {
       "ename": "AttributeError",
       "evalue": "'numpy.ndarray' object has no attribute 'where'",
       "output_type": "pyerr",
       "traceback": [
        "\u001b[1;31m---------------------------------------------------------------------------\u001b[0m\n\u001b[1;31mAttributeError\u001b[0m                            Traceback (most recent call last)",
        "\u001b[1;32m<ipython-input-218-680f556e072d>\u001b[0m in \u001b[0;36m<module>\u001b[1;34m()\u001b[0m\n\u001b[1;32m----> 1\u001b[1;33m \u001b[0mkx\u001b[0m\u001b[1;33m.\u001b[0m\u001b[0mwhere\u001b[0m\u001b[1;33m\u001b[0m\u001b[0m\n\u001b[0m",
        "\u001b[1;31mAttributeError\u001b[0m: 'numpy.ndarray' object has no attribute 'where'"
       ]
      }
     ],
     "prompt_number": 218
    },
    {
     "cell_type": "code",
     "collapsed": false,
     "input": [
      "binID[np.where(np.logical_and(kx > 0, ky > 0))]"
     ],
     "language": "python",
     "metadata": {},
     "outputs": [
      {
       "metadata": {},
       "output_type": "pyout",
       "prompt_number": 227,
       "text": [
        "array([1, 2, 3, 4, 3, 2, 1, 2, 2, 3, 4, 3, 2, 2, 3, 3, 4, 5, 4, 3, 3, 4, 4,\n",
        "       5, 5, 5, 4, 4, 3, 3, 4, 5, 4, 3, 3, 2, 2, 3, 4, 3, 2, 2, 1, 2, 3, 4,\n",
        "       3, 2, 1], dtype=int64)"
       ]
      }
     ],
     "prompt_number": 227
    },
    {
     "cell_type": "code",
     "collapsed": false,
     "input": [],
     "language": "python",
     "metadata": {},
     "outputs": []
    }
   ],
   "metadata": {}
  }
 ]
}