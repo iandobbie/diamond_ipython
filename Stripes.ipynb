{
 "metadata": {
  "name": "",
  "signature": "sha256:8bb85fad5723f6fbdafa6ae2a952b51213bfe6b9e47dd904c58ccc220170664c"
 },
 "nbformat": 3,
 "nbformat_minor": 0,
 "worksheets": [
  {
   "cells": [
    {
     "cell_type": "code",
     "collapsed": false,
     "input": [
      "from numpy import sin, cos, pi, meshgrid, rint, ushort\n",
      "import numpy as np\n",
      "import matplotlib.pyplot as plt\n",
      "TWO_PI = 2 * pi"
     ],
     "language": "python",
     "metadata": {},
     "outputs": [],
     "prompt_number": 1
    },
    {
     "cell_type": "code",
     "collapsed": false,
     "input": [
      "realpitch = 300.\n",
      "pixel_pitch = 15\n",
      "angle_offset = TWO_PI / 5\n",
      "num_angles = 3\n",
      "angles =[angle_offset + n * TWO_PI / num_angles\n",
      "                    for n in xrange(num_angles)]\n",
      "phase = pi/2\n",
      "patternparms = [(realpitch, angles[0], phase, 0), \n",
      "                (realpitch, angles[1], phase, 0),\n",
      "                (realpitch, angles[2], phase, 0)]\n",
      "pixels=512\n",
      "xindices = np.arange(pixels)\n",
      "yindices = np.arange(pixels)\n",
      "\n",
      "\n",
      "# Factor to balance m=0,+/-1 orders.\n",
      "mp2 = 1.5 \n",
      "kk, ll = meshgrid(xindices, yindices)\n",
      "sequence = []\n",
      "modulation = 65535\n",
      "for realpitch, angle, phase, wavelength in patternparms:\n",
      "    # short name for phase\n",
      "    ph = phase\n",
      "    # short name for angle\n",
      "    th = angle\n",
      "    # short name for pitch in pixel units\n",
      "    p = realpitch / pixel_pitch\n",
      "    # centre of 16-bit range\n",
      "    c = 32767.5\n",
      "    # Create a stripe 16-bit pattern\n",
      "    pattern16 = np.ushort(\n",
      "        rint(\n",
      "            c + (modulation / 2) * cos(\n",
      "                ph + TWO_PI * (cos(th) * kk + sin(th) * ll)\n",
      "                / p)\n",
      "            ))\n",
      "    \n",
      "    #pitch = realpitch / 15.0\n",
      "    #pattern = np.ushort(\n",
      "    #        rint(32767.5 + 32767.5 * (mp2 / pi) * cos(\n",
      "    #            phase + 2. * pi * (kk * cos(angle) + ll * sin(angle)) / pitch)\n",
      "    #            )\n",
      "    #        )\n",
      "    # Scale to green LUT range\n",
      "    #pattern *= (16256. / 65536.)\n",
      "    #pattern += 49279\n",
      "    sequence.append(pattern16)\n",
      "\n",
      "fig, ax = plt.subplots(3,2)\n",
      "for i in xrange(3):\n",
      "    implot = ax[i][0].imshow(sequence[i])\n",
      "    implot.set_cmap('gray')\n",
      "    implot = ax[i][1].imshow(np.log10(np.abs(np.fft.fftshift(np.fft.fft2(sequence[i])))))\n",
      "    implot.set_cmap('gray')\n"
     ],
     "language": "python",
     "metadata": {},
     "outputs": [],
     "prompt_number": 43
    },
    {
     "cell_type": "code",
     "collapsed": false,
     "input": [],
     "language": "python",
     "metadata": {},
     "outputs": []
    }
   ],
   "metadata": {}
  }
 ]
}