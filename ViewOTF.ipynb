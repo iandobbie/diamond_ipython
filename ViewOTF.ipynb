{
 "metadata": {
  "name": "",
  "signature": "sha256:3bbe996187f85c76c5d04dada059cd60511506dd6c5850aadd983f2fe19a549d"
 },
 "nbformat": 3,
 "nbformat_minor": 0,
 "worksheets": [
  {
   "cells": [
    {
     "cell_type": "code",
     "collapsed": false,
     "input": [
      "# Load and view a softwoRx OTF.\n",
      "from PyQt4 import QtCore, QtGui\n",
      "import Mrc\n",
      "import numpy as np\n",
      "import matplotlib.pyplot as plt\n",
      "import os.path\n",
      "import sys\n",
      "plt.rcParams['image.cmap'] = 'gray'\n",
      "app=QtGui.QApplication.instance()\n",
      "if not app:\n",
      "    app = QtGui.QApplication(sys.argv)\n",
      "if not globals().get('path'):\n",
      "    path = '.'\n",
      "\n",
      "    \n",
      "def gamma(data, gamma):\n",
      "    return data.max() * np.power(data / data.max(), gamma)"
     ],
     "language": "python",
     "metadata": {},
     "outputs": [],
     "prompt_number": 61
    },
    {
     "cell_type": "code",
     "collapsed": false,
     "input": [
      "swDataPath = str(QtGui.QFileDialog.getOpenFileName(None, \"Select data file...\", path))\n",
      "path = os.path.dirname(swDataPath)\n",
      "swData = Mrc.open(swDataPath)\n",
      "swStack = swData.readStack(swData.hdr.Num[-1])\n",
      "swMod = np.abs(swStack)\n",
      "swArg = np.angle(swStack)\n",
      "fig, axes = plt.subplots(2, len(swMod))\n",
      "for i, axis in enumerate(axes[0]):\n",
      "    img = axis.imshow(np.flipud(gamma(swMod[i,...], 0.6)))\n",
      "    axis.set_xticks([])\n",
      "    axis.set_yticks([])\n",
      "    img.set_clim(0, 0.3)\n",
      "for band, axis in enumerate(axes[1]):\n",
      "    #axis.imshow(np.flipud(np.angle(avg[band].T)))\n",
      "    img = axis.imshow(np.flipud(swArg[i,...]))\n",
      "    img.set_clim(-.1, .1)\n",
      "    axis.set_xticks([])\n",
      "    axis.set_yticks([])"
     ],
     "language": "python",
     "metadata": {},
     "outputs": [],
     "prompt_number": 86
    },
    {
     "cell_type": "code",
     "collapsed": false,
     "input": [],
     "language": "python",
     "metadata": {},
     "outputs": []
    }
   ],
   "metadata": {}
  }
 ]
}