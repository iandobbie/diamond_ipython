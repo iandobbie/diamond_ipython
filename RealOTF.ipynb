{
 "metadata": {
  "name": "",
  "signature": "sha256:75badbeeafbf0b90fff06fa3cdfc5b4ce277dd14ea30247ed786d813c89e0c2e"
 },
 "nbformat": 3,
 "nbformat_minor": 0,
 "worksheets": [
  {
   "cells": [
    {
     "cell_type": "code",
     "collapsed": false,
     "input": [
      "from scipy import stats\n",
      "import matplotlib.pyplot as plt\n",
      "import Mrc\n",
      "import numpy as np\n",
      "import sliceViewer\n",
      "plt.rcParams['image.cmap'] = 'gray'\n",
      "\n",
      "dataPath = r'c:\\b24\\488_512_a2_tp1160_01.dv'\n",
      "\n",
      "nPhases = 5\n",
      "nOrders = 3\n",
      "\n",
      "# Load data\n",
      "data = Mrc.open(dataPath)\n",
      "zStack = data.readStack(data.hdr.Num[-1])\n",
      "\n",
      "# Separate out the phases.\n",
      "phaseStack = np.empty_like(zStack).reshape(\n",
      "                    (nPhases,-1,zStack.shape[-2],zStack.shape[-1]))\n",
      "\n",
      "for i in range(nPhases):\n",
      "    phaseStack[i,:,...] = zStack[i::nPhases,...]\n",
      "\n",
      "\n",
      "# Make band-separation matrix    \n",
      "sepMatrix=np.zeros((nPhases, nPhases), dtype=np.float)\n",
      "phi= 2 * np.pi / nPhases\n",
      "for j in range (0, nPhases):\n",
      "    sepMatrix[0][j] = 1.0 / nPhases\n",
      "    for i in range (1, nOrders):\n",
      "        sepMatrix[2*i-1][j] = 2.0 * np.cos(j * i * phi) / nPhases\n",
      "        sepMatrix[2*i][j] = 2.0 * np.sin(j * i * phi) / nPhases\n",
      "    \n",
      "# Separate out the bands.\n",
      "bandStack = np.zeros_like(phaseStack, dtype=np.float64)\n",
      "for i in range(nPhases):\n",
      "    bandStack[i,...] = np.sum(\n",
      "            phaseStack[0:nPhases,...] * sepMatrix[i, 0:nPhases, None, None, None],\n",
      "            axis=0)"
     ],
     "language": "python",
     "metadata": {},
     "outputs": [],
     "prompt_number": 357
    },
    {
     "cell_type": "code",
     "collapsed": false,
     "input": [
      "viewData = np.abs(kBands) #np.arctan(kBands.imag / kBands.real)\n",
      "viewData = [np.angle(kBands[1,...] + kBands[2,...])]\n",
      "v = [sliceViewer.SliceViewer(view) for view in viewData]"
     ],
     "language": "python",
     "metadata": {},
     "outputs": [],
     "prompt_number": 377
    },
    {
     "cell_type": "code",
     "collapsed": false,
     "input": [
      "kBands = np.fft.fftn(bandStack, axes=(3, 2, 1))"
     ],
     "language": "python",
     "metadata": {},
     "outputs": [],
     "prompt_number": 364
    },
    {
     "cell_type": "code",
     "collapsed": false,
     "input": [
      "# 2D Hanning window\n",
      "window = np.multiply(np.hanning(data.hdr.Num[0])[None,...], np.hanning(data.hdr.Num[1])[...,None])\n",
      "# Take 3D FFT of each image in ztack, applying window.\n",
      "# The input data is real. Setting axes=(2,1,0) exploits this to\n",
      "# reduce the dimension of kz.\n",
      "#kStack = np.fft.rfftn(zStack * window[None,...], axes=(2,1,0))\n",
      "kStack = kBands[0]\n",
      "kStackMod = np.abs(kStack)\n",
      "kStackArg = np.arctan(kStack.imag / kStack.real) # np.angle(kStack)\n",
      "\n",
      "# Now radially average around 2D half-spaces.\n",
      "# FFT elements are complex. The argument is additive, but\n",
      "# the modulus is multiplicative. Thus we need to take:\n",
      "# * for the average modulus, either the geometric mean of the\n",
      "#   complex values, or the arithmetic mean of their modulii;\n",
      "# * for the average argument, either the arithmetic mean of the\n",
      "#   complex values, or \n",
      "# Elements pair up in two half spaces in diagonally opposing\n",
      "# quadrants.\n",
      "# If a dimension has an even length, the 0th element is f=0,\n",
      "# and elements pair up [k] to [-k].\n",
      "# If a dimesion has an odd length, there is no f=0 element, and\n",
      "# elements pair up [k] to [-(k+1)].\n",
      "# We do not care about f=0.\n",
      "nky, nkx = kStack.shape[-2:]\n",
      "# Indices into kx and ky.\n",
      "kx = np.array([(1 - nkx % 2) * [0] # ignore f=0\n",
      "               + range(1,(nkx+1)/2) + range((nkx+1)/2, 0, -1)])\n",
      "ky = np.array([(1 - nky % 2) * [0] # ignore f=0\n",
      "               + range(1,(nky+1)/2) + range((nky+1)/2, 0, -1)]).T\n",
      "kz = np.arange(kStack.shape[0], dtype=np.int64)\n",
      "\n",
      "# Each pixel is assigned to a bin with ID floor(radius).\n",
      "binID = np.floor(np.hypot(kx,ky)).astype(np.int64)\n",
      "# All points at f=0 go into bin zero, which we disregard.\n",
      "binID = np.where(np.logical_or(kx == 0, ky == 0), 0, binID)\n",
      "# If nk_ is even, the central element is at the Nyquist frequency\n",
      "# and contributes to both half-spaces.\n",
      "ind = np.indices((nky, nkx))\n",
      "q1 = np.where(np.logical_or(\n",
      "                np.logical_and(ind[0]<=nky/2, ind[1]>=nkx/2), \n",
      "                np.logical_and(ind[0]>=nky/2, ind[1]<=nkx/2)),\n",
      "                binID , 0)\n",
      "q2 = np.where(np.logical_or(\n",
      "                np.logical_and(ind[0]<=nky/2, ind[1]<=nkx/2),\n",
      "                np.logical_and(ind[0]>=nky/2, ind[1]>=nkx/2))\n",
      "                , binID , 0)\n",
      "\n",
      "nBins = np.arange(1,binID.max(), dtype=np.int64)\n",
      "q1gmean = np.array([[stats.gmean(kStack[k].flat[q1.flat==n]) for n in nBins] for k in kz])\n",
      "q1amean = np.array([[np.mean(kStack[k].flat[q1.flat==n]) for n in nBins] for k in kz])\n",
      "count = np.bincount(binID.flat)\n",
      "q1Mod = np.array([[np.mean(kStackMod[k].flat[q1.flat==n]) for n in nBins] for k in kz])\n",
      "q1Arg = np.array([[np.mean(kStackArg[k].flat[q1.flat==n]) for n in nBins] for k in kz])\n",
      "\n",
      "#kStackMod = np.multiply(kStack, kStack.conj()).real\n",
      "#kStackArg = np.arctan(np.divide(kStack.imag, kStack.real)).real\n",
      "# Radial average\n",
      "# If kStack dimensions are(odd, odd, even):\n",
      "# kStack[kz-1, ky, kx] = conj(kStack[-kz, -ky, -kx])\n"
     ],
     "language": "python",
     "metadata": {},
     "outputs": [],
     "prompt_number": 360
    },
    {
     "cell_type": "code",
     "collapsed": false,
     "input": [
      "plt.figure()\n",
      "plt.imshow(np.log10(q1Mod))\n",
      "plt.figure()\n",
      "plt.imshow(q1Arg)"
     ],
     "language": "python",
     "metadata": {},
     "outputs": [
      {
       "metadata": {},
       "output_type": "pyout",
       "prompt_number": 361,
       "text": [
        "<matplotlib.image.AxesImage at 0x52b2f940>"
       ]
      }
     ],
     "prompt_number": 361
    },
    {
     "cell_type": "code",
     "collapsed": false,
     "input": [
      "#q1gmean = np.array([[stats.gmean(kStack[k].flat[q1.flat==n]) for n in nBins] for k in kz])\n",
      "#q1amean = np.array([[np.mean(kStack[k].flat[q1.flat==n]) for n in nBins] for k in kz])\n",
      "#q1Arg = np.array([[np.mean(kStackArg[k].flat[q1.flat==n]) for n in nBins] for k in kz])\n",
      "q1Arg = np.arctan(q1amean.imag / q1amean.real)\n",
      "plt.figure()\n",
      "plt.imshow(np.unwrap(q1Arg, axis=1))"
     ],
     "language": "python",
     "metadata": {},
     "outputs": [
      {
       "metadata": {},
       "output_type": "pyout",
       "prompt_number": 83,
       "text": [
        "<matplotlib.image.AxesImage at 0x2aa17278>"
       ]
      }
     ],
     "prompt_number": 83
    },
    {
     "cell_type": "code",
     "collapsed": false,
     "input": [
      "kStackArg = np.array(np.arctan(kStack.imag / kStack.real))\n",
      "v = sliceViewer.SliceViewer(kStackArg)"
     ],
     "language": "python",
     "metadata": {},
     "outputs": [],
     "prompt_number": 94
    },
    {
     "cell_type": "code",
     "collapsed": false,
     "input": [
      "plt.imshow(np.unwrap(q1Arg, np.pi/2, 0))"
     ],
     "language": "python",
     "metadata": {},
     "outputs": [
      {
       "metadata": {},
       "output_type": "pyout",
       "prompt_number": 67,
       "text": [
        "<matplotlib.image.AxesImage at 0x291e76d8>"
       ]
      }
     ],
     "prompt_number": 67
    },
    {
     "cell_type": "code",
     "collapsed": false,
     "input": [
      "# Load and view a softwoRx OTF.\n",
      "swDataPath = r'c:\\b24\\488_512_a2_tp1160_01.otf'\n",
      "swData = Mrc.open(swDataPath)\n",
      "swStack = swData.readStack(swData.hdr.Num[-1])\n",
      "swMod = np.multiply(swStack, swStack.conj()).real\n",
      "swArg = np.angle(swStack)#np.arctan(np.divide(swStack.imag, swStack.real)).real\n",
      "swViews = (sliceViewer.SliceViewer(swMod), sliceViewer.SliceViewer(swArg))"
     ],
     "language": "python",
     "metadata": {},
     "outputs": [],
     "prompt_number": 81
    },
    {
     "cell_type": "code",
     "collapsed": false,
     "input": [
      "bandStack.shape"
     ],
     "language": "python",
     "metadata": {},
     "outputs": [
      {
       "metadata": {},
       "output_type": "pyout",
       "prompt_number": 368,
       "text": [
        "(5L, 65L, 256L, 256L)"
       ]
      }
     ],
     "prompt_number": 368
    },
    {
     "cell_type": "code",
     "collapsed": false,
     "input": [],
     "language": "python",
     "metadata": {},
     "outputs": []
    }
   ],
   "metadata": {}
  }
 ]
}