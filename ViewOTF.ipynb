{
 "metadata": {
  "name": "",
  "signature": "sha256:7b53dfa0b502e0e8d9b49343f48213f8fcc20093b5d8f7679e989aeb8b2b5633"
 },
 "nbformat": 3,
 "nbformat_minor": 0,
 "worksheets": [
  {
   "cells": [
    {
     "cell_type": "code",
     "collapsed": false,
     "input": [
      "# Load and view a softwoRx OTF.\n",
      "from PyQt4 import QtCore, QtGui\n",
      "import Mrc\n",
      "import numpy as np\n",
      "import matplotlib.pyplot as plt\n",
      "import os.path\n",
      "import sys\n",
      "plt.rcParams['image.cmap'] = 'gray'\n",
      "app=QtGui.QApplication.instance()\n",
      "if not app:\n",
      "    app = QtGui.QApplication(sys.argv)\n",
      "if not globals().get('path'):\n",
      "    path = '.'\n"
     ],
     "language": "python",
     "metadata": {},
     "outputs": [],
     "prompt_number": 62
    },
    {
     "cell_type": "code",
     "collapsed": false,
     "input": [
      "swDataPath = str(QtGui.QFileDialog.getOpenFileName(None, \"Select data file...\", path))\n",
      "path = os.path.dirname(swDataPath)\n",
      "swData = Mrc.open(swDataPath)\n",
      "swStack = swData.readStack(swData.hdr.Num[-1])\n",
      "swMod = np.multiply(swStack, swStack.conj()).real\n",
      "swArg = np.arctan(np.divide(swStack.imag, swStack.real)).real\n",
      "fig, axes = plt.subplots(2, len(swMod))\n",
      "for i, axis in enumerate(axes[0]):\n",
      "    #axis.imshow(np.flipud(np.log(np.abs(avg[band].T))))\n",
      "    axis.imshow(np.flipud(np.log(swMod[i,...])))\n",
      "    axis.set_xticks([])\n",
      "    axis.set_yticks([])\n",
      "for band, axis in enumerate(axes[1]):\n",
      "    #axis.imshow(np.flipud(np.angle(avg[band].T)))\n",
      "    axis.imshow(np.flipud(swArg[i,...]))\n",
      "    axis.set_xticks([])\n",
      "    axis.set_yticks([])"
     ],
     "language": "python",
     "metadata": {},
     "outputs": [],
     "prompt_number": 65
    },
    {
     "cell_type": "code",
     "collapsed": false,
     "input": [],
     "language": "python",
     "metadata": {},
     "outputs": []
    }
   ],
   "metadata": {}
  }
 ]
}