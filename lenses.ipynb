{
 "metadata": {
  "name": "",
  "signature": "sha256:e03c6dd77e3182da810fa57949be1376aac46521daa642082377585b440c132a"
 },
 "nbformat": 3,
 "nbformat_minor": 0,
 "worksheets": [
  {
   "cells": [
    {
     "cell_type": "code",
     "collapsed": false,
     "input": [
      "import numpy as np\n",
      "import matplotlib.pyplot as plt\n",
      "\n",
      "## Objective parameters\n",
      "# reference tube length\n",
      "fRef = 200.\n",
      "fObj = 2.\n",
      "mRef = mRef = fRef / fObj\n",
      "\n",
      "# tube lens\n",
      "fTube = 200.\n",
      "\n",
      "# deformable mirror telescope lens\n",
      "fTele = 175.\n",
      "\n",
      "# detector pixel pitch\n",
      "ccdPitch = 16e-6\n",
      "\n",
      "# image-forming lens\n",
      "fCam = np.arange(100,300, 0.5)\n",
      "\n",
      "# SLM pixel size\n",
      "slmPitch = 15e-6\n",
      "\n",
      "# SLM telescope lenses ratio\n",
      "slmTele = np.arange(0.3, 3, 0.1)\n"
     ],
     "language": "python",
     "metadata": {},
     "outputs": [],
     "prompt_number": 1
    },
    {
     "cell_type": "code",
     "collapsed": false,
     "input": [
      "# total image magnification\n",
      "mTot = mRef * (fTube / fRef) * (fCam / fTele)\n",
      "\n",
      "# image space pixel size\n",
      "ccdPixel = ccdPitch / mTot\n",
      "\n",
      "# plot the image mag. and pixel pitch with camera lens f.\n",
      "fig, axLeft = plt.subplots()\n",
      "axLeft.minorticks_on()\n",
      "axLeft.set_xlabel('camera lens f')\n",
      "\n",
      "axLeft.plot(fCam, mTot)\n",
      "axLeft.set_ylabel('image magnification', color='b')\n",
      "\n",
      "axRight = axLeft.twinx()\n",
      "axRight.plot(fCam, ccdPixel, 'r')\n",
      "axRight.set_ylabel('image-space CCD pixel size', color='r')\n",
      "axRight.ticklabel_format(axis='y', style='sci') \n",
      "axLeft.grid(True, 'both', 'both')\n"
     ],
     "language": "python",
     "metadata": {},
     "outputs": [],
     "prompt_number": 2
    },
    {
     "cell_type": "code",
     "collapsed": false,
     "input": [
      "# slm magnification\n",
      "mSLM = mRef * (fTube / fRef) * slmTele\n",
      "\n",
      "# slm pixel size\n",
      "slmPixel = slmPitch / mSLM\n",
      "\n",
      "# plot the slm mag. and pixel pitch with slm telescope ratio.\n",
      "fig, axLeft = plt.subplots()\n",
      "axLeft.minorticks_on()\n",
      "\n",
      "axLeft.plot(slmTele, mSLM)\n",
      "axLeft.set_ylabel('slm magnification', color='k')\n",
      "axLeft.set_xlabel('slm telescope ratio')\n",
      "\n",
      "axRight = axLeft.twinx()\n",
      "axRight.plot(slmTele, slmPixel, 'r')\n",
      "axRight.set_ylabel('image-space SLM pixel size', color='m')\n",
      "axRight.ticklabel_format(axis='y', style='sci') \n",
      "axLeft.grid(True, 'both', 'both')\n"
     ],
     "language": "python",
     "metadata": {},
     "outputs": [],
     "prompt_number": 3
    },
    {
     "cell_type": "code",
     "collapsed": false,
     "input": [
      "## Lens assemblies: \n",
      "# A lens in a mount is held in place by an annulus.\n",
      "\n",
      "# Lens front radius curvature.\n",
      "r1 = 121.712\n",
      "# Total lens thickness at centre.\n",
      "tc = 6.3\n",
      "# Annulus inner diameter\n",
      "anDia = 23.8\n",
      "# Annulus thicknes\n",
      "anTh = 1.\n",
      "# Mount depth\n",
      "mDepth = 10.2\n",
      "\n",
      "# Lens centre to aperture plane: -ve = protruding; +ve = recessed.\n",
      "p = -0.5 * (2 * r1 + -1 * np.sign(r1) * np.sqrt( (4 * r1**2) - anDia**2))\n",
      "\n",
      "# Mount front to lens centre: -ve = protruding; +ve = recessed.\n",
      "dFFL = anTh + p\n",
      "# Mount back to lens centre: +ve = protruding; -ve = recessed.\n",
      "dBFL = mDepth - (tc + dFFL)\n",
      "dFFL, dBFL"
     ],
     "language": "python",
     "metadata": {},
     "outputs": [
      {
       "metadata": {},
       "output_type": "pyout",
       "prompt_number": 59,
       "text": [
        "(0.41686090441038459, 3.4831390955896149)"
       ]
      }
     ],
     "prompt_number": 59
    },
    {
     "cell_type": "code",
     "collapsed": false,
     "input": [],
     "language": "python",
     "metadata": {},
     "outputs": []
    }
   ],
   "metadata": {}
  }
 ]
}