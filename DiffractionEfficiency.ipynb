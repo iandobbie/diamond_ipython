{
 "metadata": {
  "name": "",
  "signature": "sha256:b84ae4be344b53d7d015e9bd81927a84602cfef294aaa61dec1a5e669890d936"
 },
 "nbformat": 3,
 "nbformat_minor": 0,
 "worksheets": [
  {
   "cells": [
    {
     "cell_type": "code",
     "collapsed": false,
     "input": [
      "from scipy.special import jn\n",
      "from numpy import arange, pi, where, zeros\n",
      "from matplotlib import pyplot as plt\n",
      "from matplotlib.widgets import Cursor\n",
      "import numpy as np\n",
      "\n",
      "font = {'family' : 'serif'}\n",
      "#        'size'   : 22}\n",
      "#matplotlib.rc('font', font)\n",
      "\n",
      "N_PNTS = 512\n",
      "X_RANGE = 2 * pi\n",
      "\n",
      "d_phi = arange(0, X_RANGE, X_RANGE / N_PNTS)\n",
      "m0 = zeros(N_PNTS)\n",
      "m1 = zeros(N_PNTS)\n",
      "m0_1 = zeros(N_PNTS)\n",
      "\n",
      "m0 = jn(0, d_phi/2)**2\n",
      "m1 = jn(1, d_phi/2)**2\n",
      "target_index = where(d_phi < 2 * pi, abs(m0 - (2 * m1)), np.inf).argmin()\n",
      "\n",
      "\n",
      "fig = plt.figure()#figsize=(16,12), dpi=100)\n",
      "plt.title('diffraction efficiency of a sinusoidal phase grating')\n",
      "plt.xlabel('modulation depth, $\\phi$')\n",
      "plt.ylabel('efficiency, $\\eta$')\n",
      "plt.plot(d_phi, m0, 'b-', label = '$m = 0$')\n",
      "plt.plot(d_phi, m1, 'r-', label = '$m = \\pm1$')\n",
      "\n",
      "plt.vlines(d_phi[target_index], 0, 1, 'r', '--')\n",
      "plt.text(1.1 * d_phi[target_index], 0.5, \n",
      "         '$\\eta_{m=0} \\ = \\ \\eta_{m=+1} + \\eta_{m=-1}$\\n' + \\\n",
      "         '$%.2f%%$ at $%.3f\\pi$ ($%.1f^{\\circ}$)' % \n",
      "         (m0[target_index], \n",
      "          d_phi[target_index] / pi,\n",
      "          180 * d_phi[target_index] / pi))\n",
      "\n",
      "plt.legend(title='order, $m$', loc=1)\n",
      "plt.xticks([0, pi/2, pi, 3*pi/2, 2*pi],\n",
      "           #['$0$', r'$\\frac{\\pi}{2}$', r'$\\pi$', r'$\\frac{3\\pi}{2}$', r'$2\\pi$'],\n",
      "           [r'$0$', r'$\\pi/2$', r'$\\pi$', r'$3\\pi/2$', r'$2\\pi$'],\n",
      "           )\n",
      "cursor = Cursor(fig.axes[0], useblit=True, color='red', linewidth=2 )\n",
      "fig.show()"
     ],
     "language": "python",
     "metadata": {},
     "outputs": [],
     "prompt_number": 10
    }
   ],
   "metadata": {}
  }
 ]
}