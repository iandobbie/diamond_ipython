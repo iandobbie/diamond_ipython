{
 "metadata": {
  "name": "",
  "signature": "sha256:41840f35450f5a8663004f6c0fab95a4faf0fe5433353fd1109678ad5e11399d"
 },
 "nbformat": 3,
 "nbformat_minor": 0,
 "worksheets": [
  {
   "cells": [
    {
     "cell_type": "code",
     "collapsed": false,
     "input": [
      "import numpy as np\n",
      "import matplotlib\n",
      "import matplotlib.pyplot as plt\n",
      "import scipy.ndimage.filters as filters\n",
      "\n",
      "plt.rcParams['image.cmap'] = 'gray'\n",
      "\n",
      "pixelSizes = (110e-9, 110e-9, 125e-9)\n",
      "stackDims = (256, 256, 25)\n",
      "pBead = 0.00001\n",
      "\n",
      "zStack = (np.random.rand(*stackDims) < pBead).astype(float)\n",
      "        \n",
      "psf = np.zeros((32, 32, 7))\n",
      "for z in range(7):\n",
      "    for x in range(32):\n",
      "        for y in range(32):\n",
      "            # np.exp(-4*np.log(2) * ((x-x0)**2 + (y-y0)**2) / fwhm**2)\n",
      "            zOffset = abs(z-3)\n",
      "            psf[x][y][z] = (1. / (zOffset**2 + 1)) * np.exp(-4*np.log(2) * ((x-15)**2 + (y-15)**2) / (4 * zOffset + 1)**2)\n",
      "        \n",
      "\n"
     ],
     "language": "python",
     "metadata": {},
     "outputs": [],
     "prompt_number": 28
    },
    {
     "cell_type": "code",
     "collapsed": false,
     "input": [
      "stackFT = np.fft.fftn(zStack)\n",
      "otf = np.fft.fftn(psf)\n",
      "img = filters.convolve(zStack, psf)\n"
     ],
     "language": "python",
     "metadata": {},
     "outputs": [],
     "prompt_number": 30
    },
    {
     "cell_type": "code",
     "collapsed": false,
     "input": [
      "source = img #stackFT.real #zStack\n",
      "projections = [source.sum(i) for i in range(3)]\n",
      "f = plt.figure()\n",
      "gs = matplotlib.gridspec.GridSpec(2,2)\n",
      "gs.set_height_ratios( (1, 0.2))#max(0.1, stackDims[2] / stackDims[0]) ))\n",
      "gs.set_width_ratios( (0.2, 1)) #(max(0.05, stackDims[2] / stackDims[1]), 1 ))\n",
      "aXY = f.add_subplot(gs[0, 1], axisbg='#bbbbbb')\n",
      "aYZ = f.add_subplot(gs[0, 0], sharey=aXY, axisbg='#bbbbbb')\n",
      "aXZ = f.add_subplot(gs[1, 1], sharex=aXY, axisbg='#bbbbbb')\n",
      "projAxes = [aYZ, aXZ, aXY]\n",
      "aYZ.imshow(projections[0], interpolation='none')\n",
      "aXZ.imshow(projections[1].T, interpolation='none')\n",
      "aXY.imshow(projections[2].T, interpolation='none')\n",
      "aXY.xaxis.set_visible(False)\n",
      "aXY.yaxis.set_visible(False)\n",
      "aYZ.xaxis.set_visible(False)\n",
      "aXZ.yaxis.set_visible(False)\n",
      "aXY.invert_yaxis()\n",
      "for a in projAxes:\n",
      "    a.set_aspect('auto')\n",
      "aXY.set_aspect('equal')\n",
      "\n",
      "gs.tight_layout(f, h_pad=0.0, w_pad=0.0 )"
     ],
     "language": "python",
     "metadata": {},
     "outputs": [],
     "prompt_number": 31
    },
    {
     "cell_type": "code",
     "collapsed": false,
     "input": [],
     "language": "python",
     "metadata": {},
     "outputs": []
    }
   ],
   "metadata": {}
  }
 ]
}