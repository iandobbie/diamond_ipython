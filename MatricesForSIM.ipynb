{
 "metadata": {
  "name": "",
  "signature": "sha256:5f80f910f41cc051a82536c28cc396efbe45b5a344b85fd8e36092296d7f638c"
 },
 "nbformat": 3,
 "nbformat_minor": 0,
 "worksheets": [
  {
   "cells": [
    {
     "cell_type": "code",
     "collapsed": false,
     "input": [
      "from sympy import *\n",
      "init_printing(use_latex='mathjax')"
     ],
     "language": "python",
     "metadata": {},
     "outputs": [],
     "prompt_number": 86
    },
    {
     "cell_type": "code",
     "collapsed": false,
     "input": [
      "w, f0, phi = symbols('w f0 phi', real=True)\n",
      "from sympy.abc import x, k"
     ],
     "language": "python",
     "metadata": {},
     "outputs": [],
     "prompt_number": 63
    },
    {
     "cell_type": "code",
     "collapsed": false,
     "input": [
      "func = (1 + cos(4 * pi * f0 * x + 2 * phi))#\n",
      "func = 1/2"
     ],
     "language": "python",
     "metadata": {},
     "outputs": [],
     "prompt_number": 54
    },
    {
     "cell_type": "code",
     "collapsed": false,
     "input": [
      "fourier_transform( cos(4 * pi * f0 * x + 2 * phi), x, k, noconds=False)"
     ],
     "language": "python",
     "metadata": {},
     "outputs": [
      {
       "ename": "KeyboardInterrupt",
       "evalue": "",
       "output_type": "pyerr",
       "traceback": [
        "\u001b[1;31m---------------------------------------------------------------------------\u001b[0m\n\u001b[1;31mKeyboardInterrupt\u001b[0m                         Traceback (most recent call last)",
        "\u001b[1;32m<ipython-input-59-a14d00e1ec0c>\u001b[0m in \u001b[0;36m<module>\u001b[1;34m()\u001b[0m\n\u001b[1;32m----> 1\u001b[1;33m \u001b[0mfourier_transform\u001b[0m\u001b[1;33m(\u001b[0m \u001b[0mcos\u001b[0m\u001b[1;33m(\u001b[0m\u001b[1;36m4\u001b[0m \u001b[1;33m*\u001b[0m \u001b[0mpi\u001b[0m \u001b[1;33m*\u001b[0m \u001b[0mf0\u001b[0m \u001b[1;33m*\u001b[0m \u001b[0mx\u001b[0m \u001b[1;33m+\u001b[0m \u001b[1;36m2\u001b[0m \u001b[1;33m*\u001b[0m \u001b[0mphi\u001b[0m\u001b[1;33m)\u001b[0m\u001b[1;33m,\u001b[0m \u001b[0mx\u001b[0m\u001b[1;33m,\u001b[0m \u001b[0mk\u001b[0m\u001b[1;33m,\u001b[0m \u001b[0mnoconds\u001b[0m\u001b[1;33m=\u001b[0m\u001b[0mFalse\u001b[0m\u001b[1;33m)\u001b[0m\u001b[1;33m\u001b[0m\u001b[0m\n\u001b[0m",
        "\u001b[1;32mc:\\WinPython-64\\python-2.7.6.amd64\\lib\\site-packages\\sympy\\integrals\\transforms.pyc\u001b[0m in \u001b[0;36mfourier_transform\u001b[1;34m(f, x, k, **hints)\u001b[0m\n\u001b[0;32m   1356\u001b[0m     \u001b[0mmellin_transform\u001b[0m\u001b[1;33m,\u001b[0m \u001b[0mlaplace_transform\u001b[0m\u001b[1;33m\u001b[0m\u001b[0m\n\u001b[0;32m   1357\u001b[0m     \"\"\"\n\u001b[1;32m-> 1358\u001b[1;33m     \u001b[1;32mreturn\u001b[0m \u001b[0mFourierTransform\u001b[0m\u001b[1;33m(\u001b[0m\u001b[0mf\u001b[0m\u001b[1;33m,\u001b[0m \u001b[0mx\u001b[0m\u001b[1;33m,\u001b[0m \u001b[0mk\u001b[0m\u001b[1;33m)\u001b[0m\u001b[1;33m.\u001b[0m\u001b[0mdoit\u001b[0m\u001b[1;33m(\u001b[0m\u001b[1;33m**\u001b[0m\u001b[0mhints\u001b[0m\u001b[1;33m)\u001b[0m\u001b[1;33m\u001b[0m\u001b[0m\n\u001b[0m\u001b[0;32m   1359\u001b[0m \u001b[1;33m\u001b[0m\u001b[0m\n\u001b[0;32m   1360\u001b[0m \u001b[1;33m\u001b[0m\u001b[0m\n",
        "\u001b[1;32mc:\\WinPython-64\\python-2.7.6.amd64\\lib\\site-packages\\sympy\\integrals\\transforms.pyc\u001b[0m in \u001b[0;36mdoit\u001b[1;34m(self, **hints)\u001b[0m\n\u001b[0;32m    115\u001b[0m             \u001b[1;32mtry\u001b[0m\u001b[1;33m:\u001b[0m\u001b[1;33m\u001b[0m\u001b[0m\n\u001b[0;32m    116\u001b[0m                 return self._compute_transform(self.function,\n\u001b[1;32m--> 117\u001b[1;33m                     self.function_variable, self.transform_variable, **hints)\n\u001b[0m\u001b[0;32m    118\u001b[0m             \u001b[1;32mexcept\u001b[0m \u001b[0mIntegralTransformError\u001b[0m\u001b[1;33m:\u001b[0m\u001b[1;33m\u001b[0m\u001b[0m\n\u001b[0;32m    119\u001b[0m                 \u001b[1;32mpass\u001b[0m\u001b[1;33m\u001b[0m\u001b[0m\n",
        "\u001b[1;32mc:\\WinPython-64\\python-2.7.6.amd64\\lib\\site-packages\\sympy\\integrals\\transforms.pyc\u001b[0m in \u001b[0;36m_compute_transform\u001b[1;34m(self, f, x, k, **hints)\u001b[0m\n\u001b[0;32m   1299\u001b[0m         return _fourier_transform(f, x, k,\n\u001b[0;32m   1300\u001b[0m                                   \u001b[0mself\u001b[0m\u001b[1;33m.\u001b[0m\u001b[0m__class__\u001b[0m\u001b[1;33m.\u001b[0m\u001b[0m_a\u001b[0m\u001b[1;33m,\u001b[0m \u001b[0mself\u001b[0m\u001b[1;33m.\u001b[0m\u001b[0m__class__\u001b[0m\u001b[1;33m.\u001b[0m\u001b[0m_b\u001b[0m\u001b[1;33m,\u001b[0m\u001b[1;33m\u001b[0m\u001b[0m\n\u001b[1;32m-> 1301\u001b[1;33m                                   self.__class__._name, **hints)\n\u001b[0m\u001b[0;32m   1302\u001b[0m \u001b[1;33m\u001b[0m\u001b[0m\n\u001b[0;32m   1303\u001b[0m     \u001b[1;32mdef\u001b[0m \u001b[0m_as_integral\u001b[0m\u001b[1;33m(\u001b[0m\u001b[0mself\u001b[0m\u001b[1;33m,\u001b[0m \u001b[0mf\u001b[0m\u001b[1;33m,\u001b[0m \u001b[0mx\u001b[0m\u001b[1;33m,\u001b[0m \u001b[0mk\u001b[0m\u001b[1;33m)\u001b[0m\u001b[1;33m:\u001b[0m\u001b[1;33m\u001b[0m\u001b[0m\n",
        "\u001b[1;32mc:\\WinPython-64\\python-2.7.6.amd64\\lib\\site-packages\\sympy\\integrals\\transforms.pyc\u001b[0m in \u001b[0;36mwrapper\u001b[1;34m(*args, **kwargs)\u001b[0m\n\u001b[0;32m    193\u001b[0m         \u001b[1;32mdef\u001b[0m \u001b[0mwrapper\u001b[0m\u001b[1;33m(\u001b[0m\u001b[1;33m*\u001b[0m\u001b[0margs\u001b[0m\u001b[1;33m,\u001b[0m \u001b[1;33m**\u001b[0m\u001b[0mkwargs\u001b[0m\u001b[1;33m)\u001b[0m\u001b[1;33m:\u001b[0m\u001b[1;33m\u001b[0m\u001b[0m\n\u001b[0;32m    194\u001b[0m             \u001b[0mnoconds\u001b[0m \u001b[1;33m=\u001b[0m \u001b[0mkwargs\u001b[0m\u001b[1;33m.\u001b[0m\u001b[0mpop\u001b[0m\u001b[1;33m(\u001b[0m\u001b[1;34m'noconds'\u001b[0m\u001b[1;33m,\u001b[0m \u001b[0mdefault\u001b[0m\u001b[1;33m)\u001b[0m\u001b[1;33m\u001b[0m\u001b[0m\n\u001b[1;32m--> 195\u001b[1;33m             \u001b[0mres\u001b[0m \u001b[1;33m=\u001b[0m \u001b[0mfunc\u001b[0m\u001b[1;33m(\u001b[0m\u001b[1;33m*\u001b[0m\u001b[0margs\u001b[0m\u001b[1;33m,\u001b[0m \u001b[1;33m**\u001b[0m\u001b[0mkwargs\u001b[0m\u001b[1;33m)\u001b[0m\u001b[1;33m\u001b[0m\u001b[0m\n\u001b[0m\u001b[0;32m    196\u001b[0m             \u001b[1;32mif\u001b[0m \u001b[0mnoconds\u001b[0m\u001b[1;33m:\u001b[0m\u001b[1;33m\u001b[0m\u001b[0m\n\u001b[0;32m    197\u001b[0m                 \u001b[1;32mreturn\u001b[0m \u001b[0mres\u001b[0m\u001b[1;33m[\u001b[0m\u001b[1;36m0\u001b[0m\u001b[1;33m]\u001b[0m\u001b[1;33m\u001b[0m\u001b[0m\n",
        "\u001b[1;32mc:\\WinPython-64\\python-2.7.6.amd64\\lib\\site-packages\\sympy\\integrals\\transforms.pyc\u001b[0m in \u001b[0;36m_fourier_transform\u001b[1;34m(f, x, k, a, b, name, simplify)\u001b[0m\n\u001b[0;32m   1276\u001b[0m     \"\"\"\n\u001b[0;32m   1277\u001b[0m     \u001b[1;32mfrom\u001b[0m \u001b[0msympy\u001b[0m \u001b[1;32mimport\u001b[0m \u001b[0mexp\u001b[0m\u001b[1;33m,\u001b[0m \u001b[0mI\u001b[0m\u001b[1;33m,\u001b[0m \u001b[0moo\u001b[0m\u001b[1;33m\u001b[0m\u001b[0m\n\u001b[1;32m-> 1278\u001b[1;33m     \u001b[0mF\u001b[0m \u001b[1;33m=\u001b[0m \u001b[0mintegrate\u001b[0m\u001b[1;33m(\u001b[0m\u001b[0ma\u001b[0m\u001b[1;33m*\u001b[0m\u001b[0mf\u001b[0m\u001b[1;33m*\u001b[0m\u001b[0mexp\u001b[0m\u001b[1;33m(\u001b[0m\u001b[0mb\u001b[0m\u001b[1;33m*\u001b[0m\u001b[0mI\u001b[0m\u001b[1;33m*\u001b[0m\u001b[0mx\u001b[0m\u001b[1;33m*\u001b[0m\u001b[0mk\u001b[0m\u001b[1;33m)\u001b[0m\u001b[1;33m,\u001b[0m \u001b[1;33m(\u001b[0m\u001b[0mx\u001b[0m\u001b[1;33m,\u001b[0m \u001b[1;33m-\u001b[0m\u001b[0moo\u001b[0m\u001b[1;33m,\u001b[0m \u001b[0moo\u001b[0m\u001b[1;33m)\u001b[0m\u001b[1;33m)\u001b[0m\u001b[1;33m\u001b[0m\u001b[0m\n\u001b[0m\u001b[0;32m   1279\u001b[0m \u001b[1;33m\u001b[0m\u001b[0m\n\u001b[0;32m   1280\u001b[0m     \u001b[1;32mif\u001b[0m \u001b[1;32mnot\u001b[0m \u001b[0mF\u001b[0m\u001b[1;33m.\u001b[0m\u001b[0mhas\u001b[0m\u001b[1;33m(\u001b[0m\u001b[0mIntegral\u001b[0m\u001b[1;33m)\u001b[0m\u001b[1;33m:\u001b[0m\u001b[1;33m\u001b[0m\u001b[0m\n",
        "\u001b[1;32mc:\\WinPython-64\\python-2.7.6.amd64\\lib\\site-packages\\sympy\\utilities\\decorator.pyc\u001b[0m in \u001b[0;36mthreaded_func\u001b[1;34m(expr, *args, **kwargs)\u001b[0m\n\u001b[0;32m     33\u001b[0m                                       func(expr.rhs, *args, **kwargs))\n\u001b[0;32m     34\u001b[0m             \u001b[1;32melse\u001b[0m\u001b[1;33m:\u001b[0m\u001b[1;33m\u001b[0m\u001b[0m\n\u001b[1;32m---> 35\u001b[1;33m                 \u001b[1;32mreturn\u001b[0m \u001b[0mfunc\u001b[0m\u001b[1;33m(\u001b[0m\u001b[0mexpr\u001b[0m\u001b[1;33m,\u001b[0m \u001b[1;33m*\u001b[0m\u001b[0margs\u001b[0m\u001b[1;33m,\u001b[0m \u001b[1;33m**\u001b[0m\u001b[0mkwargs\u001b[0m\u001b[1;33m)\u001b[0m\u001b[1;33m\u001b[0m\u001b[0m\n\u001b[0m\u001b[0;32m     36\u001b[0m \u001b[1;33m\u001b[0m\u001b[0m\n\u001b[0;32m     37\u001b[0m     \u001b[1;32mreturn\u001b[0m \u001b[0mthreaded_func\u001b[0m\u001b[1;33m\u001b[0m\u001b[0m\n",
        "\u001b[1;32mc:\\WinPython-64\\python-2.7.6.amd64\\lib\\site-packages\\sympy\\integrals\\integrals.pyc\u001b[0m in \u001b[0;36mintegrate\u001b[1;34m(*args, **kwargs)\u001b[0m\n\u001b[0;32m   1287\u001b[0m     \u001b[1;32mif\u001b[0m \u001b[0misinstance\u001b[0m\u001b[1;33m(\u001b[0m\u001b[0mintegral\u001b[0m\u001b[1;33m,\u001b[0m \u001b[0mIntegral\u001b[0m\u001b[1;33m)\u001b[0m\u001b[1;33m:\u001b[0m\u001b[1;33m\u001b[0m\u001b[0m\n\u001b[0;32m   1288\u001b[0m         return integral.doit(deep=False, meijerg=meijerg, conds=conds,\n\u001b[1;32m-> 1289\u001b[1;33m                              risch=risch, manual=manual)\n\u001b[0m\u001b[0;32m   1290\u001b[0m     \u001b[1;32melse\u001b[0m\u001b[1;33m:\u001b[0m\u001b[1;33m\u001b[0m\u001b[0m\n\u001b[0;32m   1291\u001b[0m         \u001b[1;32mreturn\u001b[0m \u001b[0mintegral\u001b[0m\u001b[1;33m\u001b[0m\u001b[0m\n",
        "\u001b[1;32mc:\\WinPython-64\\python-2.7.6.amd64\\lib\\site-packages\\sympy\\integrals\\integrals.pyc\u001b[0m in \u001b[0;36mdoit\u001b[1;34m(self, **hints)\u001b[0m\n\u001b[0;32m    533\u001b[0m                 \u001b[1;32mand\u001b[0m \u001b[1;32mnot\u001b[0m \u001b[0mfunction\u001b[0m\u001b[1;33m.\u001b[0m\u001b[0mis_Poly\u001b[0m \u001b[1;32mand\u001b[0m\u001b[0;31m \u001b[0m\u001b[0;31m\\\u001b[0m\u001b[1;33m\u001b[0m\u001b[0m\n\u001b[0;32m    534\u001b[0m                     \u001b[1;33m(\u001b[0m\u001b[0mxab\u001b[0m\u001b[1;33m[\u001b[0m\u001b[1;36m1\u001b[0m\u001b[1;33m]\u001b[0m\u001b[1;33m.\u001b[0m\u001b[0mhas\u001b[0m\u001b[1;33m(\u001b[0m\u001b[0moo\u001b[0m\u001b[1;33m,\u001b[0m \u001b[1;33m-\u001b[0m\u001b[0moo\u001b[0m\u001b[1;33m)\u001b[0m \u001b[1;32mor\u001b[0m \u001b[0mxab\u001b[0m\u001b[1;33m[\u001b[0m\u001b[1;36m2\u001b[0m\u001b[1;33m]\u001b[0m\u001b[1;33m.\u001b[0m\u001b[0mhas\u001b[0m\u001b[1;33m(\u001b[0m\u001b[0moo\u001b[0m\u001b[1;33m,\u001b[0m \u001b[1;33m-\u001b[0m\u001b[0moo\u001b[0m\u001b[1;33m)\u001b[0m\u001b[1;33m)\u001b[0m\u001b[1;33m:\u001b[0m\u001b[1;33m\u001b[0m\u001b[0m\n\u001b[1;32m--> 535\u001b[1;33m                 \u001b[0mret\u001b[0m \u001b[1;33m=\u001b[0m \u001b[0mtry_meijerg\u001b[0m\u001b[1;33m(\u001b[0m\u001b[0mfunction\u001b[0m\u001b[1;33m,\u001b[0m \u001b[0mxab\u001b[0m\u001b[1;33m)\u001b[0m\u001b[1;33m\u001b[0m\u001b[0m\n\u001b[0m\u001b[0;32m    536\u001b[0m                 \u001b[1;32mif\u001b[0m \u001b[0mret\u001b[0m \u001b[1;32mis\u001b[0m \u001b[1;32mnot\u001b[0m \u001b[0mNone\u001b[0m\u001b[1;33m:\u001b[0m\u001b[1;33m\u001b[0m\u001b[0m\n\u001b[0;32m    537\u001b[0m                     \u001b[0mfunction\u001b[0m \u001b[1;33m=\u001b[0m \u001b[0mret\u001b[0m\u001b[1;33m\u001b[0m\u001b[0m\n",
        "\u001b[1;32mc:\\WinPython-64\\python-2.7.6.amd64\\lib\\site-packages\\sympy\\integrals\\integrals.pyc\u001b[0m in \u001b[0;36mtry_meijerg\u001b[1;34m(function, xab)\u001b[0m\n\u001b[0;32m    510\u001b[0m                     \u001b[0mx\u001b[0m\u001b[1;33m,\u001b[0m \u001b[0ma\u001b[0m\u001b[1;33m,\u001b[0m \u001b[0mb\u001b[0m \u001b[1;33m=\u001b[0m \u001b[0mxab\u001b[0m\u001b[1;33m\u001b[0m\u001b[0m\n\u001b[0;32m    511\u001b[0m                     \u001b[1;32mtry\u001b[0m\u001b[1;33m:\u001b[0m\u001b[1;33m\u001b[0m\u001b[0m\n\u001b[1;32m--> 512\u001b[1;33m                         \u001b[0mres\u001b[0m \u001b[1;33m=\u001b[0m \u001b[0mmeijerint_definite\u001b[0m\u001b[1;33m(\u001b[0m\u001b[0mfunction\u001b[0m\u001b[1;33m,\u001b[0m \u001b[0mx\u001b[0m\u001b[1;33m,\u001b[0m \u001b[0ma\u001b[0m\u001b[1;33m,\u001b[0m \u001b[0mb\u001b[0m\u001b[1;33m)\u001b[0m\u001b[1;33m\u001b[0m\u001b[0m\n\u001b[0m\u001b[0;32m    513\u001b[0m                     \u001b[1;32mexcept\u001b[0m \u001b[0mNotImplementedError\u001b[0m\u001b[1;33m:\u001b[0m\u001b[1;33m\u001b[0m\u001b[0m\n\u001b[0;32m    514\u001b[0m                         \u001b[1;32mfrom\u001b[0m \u001b[0msympy\u001b[0m\u001b[1;33m.\u001b[0m\u001b[0mintegrals\u001b[0m\u001b[1;33m.\u001b[0m\u001b[0mmeijerint\u001b[0m \u001b[1;32mimport\u001b[0m \u001b[0m_debug\u001b[0m\u001b[1;33m\u001b[0m\u001b[0m\n",
        "\u001b[1;32mc:\\WinPython-64\\python-2.7.6.amd64\\lib\\site-packages\\sympy\\integrals\\meijerint.pyc\u001b[0m in \u001b[0;36mmeijerint_definite\u001b[1;34m(f, x, a, b)\u001b[0m\n\u001b[0;32m   1741\u001b[0m                 \u001b[0m_debug\u001b[0m\u001b[1;33m(\u001b[0m\u001b[1;34m'  Non-real splitting point.'\u001b[0m\u001b[1;33m)\u001b[0m\u001b[1;33m\u001b[0m\u001b[0m\n\u001b[0;32m   1742\u001b[0m                 \u001b[1;32mcontinue\u001b[0m\u001b[1;33m\u001b[0m\u001b[0m\n\u001b[1;32m-> 1743\u001b[1;33m             \u001b[0mres1\u001b[0m \u001b[1;33m=\u001b[0m \u001b[0m_meijerint_definite_2\u001b[0m\u001b[1;33m(\u001b[0m\u001b[0mf\u001b[0m\u001b[1;33m.\u001b[0m\u001b[0msubs\u001b[0m\u001b[1;33m(\u001b[0m\u001b[0mx\u001b[0m\u001b[1;33m,\u001b[0m \u001b[0mx\u001b[0m \u001b[1;33m+\u001b[0m \u001b[0mc\u001b[0m\u001b[1;33m)\u001b[0m\u001b[1;33m,\u001b[0m \u001b[0mx\u001b[0m\u001b[1;33m)\u001b[0m\u001b[1;33m\u001b[0m\u001b[0m\n\u001b[0m\u001b[0;32m   1744\u001b[0m             \u001b[1;32mif\u001b[0m \u001b[0mres1\u001b[0m \u001b[1;32mis\u001b[0m \u001b[0mNone\u001b[0m\u001b[1;33m:\u001b[0m\u001b[1;33m\u001b[0m\u001b[0m\n\u001b[0;32m   1745\u001b[0m                 \u001b[0m_debug\u001b[0m\u001b[1;33m(\u001b[0m\u001b[1;34m'  But could not compute first integral.'\u001b[0m\u001b[1;33m)\u001b[0m\u001b[1;33m\u001b[0m\u001b[0m\n",
        "\u001b[1;32mc:\\WinPython-64\\python-2.7.6.amd64\\lib\\site-packages\\sympy\\integrals\\meijerint.pyc\u001b[0m in \u001b[0;36m_meijerint_definite_2\u001b[1;34m(f, x)\u001b[0m\n\u001b[0;32m   1850\u001b[0m     \u001b[1;32mfor\u001b[0m \u001b[0mg\u001b[0m\u001b[1;33m,\u001b[0m \u001b[0mexplanation\u001b[0m \u001b[1;32min\u001b[0m \u001b[0m_guess_expansion\u001b[0m\u001b[1;33m(\u001b[0m\u001b[0mf\u001b[0m\u001b[1;33m,\u001b[0m \u001b[0mx\u001b[0m\u001b[1;33m)\u001b[0m\u001b[1;33m:\u001b[0m\u001b[1;33m\u001b[0m\u001b[0m\n\u001b[0;32m   1851\u001b[0m         \u001b[0m_debug\u001b[0m\u001b[1;33m(\u001b[0m\u001b[1;34m'Trying'\u001b[0m\u001b[1;33m,\u001b[0m \u001b[0mexplanation\u001b[0m\u001b[1;33m)\u001b[0m\u001b[1;33m\u001b[0m\u001b[0m\n\u001b[1;32m-> 1852\u001b[1;33m         \u001b[0mres\u001b[0m \u001b[1;33m=\u001b[0m \u001b[0m_meijerint_definite_3\u001b[0m\u001b[1;33m(\u001b[0m\u001b[0mg\u001b[0m\u001b[1;33m,\u001b[0m \u001b[0mx\u001b[0m\u001b[1;33m)\u001b[0m\u001b[1;33m\u001b[0m\u001b[0m\n\u001b[0m\u001b[0;32m   1853\u001b[0m         \u001b[1;32mif\u001b[0m \u001b[0mres\u001b[0m \u001b[1;32mis\u001b[0m \u001b[1;32mnot\u001b[0m \u001b[0mNone\u001b[0m \u001b[1;32mand\u001b[0m \u001b[0mres\u001b[0m\u001b[1;33m[\u001b[0m\u001b[1;36m1\u001b[0m\u001b[1;33m]\u001b[0m \u001b[1;33m!=\u001b[0m \u001b[0mFalse\u001b[0m\u001b[1;33m:\u001b[0m\u001b[1;33m\u001b[0m\u001b[0m\n\u001b[0;32m   1854\u001b[0m             \u001b[1;32mreturn\u001b[0m \u001b[0mres\u001b[0m\u001b[1;33m\u001b[0m\u001b[0m\n",
        "\u001b[1;32mc:\\WinPython-64\\python-2.7.6.amd64\\lib\\site-packages\\sympy\\integrals\\meijerint.pyc\u001b[0m in \u001b[0;36m_meijerint_definite_3\u001b[1;34m(f, x)\u001b[0m\n\u001b[0;32m   1867\u001b[0m     \u001b[1;32mif\u001b[0m \u001b[0mf\u001b[0m\u001b[1;33m.\u001b[0m\u001b[0mis_Add\u001b[0m\u001b[1;33m:\u001b[0m\u001b[1;33m\u001b[0m\u001b[0m\n\u001b[0;32m   1868\u001b[0m         \u001b[0m_debug\u001b[0m\u001b[1;33m(\u001b[0m\u001b[1;34m'Expanding and evaluating all terms.'\u001b[0m\u001b[1;33m)\u001b[0m\u001b[1;33m\u001b[0m\u001b[0m\n\u001b[1;32m-> 1869\u001b[1;33m         \u001b[0mress\u001b[0m \u001b[1;33m=\u001b[0m \u001b[1;33m[\u001b[0m\u001b[0m_meijerint_definite_4\u001b[0m\u001b[1;33m(\u001b[0m\u001b[0mg\u001b[0m\u001b[1;33m,\u001b[0m \u001b[0mx\u001b[0m\u001b[1;33m)\u001b[0m \u001b[1;32mfor\u001b[0m \u001b[0mg\u001b[0m \u001b[1;32min\u001b[0m \u001b[0mf\u001b[0m\u001b[1;33m.\u001b[0m\u001b[0margs\u001b[0m\u001b[1;33m]\u001b[0m\u001b[1;33m\u001b[0m\u001b[0m\n\u001b[0m\u001b[0;32m   1870\u001b[0m         \u001b[1;32mif\u001b[0m \u001b[0mall\u001b[0m\u001b[1;33m(\u001b[0m\u001b[0mr\u001b[0m \u001b[1;32mis\u001b[0m \u001b[1;32mnot\u001b[0m \u001b[0mNone\u001b[0m \u001b[1;32mfor\u001b[0m \u001b[0mr\u001b[0m \u001b[1;32min\u001b[0m \u001b[0mress\u001b[0m\u001b[1;33m)\u001b[0m\u001b[1;33m:\u001b[0m\u001b[1;33m\u001b[0m\u001b[0m\n\u001b[0;32m   1871\u001b[0m             \u001b[0mconds\u001b[0m \u001b[1;33m=\u001b[0m \u001b[1;33m[\u001b[0m\u001b[1;33m]\u001b[0m\u001b[1;33m\u001b[0m\u001b[0m\n",
        "\u001b[1;32mc:\\WinPython-64\\python-2.7.6.amd64\\lib\\site-packages\\sympy\\integrals\\meijerint.pyc\u001b[0m in \u001b[0;36m_meijerint_definite_4\u001b[1;34m(f, x, only_double)\u001b[0m\n\u001b[0;32m   1918\u001b[0m \u001b[1;33m\u001b[0m\u001b[0m\n\u001b[0;32m   1919\u001b[0m     \u001b[1;31m# Try two G functions.\u001b[0m\u001b[1;33m\u001b[0m\u001b[1;33m\u001b[0m\u001b[0m\n\u001b[1;32m-> 1920\u001b[1;33m     \u001b[0mgs\u001b[0m \u001b[1;33m=\u001b[0m \u001b[0m_rewrite2\u001b[0m\u001b[1;33m(\u001b[0m\u001b[0mf\u001b[0m\u001b[1;33m,\u001b[0m \u001b[0mx\u001b[0m\u001b[1;33m)\u001b[0m\u001b[1;33m\u001b[0m\u001b[0m\n\u001b[0m\u001b[0;32m   1921\u001b[0m     \u001b[1;32mif\u001b[0m \u001b[0mgs\u001b[0m \u001b[1;32mis\u001b[0m \u001b[1;32mnot\u001b[0m \u001b[0mNone\u001b[0m\u001b[1;33m:\u001b[0m\u001b[1;33m\u001b[0m\u001b[0m\n\u001b[0;32m   1922\u001b[0m         \u001b[1;32mfor\u001b[0m \u001b[0mfull_pb\u001b[0m \u001b[1;32min\u001b[0m \u001b[1;33m[\u001b[0m\u001b[0mFalse\u001b[0m\u001b[1;33m,\u001b[0m \u001b[0mTrue\u001b[0m\u001b[1;33m]\u001b[0m\u001b[1;33m:\u001b[0m\u001b[1;33m\u001b[0m\u001b[0m\n",
        "\u001b[1;32mc:\\WinPython-64\\python-2.7.6.amd64\\lib\\site-packages\\sympy\\integrals\\meijerint.pyc\u001b[0m in \u001b[0;36m_rewrite2\u001b[1;34m(f, x)\u001b[0m\n\u001b[0;32m   1573\u001b[0m     \u001b[1;32mfor\u001b[0m \u001b[0mrecursive\u001b[0m \u001b[1;32min\u001b[0m \u001b[1;33m[\u001b[0m\u001b[0mFalse\u001b[0m\u001b[1;33m,\u001b[0m \u001b[0mTrue\u001b[0m\u001b[1;33m]\u001b[0m\u001b[1;33m:\u001b[0m\u001b[1;33m\u001b[0m\u001b[0m\n\u001b[0;32m   1574\u001b[0m         \u001b[1;32mfor\u001b[0m \u001b[0mfac1\u001b[0m\u001b[1;33m,\u001b[0m \u001b[0mfac2\u001b[0m \u001b[1;32min\u001b[0m \u001b[0ml\u001b[0m\u001b[1;33m:\u001b[0m\u001b[1;33m\u001b[0m\u001b[0m\n\u001b[1;32m-> 1575\u001b[1;33m             \u001b[0mg1\u001b[0m \u001b[1;33m=\u001b[0m \u001b[0m_rewrite_single\u001b[0m\u001b[1;33m(\u001b[0m\u001b[0mfac1\u001b[0m\u001b[1;33m,\u001b[0m \u001b[0mx\u001b[0m\u001b[1;33m,\u001b[0m \u001b[0mrecursive\u001b[0m\u001b[1;33m)\u001b[0m\u001b[1;33m\u001b[0m\u001b[0m\n\u001b[0m\u001b[0;32m   1576\u001b[0m             \u001b[0mg2\u001b[0m \u001b[1;33m=\u001b[0m \u001b[0m_rewrite_single\u001b[0m\u001b[1;33m(\u001b[0m\u001b[0mfac2\u001b[0m\u001b[1;33m,\u001b[0m \u001b[0mx\u001b[0m\u001b[1;33m,\u001b[0m \u001b[0mrecursive\u001b[0m\u001b[1;33m)\u001b[0m\u001b[1;33m\u001b[0m\u001b[0m\n\u001b[0;32m   1577\u001b[0m             \u001b[1;32mif\u001b[0m \u001b[0mg1\u001b[0m \u001b[1;32mand\u001b[0m \u001b[0mg2\u001b[0m\u001b[1;33m:\u001b[0m\u001b[1;33m\u001b[0m\u001b[0m\n",
        "\u001b[1;32mc:\\WinPython-64\\python-2.7.6.amd64\\lib\\site-packages\\sympy\\core\\cache.pyc\u001b[0m in \u001b[0;36mwrapper\u001b[1;34m(*args, **kw_args)\u001b[0m\n\u001b[0;32m     91\u001b[0m         \u001b[1;32mexcept\u001b[0m \u001b[1;33m(\u001b[0m\u001b[0mKeyError\u001b[0m\u001b[1;33m,\u001b[0m \u001b[0mTypeError\u001b[0m\u001b[1;33m)\u001b[0m\u001b[1;33m:\u001b[0m\u001b[1;33m\u001b[0m\u001b[0m\n\u001b[0;32m     92\u001b[0m             \u001b[1;32mpass\u001b[0m\u001b[1;33m\u001b[0m\u001b[0m\n\u001b[1;32m---> 93\u001b[1;33m         \u001b[0mr\u001b[0m \u001b[1;33m=\u001b[0m \u001b[0mfunc\u001b[0m\u001b[1;33m(\u001b[0m\u001b[1;33m*\u001b[0m\u001b[0margs\u001b[0m\u001b[1;33m,\u001b[0m \u001b[1;33m**\u001b[0m\u001b[0mkw_args\u001b[0m\u001b[1;33m)\u001b[0m\u001b[1;33m\u001b[0m\u001b[0m\n\u001b[0m\u001b[0;32m     94\u001b[0m         \u001b[1;32mtry\u001b[0m\u001b[1;33m:\u001b[0m\u001b[1;33m\u001b[0m\u001b[0m\n\u001b[0;32m     95\u001b[0m             \u001b[0mfunc_cache_it_cache\u001b[0m\u001b[1;33m[\u001b[0m\u001b[0mk\u001b[0m\u001b[1;33m]\u001b[0m \u001b[1;33m=\u001b[0m \u001b[0mr\u001b[0m\u001b[1;33m\u001b[0m\u001b[0m\n",
        "\u001b[1;32mc:\\WinPython-64\\python-2.7.6.amd64\\lib\\site-packages\\sympy\\integrals\\meijerint.pyc\u001b[0m in \u001b[0;36m_rewrite_single\u001b[1;34m(f, x, recursive)\u001b[0m\n\u001b[0;32m   1501\u001b[0m     \u001b[1;32mtry\u001b[0m\u001b[1;33m:\u001b[0m\u001b[1;33m\u001b[0m\u001b[0m\n\u001b[0;32m   1502\u001b[0m         F, strip, _ = mellin_transform(f, x, s, integrator=my_integrator,\n\u001b[1;32m-> 1503\u001b[1;33m                                        simplify=False, needeval=True)\n\u001b[0m\u001b[0;32m   1504\u001b[0m         \u001b[0mg\u001b[0m \u001b[1;33m=\u001b[0m \u001b[0mmy_imt\u001b[0m\u001b[1;33m(\u001b[0m\u001b[0mF\u001b[0m\u001b[1;33m,\u001b[0m \u001b[0ms\u001b[0m\u001b[1;33m,\u001b[0m \u001b[0mx\u001b[0m\u001b[1;33m,\u001b[0m \u001b[0mstrip\u001b[0m\u001b[1;33m)\u001b[0m\u001b[1;33m\u001b[0m\u001b[0m\n\u001b[0;32m   1505\u001b[0m     \u001b[1;32mexcept\u001b[0m \u001b[0mIntegralTransformError\u001b[0m\u001b[1;33m:\u001b[0m\u001b[1;33m\u001b[0m\u001b[0m\n",
        "\u001b[1;32mc:\\WinPython-64\\python-2.7.6.amd64\\lib\\site-packages\\sympy\\integrals\\transforms.pyc\u001b[0m in \u001b[0;36mmellin_transform\u001b[1;34m(f, x, s, **hints)\u001b[0m\n\u001b[0;32m    350\u001b[0m     \u001b[0mhankel_transform\u001b[0m\u001b[1;33m,\u001b[0m \u001b[0minverse_hankel_transform\u001b[0m\u001b[1;33m\u001b[0m\u001b[0m\n\u001b[0;32m    351\u001b[0m     \"\"\"\n\u001b[1;32m--> 352\u001b[1;33m     \u001b[1;32mreturn\u001b[0m \u001b[0mMellinTransform\u001b[0m\u001b[1;33m(\u001b[0m\u001b[0mf\u001b[0m\u001b[1;33m,\u001b[0m \u001b[0mx\u001b[0m\u001b[1;33m,\u001b[0m \u001b[0ms\u001b[0m\u001b[1;33m)\u001b[0m\u001b[1;33m.\u001b[0m\u001b[0mdoit\u001b[0m\u001b[1;33m(\u001b[0m\u001b[1;33m**\u001b[0m\u001b[0mhints\u001b[0m\u001b[1;33m)\u001b[0m\u001b[1;33m\u001b[0m\u001b[0m\n\u001b[0m\u001b[0;32m    353\u001b[0m \u001b[1;33m\u001b[0m\u001b[0m\n\u001b[0;32m    354\u001b[0m \u001b[1;33m\u001b[0m\u001b[0m\n",
        "\u001b[1;32mc:\\WinPython-64\\python-2.7.6.amd64\\lib\\site-packages\\sympy\\integrals\\transforms.pyc\u001b[0m in \u001b[0;36mdoit\u001b[1;34m(self, **hints)\u001b[0m\n\u001b[0;32m    115\u001b[0m             \u001b[1;32mtry\u001b[0m\u001b[1;33m:\u001b[0m\u001b[1;33m\u001b[0m\u001b[0m\n\u001b[0;32m    116\u001b[0m                 return self._compute_transform(self.function,\n\u001b[1;32m--> 117\u001b[1;33m                     self.function_variable, self.transform_variable, **hints)\n\u001b[0m\u001b[0;32m    118\u001b[0m             \u001b[1;32mexcept\u001b[0m \u001b[0mIntegralTransformError\u001b[0m\u001b[1;33m:\u001b[0m\u001b[1;33m\u001b[0m\u001b[0m\n\u001b[0;32m    119\u001b[0m                 \u001b[1;32mpass\u001b[0m\u001b[1;33m\u001b[0m\u001b[0m\n",
        "\u001b[1;32mc:\\WinPython-64\\python-2.7.6.amd64\\lib\\site-packages\\sympy\\integrals\\transforms.pyc\u001b[0m in \u001b[0;36m_compute_transform\u001b[1;34m(self, f, x, s, **hints)\u001b[0m\n\u001b[0;32m    292\u001b[0m \u001b[1;33m\u001b[0m\u001b[0m\n\u001b[0;32m    293\u001b[0m     \u001b[1;32mdef\u001b[0m \u001b[0m_compute_transform\u001b[0m\u001b[1;33m(\u001b[0m\u001b[0mself\u001b[0m\u001b[1;33m,\u001b[0m \u001b[0mf\u001b[0m\u001b[1;33m,\u001b[0m \u001b[0mx\u001b[0m\u001b[1;33m,\u001b[0m \u001b[0ms\u001b[0m\u001b[1;33m,\u001b[0m \u001b[1;33m**\u001b[0m\u001b[0mhints\u001b[0m\u001b[1;33m)\u001b[0m\u001b[1;33m:\u001b[0m\u001b[1;33m\u001b[0m\u001b[0m\n\u001b[1;32m--> 294\u001b[1;33m         \u001b[1;32mreturn\u001b[0m \u001b[0m_mellin_transform\u001b[0m\u001b[1;33m(\u001b[0m\u001b[0mf\u001b[0m\u001b[1;33m,\u001b[0m \u001b[0mx\u001b[0m\u001b[1;33m,\u001b[0m \u001b[0ms\u001b[0m\u001b[1;33m,\u001b[0m \u001b[1;33m**\u001b[0m\u001b[0mhints\u001b[0m\u001b[1;33m)\u001b[0m\u001b[1;33m\u001b[0m\u001b[0m\n\u001b[0m\u001b[0;32m    295\u001b[0m \u001b[1;33m\u001b[0m\u001b[0m\n\u001b[0;32m    296\u001b[0m     \u001b[1;32mdef\u001b[0m \u001b[0m_as_integral\u001b[0m\u001b[1;33m(\u001b[0m\u001b[0mself\u001b[0m\u001b[1;33m,\u001b[0m \u001b[0mf\u001b[0m\u001b[1;33m,\u001b[0m \u001b[0mx\u001b[0m\u001b[1;33m,\u001b[0m \u001b[0ms\u001b[0m\u001b[1;33m)\u001b[0m\u001b[1;33m:\u001b[0m\u001b[1;33m\u001b[0m\u001b[0m\n",
        "\u001b[1;32mc:\\WinPython-64\\python-2.7.6.amd64\\lib\\site-packages\\sympy\\integrals\\transforms.pyc\u001b[0m in \u001b[0;36mwrapper\u001b[1;34m(*args, **kwargs)\u001b[0m\n\u001b[0;32m    193\u001b[0m         \u001b[1;32mdef\u001b[0m \u001b[0mwrapper\u001b[0m\u001b[1;33m(\u001b[0m\u001b[1;33m*\u001b[0m\u001b[0margs\u001b[0m\u001b[1;33m,\u001b[0m \u001b[1;33m**\u001b[0m\u001b[0mkwargs\u001b[0m\u001b[1;33m)\u001b[0m\u001b[1;33m:\u001b[0m\u001b[1;33m\u001b[0m\u001b[0m\n\u001b[0;32m    194\u001b[0m             \u001b[0mnoconds\u001b[0m \u001b[1;33m=\u001b[0m \u001b[0mkwargs\u001b[0m\u001b[1;33m.\u001b[0m\u001b[0mpop\u001b[0m\u001b[1;33m(\u001b[0m\u001b[1;34m'noconds'\u001b[0m\u001b[1;33m,\u001b[0m \u001b[0mdefault\u001b[0m\u001b[1;33m)\u001b[0m\u001b[1;33m\u001b[0m\u001b[0m\n\u001b[1;32m--> 195\u001b[1;33m             \u001b[0mres\u001b[0m \u001b[1;33m=\u001b[0m \u001b[0mfunc\u001b[0m\u001b[1;33m(\u001b[0m\u001b[1;33m*\u001b[0m\u001b[0margs\u001b[0m\u001b[1;33m,\u001b[0m \u001b[1;33m**\u001b[0m\u001b[0mkwargs\u001b[0m\u001b[1;33m)\u001b[0m\u001b[1;33m\u001b[0m\u001b[0m\n\u001b[0m\u001b[0;32m    196\u001b[0m             \u001b[1;32mif\u001b[0m \u001b[0mnoconds\u001b[0m\u001b[1;33m:\u001b[0m\u001b[1;33m\u001b[0m\u001b[0m\n\u001b[0;32m    197\u001b[0m                 \u001b[1;32mreturn\u001b[0m \u001b[0mres\u001b[0m\u001b[1;33m[\u001b[0m\u001b[1;36m0\u001b[0m\u001b[1;33m]\u001b[0m\u001b[1;33m\u001b[0m\u001b[0m\n",
        "\u001b[1;32mc:\\WinPython-64\\python-2.7.6.amd64\\lib\\site-packages\\sympy\\integrals\\transforms.pyc\u001b[0m in \u001b[0;36m_mellin_transform\u001b[1;34m(f, x, s_, integrator, simplify)\u001b[0m\n\u001b[0;32m    217\u001b[0m     \u001b[1;31m# convergence of the integral.\u001b[0m\u001b[1;33m\u001b[0m\u001b[1;33m\u001b[0m\u001b[0m\n\u001b[0;32m    218\u001b[0m     \u001b[0ms\u001b[0m \u001b[1;33m=\u001b[0m \u001b[0m_dummy\u001b[0m\u001b[1;33m(\u001b[0m\u001b[1;34m's'\u001b[0m\u001b[1;33m,\u001b[0m \u001b[1;34m'mellin-transform'\u001b[0m\u001b[1;33m,\u001b[0m \u001b[0mf\u001b[0m\u001b[1;33m)\u001b[0m\u001b[1;33m\u001b[0m\u001b[0m\n\u001b[1;32m--> 219\u001b[1;33m     \u001b[0mF\u001b[0m \u001b[1;33m=\u001b[0m \u001b[0mintegrator\u001b[0m\u001b[1;33m(\u001b[0m\u001b[0mx\u001b[0m\u001b[1;33m**\u001b[0m\u001b[1;33m(\u001b[0m\u001b[0ms\u001b[0m \u001b[1;33m-\u001b[0m \u001b[1;36m1\u001b[0m\u001b[1;33m)\u001b[0m \u001b[1;33m*\u001b[0m \u001b[0mf\u001b[0m\u001b[1;33m,\u001b[0m \u001b[0mx\u001b[0m\u001b[1;33m)\u001b[0m\u001b[1;33m\u001b[0m\u001b[0m\n\u001b[0m\u001b[0;32m    220\u001b[0m \u001b[1;33m\u001b[0m\u001b[0m\n\u001b[0;32m    221\u001b[0m     \u001b[1;32mif\u001b[0m \u001b[1;32mnot\u001b[0m \u001b[0mF\u001b[0m\u001b[1;33m.\u001b[0m\u001b[0mhas\u001b[0m\u001b[1;33m(\u001b[0m\u001b[0mIntegral\u001b[0m\u001b[1;33m)\u001b[0m\u001b[1;33m:\u001b[0m\u001b[1;33m\u001b[0m\u001b[0m\n",
        "\u001b[1;32mc:\\WinPython-64\\python-2.7.6.amd64\\lib\\site-packages\\sympy\\integrals\\meijerint.pyc\u001b[0m in \u001b[0;36mmy_integrator\u001b[1;34m(f, x)\u001b[0m\n\u001b[0;32m   1492\u001b[0m     \u001b[1;32mdef\u001b[0m \u001b[0mmy_integrator\u001b[0m\u001b[1;33m(\u001b[0m\u001b[0mf\u001b[0m\u001b[1;33m,\u001b[0m \u001b[0mx\u001b[0m\u001b[1;33m)\u001b[0m\u001b[1;33m:\u001b[0m\u001b[1;33m\u001b[0m\u001b[0m\n\u001b[0;32m   1493\u001b[0m         \u001b[1;32mfrom\u001b[0m \u001b[0msympy\u001b[0m \u001b[1;32mimport\u001b[0m \u001b[0mIntegral\u001b[0m\u001b[1;33m,\u001b[0m \u001b[0mhyperexpand\u001b[0m\u001b[1;33m\u001b[0m\u001b[0m\n\u001b[1;32m-> 1494\u001b[1;33m         \u001b[0mr\u001b[0m \u001b[1;33m=\u001b[0m \u001b[0m_meijerint_definite_4\u001b[0m\u001b[1;33m(\u001b[0m\u001b[0mf\u001b[0m\u001b[1;33m,\u001b[0m \u001b[0mx\u001b[0m\u001b[1;33m,\u001b[0m \u001b[0monly_double\u001b[0m\u001b[1;33m=\u001b[0m\u001b[0mTrue\u001b[0m\u001b[1;33m)\u001b[0m\u001b[1;33m\u001b[0m\u001b[0m\n\u001b[0m\u001b[0;32m   1495\u001b[0m         \u001b[1;32mif\u001b[0m \u001b[0mr\u001b[0m \u001b[1;32mis\u001b[0m \u001b[1;32mnot\u001b[0m \u001b[0mNone\u001b[0m\u001b[1;33m:\u001b[0m\u001b[1;33m\u001b[0m\u001b[0m\n\u001b[0;32m   1496\u001b[0m             \u001b[0mres\u001b[0m\u001b[1;33m,\u001b[0m \u001b[0mcond\u001b[0m \u001b[1;33m=\u001b[0m \u001b[0mr\u001b[0m\u001b[1;33m\u001b[0m\u001b[0m\n",
        "\u001b[1;32mc:\\WinPython-64\\python-2.7.6.amd64\\lib\\site-packages\\sympy\\integrals\\meijerint.pyc\u001b[0m in \u001b[0;36m_meijerint_definite_4\u001b[1;34m(f, x, only_double)\u001b[0m\n\u001b[0;32m   1918\u001b[0m \u001b[1;33m\u001b[0m\u001b[0m\n\u001b[0;32m   1919\u001b[0m     \u001b[1;31m# Try two G functions.\u001b[0m\u001b[1;33m\u001b[0m\u001b[1;33m\u001b[0m\u001b[0m\n\u001b[1;32m-> 1920\u001b[1;33m     \u001b[0mgs\u001b[0m \u001b[1;33m=\u001b[0m \u001b[0m_rewrite2\u001b[0m\u001b[1;33m(\u001b[0m\u001b[0mf\u001b[0m\u001b[1;33m,\u001b[0m \u001b[0mx\u001b[0m\u001b[1;33m)\u001b[0m\u001b[1;33m\u001b[0m\u001b[0m\n\u001b[0m\u001b[0;32m   1921\u001b[0m     \u001b[1;32mif\u001b[0m \u001b[0mgs\u001b[0m \u001b[1;32mis\u001b[0m \u001b[1;32mnot\u001b[0m \u001b[0mNone\u001b[0m\u001b[1;33m:\u001b[0m\u001b[1;33m\u001b[0m\u001b[0m\n\u001b[0;32m   1922\u001b[0m         \u001b[1;32mfor\u001b[0m \u001b[0mfull_pb\u001b[0m \u001b[1;32min\u001b[0m \u001b[1;33m[\u001b[0m\u001b[0mFalse\u001b[0m\u001b[1;33m,\u001b[0m \u001b[0mTrue\u001b[0m\u001b[1;33m]\u001b[0m\u001b[1;33m:\u001b[0m\u001b[1;33m\u001b[0m\u001b[0m\n",
        "\u001b[1;32mc:\\WinPython-64\\python-2.7.6.amd64\\lib\\site-packages\\sympy\\integrals\\meijerint.pyc\u001b[0m in \u001b[0;36m_rewrite2\u001b[1;34m(f, x)\u001b[0m\n\u001b[0;32m   1573\u001b[0m     \u001b[1;32mfor\u001b[0m \u001b[0mrecursive\u001b[0m \u001b[1;32min\u001b[0m \u001b[1;33m[\u001b[0m\u001b[0mFalse\u001b[0m\u001b[1;33m,\u001b[0m \u001b[0mTrue\u001b[0m\u001b[1;33m]\u001b[0m\u001b[1;33m:\u001b[0m\u001b[1;33m\u001b[0m\u001b[0m\n\u001b[0;32m   1574\u001b[0m         \u001b[1;32mfor\u001b[0m \u001b[0mfac1\u001b[0m\u001b[1;33m,\u001b[0m \u001b[0mfac2\u001b[0m \u001b[1;32min\u001b[0m \u001b[0ml\u001b[0m\u001b[1;33m:\u001b[0m\u001b[1;33m\u001b[0m\u001b[0m\n\u001b[1;32m-> 1575\u001b[1;33m             \u001b[0mg1\u001b[0m \u001b[1;33m=\u001b[0m \u001b[0m_rewrite_single\u001b[0m\u001b[1;33m(\u001b[0m\u001b[0mfac1\u001b[0m\u001b[1;33m,\u001b[0m \u001b[0mx\u001b[0m\u001b[1;33m,\u001b[0m \u001b[0mrecursive\u001b[0m\u001b[1;33m)\u001b[0m\u001b[1;33m\u001b[0m\u001b[0m\n\u001b[0m\u001b[0;32m   1576\u001b[0m             \u001b[0mg2\u001b[0m \u001b[1;33m=\u001b[0m \u001b[0m_rewrite_single\u001b[0m\u001b[1;33m(\u001b[0m\u001b[0mfac2\u001b[0m\u001b[1;33m,\u001b[0m \u001b[0mx\u001b[0m\u001b[1;33m,\u001b[0m \u001b[0mrecursive\u001b[0m\u001b[1;33m)\u001b[0m\u001b[1;33m\u001b[0m\u001b[0m\n\u001b[0;32m   1577\u001b[0m             \u001b[1;32mif\u001b[0m \u001b[0mg1\u001b[0m \u001b[1;32mand\u001b[0m \u001b[0mg2\u001b[0m\u001b[1;33m:\u001b[0m\u001b[1;33m\u001b[0m\u001b[0m\n",
        "\u001b[1;32mc:\\WinPython-64\\python-2.7.6.amd64\\lib\\site-packages\\sympy\\core\\cache.pyc\u001b[0m in \u001b[0;36mwrapper\u001b[1;34m(*args, **kw_args)\u001b[0m\n\u001b[0;32m     91\u001b[0m         \u001b[1;32mexcept\u001b[0m \u001b[1;33m(\u001b[0m\u001b[0mKeyError\u001b[0m\u001b[1;33m,\u001b[0m \u001b[0mTypeError\u001b[0m\u001b[1;33m)\u001b[0m\u001b[1;33m:\u001b[0m\u001b[1;33m\u001b[0m\u001b[0m\n\u001b[0;32m     92\u001b[0m             \u001b[1;32mpass\u001b[0m\u001b[1;33m\u001b[0m\u001b[0m\n\u001b[1;32m---> 93\u001b[1;33m         \u001b[0mr\u001b[0m \u001b[1;33m=\u001b[0m \u001b[0mfunc\u001b[0m\u001b[1;33m(\u001b[0m\u001b[1;33m*\u001b[0m\u001b[0margs\u001b[0m\u001b[1;33m,\u001b[0m \u001b[1;33m**\u001b[0m\u001b[0mkw_args\u001b[0m\u001b[1;33m)\u001b[0m\u001b[1;33m\u001b[0m\u001b[0m\n\u001b[0m\u001b[0;32m     94\u001b[0m         \u001b[1;32mtry\u001b[0m\u001b[1;33m:\u001b[0m\u001b[1;33m\u001b[0m\u001b[0m\n\u001b[0;32m     95\u001b[0m             \u001b[0mfunc_cache_it_cache\u001b[0m\u001b[1;33m[\u001b[0m\u001b[0mk\u001b[0m\u001b[1;33m]\u001b[0m \u001b[1;33m=\u001b[0m \u001b[0mr\u001b[0m\u001b[1;33m\u001b[0m\u001b[0m\n",
        "\u001b[1;32mc:\\WinPython-64\\python-2.7.6.amd64\\lib\\site-packages\\sympy\\integrals\\meijerint.pyc\u001b[0m in \u001b[0;36m_rewrite_single\u001b[1;34m(f, x, recursive)\u001b[0m\n\u001b[0;32m   1502\u001b[0m         F, strip, _ = mellin_transform(f, x, s, integrator=my_integrator,\n\u001b[0;32m   1503\u001b[0m                                        simplify=False, needeval=True)\n\u001b[1;32m-> 1504\u001b[1;33m         \u001b[0mg\u001b[0m \u001b[1;33m=\u001b[0m \u001b[0mmy_imt\u001b[0m\u001b[1;33m(\u001b[0m\u001b[0mF\u001b[0m\u001b[1;33m,\u001b[0m \u001b[0ms\u001b[0m\u001b[1;33m,\u001b[0m \u001b[0mx\u001b[0m\u001b[1;33m,\u001b[0m \u001b[0mstrip\u001b[0m\u001b[1;33m)\u001b[0m\u001b[1;33m\u001b[0m\u001b[0m\n\u001b[0m\u001b[0;32m   1505\u001b[0m     \u001b[1;32mexcept\u001b[0m \u001b[0mIntegralTransformError\u001b[0m\u001b[1;33m:\u001b[0m\u001b[1;33m\u001b[0m\u001b[0m\n\u001b[0;32m   1506\u001b[0m         \u001b[0mg\u001b[0m \u001b[1;33m=\u001b[0m \u001b[0mNone\u001b[0m\u001b[1;33m\u001b[0m\u001b[0m\n",
        "\u001b[1;32mc:\\WinPython-64\\python-2.7.6.amd64\\lib\\site-packages\\sympy\\integrals\\meijerint.pyc\u001b[0m in \u001b[0;36mmy_imt\u001b[1;34m(F, s, x, strip)\u001b[0m\n\u001b[0;32m   1481\u001b[0m         \u001b[1;32mtry\u001b[0m\u001b[1;33m:\u001b[0m\u001b[1;33m\u001b[0m\u001b[0m\n\u001b[0;32m   1482\u001b[0m             return inverse_mellin_transform(F, s, x, strip,\n\u001b[1;32m-> 1483\u001b[1;33m                                             as_meijerg=True, needeval=True)\n\u001b[0m\u001b[0;32m   1484\u001b[0m         \u001b[1;32mexcept\u001b[0m \u001b[0mMellinTransformStripError\u001b[0m\u001b[1;33m:\u001b[0m\u001b[1;33m\u001b[0m\u001b[0m\n\u001b[0;32m   1485\u001b[0m             return inverse_mellin_transform(\n",
        "\u001b[1;32mc:\\WinPython-64\\python-2.7.6.amd64\\lib\\site-packages\\sympy\\integrals\\transforms.pyc\u001b[0m in \u001b[0;36minverse_mellin_transform\u001b[1;34m(F, s, x, strip, **hints)\u001b[0m\n\u001b[0;32m    859\u001b[0m     \u001b[0mhankel_transform\u001b[0m\u001b[1;33m,\u001b[0m \u001b[0minverse_hankel_transform\u001b[0m\u001b[1;33m\u001b[0m\u001b[0m\n\u001b[0;32m    860\u001b[0m     \"\"\"\n\u001b[1;32m--> 861\u001b[1;33m     \u001b[1;32mreturn\u001b[0m \u001b[0mInverseMellinTransform\u001b[0m\u001b[1;33m(\u001b[0m\u001b[0mF\u001b[0m\u001b[1;33m,\u001b[0m \u001b[0ms\u001b[0m\u001b[1;33m,\u001b[0m \u001b[0mx\u001b[0m\u001b[1;33m,\u001b[0m \u001b[0mstrip\u001b[0m\u001b[1;33m[\u001b[0m\u001b[1;36m0\u001b[0m\u001b[1;33m]\u001b[0m\u001b[1;33m,\u001b[0m \u001b[0mstrip\u001b[0m\u001b[1;33m[\u001b[0m\u001b[1;36m1\u001b[0m\u001b[1;33m]\u001b[0m\u001b[1;33m)\u001b[0m\u001b[1;33m.\u001b[0m\u001b[0mdoit\u001b[0m\u001b[1;33m(\u001b[0m\u001b[1;33m**\u001b[0m\u001b[0mhints\u001b[0m\u001b[1;33m)\u001b[0m\u001b[1;33m\u001b[0m\u001b[0m\n\u001b[0m\u001b[0;32m    862\u001b[0m \u001b[1;33m\u001b[0m\u001b[0m\n\u001b[0;32m    863\u001b[0m \u001b[1;33m\u001b[0m\u001b[0m\n",
        "\u001b[1;32mc:\\WinPython-64\\python-2.7.6.amd64\\lib\\site-packages\\sympy\\integrals\\transforms.pyc\u001b[0m in \u001b[0;36mdoit\u001b[1;34m(self, **hints)\u001b[0m\n\u001b[0;32m    115\u001b[0m             \u001b[1;32mtry\u001b[0m\u001b[1;33m:\u001b[0m\u001b[1;33m\u001b[0m\u001b[0m\n\u001b[0;32m    116\u001b[0m                 return self._compute_transform(self.function,\n\u001b[1;32m--> 117\u001b[1;33m                     self.function_variable, self.transform_variable, **hints)\n\u001b[0m\u001b[0;32m    118\u001b[0m             \u001b[1;32mexcept\u001b[0m \u001b[0mIntegralTransformError\u001b[0m\u001b[1;33m:\u001b[0m\u001b[1;33m\u001b[0m\u001b[0m\n\u001b[0;32m    119\u001b[0m                 \u001b[1;32mpass\u001b[0m\u001b[1;33m\u001b[0m\u001b[0m\n",
        "\u001b[1;32mc:\\WinPython-64\\python-2.7.6.amd64\\lib\\site-packages\\sympy\\integrals\\transforms.pyc\u001b[0m in \u001b[0;36m_compute_transform\u001b[1;34m(self, F, s, x, **hints)\u001b[0m\n\u001b[0;32m    803\u001b[0m                                      'Component %s not recognised.' % f)\n\u001b[0;32m    804\u001b[0m         \u001b[0mstrip\u001b[0m \u001b[1;33m=\u001b[0m \u001b[0mself\u001b[0m\u001b[1;33m.\u001b[0m\u001b[0mfundamental_strip\u001b[0m\u001b[1;33m\u001b[0m\u001b[0m\n\u001b[1;32m--> 805\u001b[1;33m         \u001b[1;32mreturn\u001b[0m \u001b[0m_inverse_mellin_transform\u001b[0m\u001b[1;33m(\u001b[0m\u001b[0mF\u001b[0m\u001b[1;33m,\u001b[0m \u001b[0ms\u001b[0m\u001b[1;33m,\u001b[0m \u001b[0mx\u001b[0m\u001b[1;33m,\u001b[0m \u001b[0mstrip\u001b[0m\u001b[1;33m,\u001b[0m \u001b[1;33m**\u001b[0m\u001b[0mhints\u001b[0m\u001b[1;33m)\u001b[0m\u001b[1;33m\u001b[0m\u001b[0m\n\u001b[0m\u001b[0;32m    806\u001b[0m \u001b[1;33m\u001b[0m\u001b[0m\n\u001b[0;32m    807\u001b[0m     \u001b[1;32mdef\u001b[0m \u001b[0m_as_integral\u001b[0m\u001b[1;33m(\u001b[0m\u001b[0mself\u001b[0m\u001b[1;33m,\u001b[0m \u001b[0mF\u001b[0m\u001b[1;33m,\u001b[0m \u001b[0ms\u001b[0m\u001b[1;33m,\u001b[0m \u001b[0mx\u001b[0m\u001b[1;33m)\u001b[0m\u001b[1;33m:\u001b[0m\u001b[1;33m\u001b[0m\u001b[0m\n",
        "\u001b[1;32mc:\\WinPython-64\\python-2.7.6.amd64\\lib\\site-packages\\sympy\\integrals\\transforms.pyc\u001b[0m in \u001b[0;36mwrapper\u001b[1;34m(*args, **kwargs)\u001b[0m\n\u001b[0;32m    193\u001b[0m         \u001b[1;32mdef\u001b[0m \u001b[0mwrapper\u001b[0m\u001b[1;33m(\u001b[0m\u001b[1;33m*\u001b[0m\u001b[0margs\u001b[0m\u001b[1;33m,\u001b[0m \u001b[1;33m**\u001b[0m\u001b[0mkwargs\u001b[0m\u001b[1;33m)\u001b[0m\u001b[1;33m:\u001b[0m\u001b[1;33m\u001b[0m\u001b[0m\n\u001b[0;32m    194\u001b[0m             \u001b[0mnoconds\u001b[0m \u001b[1;33m=\u001b[0m \u001b[0mkwargs\u001b[0m\u001b[1;33m.\u001b[0m\u001b[0mpop\u001b[0m\u001b[1;33m(\u001b[0m\u001b[1;34m'noconds'\u001b[0m\u001b[1;33m,\u001b[0m \u001b[0mdefault\u001b[0m\u001b[1;33m)\u001b[0m\u001b[1;33m\u001b[0m\u001b[0m\n\u001b[1;32m--> 195\u001b[1;33m             \u001b[0mres\u001b[0m \u001b[1;33m=\u001b[0m \u001b[0mfunc\u001b[0m\u001b[1;33m(\u001b[0m\u001b[1;33m*\u001b[0m\u001b[0margs\u001b[0m\u001b[1;33m,\u001b[0m \u001b[1;33m**\u001b[0m\u001b[0mkwargs\u001b[0m\u001b[1;33m)\u001b[0m\u001b[1;33m\u001b[0m\u001b[0m\n\u001b[0m\u001b[0;32m    196\u001b[0m             \u001b[1;32mif\u001b[0m \u001b[0mnoconds\u001b[0m\u001b[1;33m:\u001b[0m\u001b[1;33m\u001b[0m\u001b[0m\n\u001b[0;32m    197\u001b[0m                 \u001b[1;32mreturn\u001b[0m \u001b[0mres\u001b[0m\u001b[1;33m[\u001b[0m\u001b[1;36m0\u001b[0m\u001b[1;33m]\u001b[0m\u001b[1;33m\u001b[0m\u001b[0m\n",
        "\u001b[1;32mc:\\WinPython-64\\python-2.7.6.amd64\\lib\\site-packages\\sympy\\integrals\\transforms.pyc\u001b[0m in \u001b[0;36m_inverse_mellin_transform\u001b[1;34m(F, s, x_, strip, as_meijerg)\u001b[0m\n\u001b[0;32m    708\u001b[0m     \u001b[1;31m# of the Meijer G function as a fairly general inverse mellin transform.\u001b[0m\u001b[1;33m\u001b[0m\u001b[1;33m\u001b[0m\u001b[0m\n\u001b[0;32m    709\u001b[0m     \u001b[0mF\u001b[0m \u001b[1;33m=\u001b[0m \u001b[0mF\u001b[0m\u001b[1;33m.\u001b[0m\u001b[0mrewrite\u001b[0m\u001b[1;33m(\u001b[0m\u001b[0mgamma\u001b[0m\u001b[1;33m)\u001b[0m\u001b[1;33m\u001b[0m\u001b[0m\n\u001b[1;32m--> 710\u001b[1;33m     \u001b[1;32mfor\u001b[0m \u001b[0mg\u001b[0m \u001b[1;32min\u001b[0m \u001b[1;33m[\u001b[0m\u001b[0mfactor\u001b[0m\u001b[1;33m(\u001b[0m\u001b[0mF\u001b[0m\u001b[1;33m)\u001b[0m\u001b[1;33m,\u001b[0m \u001b[0mexpand_mul\u001b[0m\u001b[1;33m(\u001b[0m\u001b[0mF\u001b[0m\u001b[1;33m)\u001b[0m\u001b[1;33m,\u001b[0m \u001b[0mexpand\u001b[0m\u001b[1;33m(\u001b[0m\u001b[0mF\u001b[0m\u001b[1;33m)\u001b[0m\u001b[1;33m]\u001b[0m\u001b[1;33m:\u001b[0m\u001b[1;33m\u001b[0m\u001b[0m\n\u001b[0m\u001b[0;32m    711\u001b[0m         \u001b[1;32mif\u001b[0m \u001b[0mg\u001b[0m\u001b[1;33m.\u001b[0m\u001b[0mis_Add\u001b[0m\u001b[1;33m:\u001b[0m\u001b[1;33m\u001b[0m\u001b[0m\n\u001b[0;32m    712\u001b[0m             \u001b[1;31m# do all terms separately\u001b[0m\u001b[1;33m\u001b[0m\u001b[1;33m\u001b[0m\u001b[0m\n",
        "\u001b[1;32mc:\\WinPython-64\\python-2.7.6.amd64\\lib\\site-packages\\sympy\\core\\function.pyc\u001b[0m in \u001b[0;36mexpand\u001b[1;34m(e, deep, modulus, power_base, power_exp, mul, log, multinomial, basic, **hints)\u001b[0m\n\u001b[0;32m   1969\u001b[0m     \u001b[0mhints\u001b[0m\u001b[1;33m[\u001b[0m\u001b[1;34m'multinomial'\u001b[0m\u001b[1;33m]\u001b[0m \u001b[1;33m=\u001b[0m \u001b[0mmultinomial\u001b[0m\u001b[1;33m\u001b[0m\u001b[0m\n\u001b[0;32m   1970\u001b[0m     \u001b[0mhints\u001b[0m\u001b[1;33m[\u001b[0m\u001b[1;34m'basic'\u001b[0m\u001b[1;33m]\u001b[0m \u001b[1;33m=\u001b[0m \u001b[0mbasic\u001b[0m\u001b[1;33m\u001b[0m\u001b[0m\n\u001b[1;32m-> 1971\u001b[1;33m     \u001b[1;32mreturn\u001b[0m \u001b[0msympify\u001b[0m\u001b[1;33m(\u001b[0m\u001b[0me\u001b[0m\u001b[1;33m)\u001b[0m\u001b[1;33m.\u001b[0m\u001b[0mexpand\u001b[0m\u001b[1;33m(\u001b[0m\u001b[0mdeep\u001b[0m\u001b[1;33m=\u001b[0m\u001b[0mdeep\u001b[0m\u001b[1;33m,\u001b[0m \u001b[0mmodulus\u001b[0m\u001b[1;33m=\u001b[0m\u001b[0mmodulus\u001b[0m\u001b[1;33m,\u001b[0m \u001b[1;33m**\u001b[0m\u001b[0mhints\u001b[0m\u001b[1;33m)\u001b[0m\u001b[1;33m\u001b[0m\u001b[0m\n\u001b[0m\u001b[0;32m   1972\u001b[0m \u001b[1;33m\u001b[0m\u001b[0m\n\u001b[0;32m   1973\u001b[0m \u001b[1;31m# These are simple wrappers around single hints.\u001b[0m\u001b[1;33m\u001b[0m\u001b[1;33m\u001b[0m\u001b[0m\n",
        "\u001b[1;32mc:\\WinPython-64\\python-2.7.6.amd64\\lib\\site-packages\\sympy\\core\\cache.pyc\u001b[0m in \u001b[0;36mwrapper\u001b[1;34m(*args, **kw_args)\u001b[0m\n\u001b[0;32m     91\u001b[0m         \u001b[1;32mexcept\u001b[0m \u001b[1;33m(\u001b[0m\u001b[0mKeyError\u001b[0m\u001b[1;33m,\u001b[0m \u001b[0mTypeError\u001b[0m\u001b[1;33m)\u001b[0m\u001b[1;33m:\u001b[0m\u001b[1;33m\u001b[0m\u001b[0m\n\u001b[0;32m     92\u001b[0m             \u001b[1;32mpass\u001b[0m\u001b[1;33m\u001b[0m\u001b[0m\n\u001b[1;32m---> 93\u001b[1;33m         \u001b[0mr\u001b[0m \u001b[1;33m=\u001b[0m \u001b[0mfunc\u001b[0m\u001b[1;33m(\u001b[0m\u001b[1;33m*\u001b[0m\u001b[0margs\u001b[0m\u001b[1;33m,\u001b[0m \u001b[1;33m**\u001b[0m\u001b[0mkw_args\u001b[0m\u001b[1;33m)\u001b[0m\u001b[1;33m\u001b[0m\u001b[0m\n\u001b[0m\u001b[0;32m     94\u001b[0m         \u001b[1;32mtry\u001b[0m\u001b[1;33m:\u001b[0m\u001b[1;33m\u001b[0m\u001b[0m\n\u001b[0;32m     95\u001b[0m             \u001b[0mfunc_cache_it_cache\u001b[0m\u001b[1;33m[\u001b[0m\u001b[0mk\u001b[0m\u001b[1;33m]\u001b[0m \u001b[1;33m=\u001b[0m \u001b[0mr\u001b[0m\u001b[1;33m\u001b[0m\u001b[0m\n",
        "\u001b[1;32mc:\\WinPython-64\\python-2.7.6.amd64\\lib\\site-packages\\sympy\\core\\expr.pyc\u001b[0m in \u001b[0;36mexpand\u001b[1;34m(self, deep, modulus, power_base, power_exp, mul, log, multinomial, basic, **hints)\u001b[0m\n\u001b[0;32m   2875\u001b[0m             \u001b[1;32mif\u001b[0m \u001b[0mhints\u001b[0m\u001b[1;33m.\u001b[0m\u001b[0mget\u001b[0m\u001b[1;33m(\u001b[0m\u001b[1;34m'multinomial'\u001b[0m\u001b[1;33m,\u001b[0m \u001b[0mFalse\u001b[0m\u001b[1;33m)\u001b[0m\u001b[1;33m:\u001b[0m\u001b[1;33m\u001b[0m\u001b[0m\n\u001b[0;32m   2876\u001b[0m                 expr, _ = Expr._expand_hint(\n\u001b[1;32m-> 2877\u001b[1;33m                     expr, '_eval_expand_multinomial', deep=deep, **hints)\n\u001b[0m\u001b[0;32m   2878\u001b[0m             \u001b[1;32mif\u001b[0m \u001b[0mhints\u001b[0m\u001b[1;33m.\u001b[0m\u001b[0mget\u001b[0m\u001b[1;33m(\u001b[0m\u001b[1;34m'mul'\u001b[0m\u001b[1;33m,\u001b[0m \u001b[0mFalse\u001b[0m\u001b[1;33m)\u001b[0m\u001b[1;33m:\u001b[0m\u001b[1;33m\u001b[0m\u001b[0m\n\u001b[0;32m   2879\u001b[0m                 expr, _ = Expr._expand_hint(\n",
        "\u001b[1;32mc:\\WinPython-64\\python-2.7.6.amd64\\lib\\site-packages\\sympy\\core\\expr.pyc\u001b[0m in \u001b[0;36m_expand_hint\u001b[1;34m(expr, hint, deep, **hints)\u001b[0m\n\u001b[0;32m   2802\u001b[0m             \u001b[0msargs\u001b[0m \u001b[1;33m=\u001b[0m \u001b[1;33m[\u001b[0m\u001b[1;33m]\u001b[0m\u001b[1;33m\u001b[0m\u001b[0m\n\u001b[0;32m   2803\u001b[0m             \u001b[1;32mfor\u001b[0m \u001b[0marg\u001b[0m \u001b[1;32min\u001b[0m \u001b[0mexpr\u001b[0m\u001b[1;33m.\u001b[0m\u001b[0margs\u001b[0m\u001b[1;33m:\u001b[0m\u001b[1;33m\u001b[0m\u001b[0m\n\u001b[1;32m-> 2804\u001b[1;33m                 \u001b[0marg\u001b[0m\u001b[1;33m,\u001b[0m \u001b[0marghit\u001b[0m \u001b[1;33m=\u001b[0m \u001b[0mExpr\u001b[0m\u001b[1;33m.\u001b[0m\u001b[0m_expand_hint\u001b[0m\u001b[1;33m(\u001b[0m\u001b[0marg\u001b[0m\u001b[1;33m,\u001b[0m \u001b[0mhint\u001b[0m\u001b[1;33m,\u001b[0m \u001b[1;33m**\u001b[0m\u001b[0mhints\u001b[0m\u001b[1;33m)\u001b[0m\u001b[1;33m\u001b[0m\u001b[0m\n\u001b[0m\u001b[0;32m   2805\u001b[0m                 \u001b[0mhit\u001b[0m \u001b[1;33m|=\u001b[0m \u001b[0marghit\u001b[0m\u001b[1;33m\u001b[0m\u001b[0m\n\u001b[0;32m   2806\u001b[0m                 \u001b[0msargs\u001b[0m\u001b[1;33m.\u001b[0m\u001b[0mappend\u001b[0m\u001b[1;33m(\u001b[0m\u001b[0marg\u001b[0m\u001b[1;33m)\u001b[0m\u001b[1;33m\u001b[0m\u001b[0m\n",
        "\u001b[1;32mc:\\WinPython-64\\python-2.7.6.amd64\\lib\\site-packages\\sympy\\core\\expr.pyc\u001b[0m in \u001b[0;36m_expand_hint\u001b[1;34m(expr, hint, deep, **hints)\u001b[0m\n\u001b[0;32m   2802\u001b[0m             \u001b[0msargs\u001b[0m \u001b[1;33m=\u001b[0m \u001b[1;33m[\u001b[0m\u001b[1;33m]\u001b[0m\u001b[1;33m\u001b[0m\u001b[0m\n\u001b[0;32m   2803\u001b[0m             \u001b[1;32mfor\u001b[0m \u001b[0marg\u001b[0m \u001b[1;32min\u001b[0m \u001b[0mexpr\u001b[0m\u001b[1;33m.\u001b[0m\u001b[0margs\u001b[0m\u001b[1;33m:\u001b[0m\u001b[1;33m\u001b[0m\u001b[0m\n\u001b[1;32m-> 2804\u001b[1;33m                 \u001b[0marg\u001b[0m\u001b[1;33m,\u001b[0m \u001b[0marghit\u001b[0m \u001b[1;33m=\u001b[0m \u001b[0mExpr\u001b[0m\u001b[1;33m.\u001b[0m\u001b[0m_expand_hint\u001b[0m\u001b[1;33m(\u001b[0m\u001b[0marg\u001b[0m\u001b[1;33m,\u001b[0m \u001b[0mhint\u001b[0m\u001b[1;33m,\u001b[0m \u001b[1;33m**\u001b[0m\u001b[0mhints\u001b[0m\u001b[1;33m)\u001b[0m\u001b[1;33m\u001b[0m\u001b[0m\n\u001b[0m\u001b[0;32m   2805\u001b[0m                 \u001b[0mhit\u001b[0m \u001b[1;33m|=\u001b[0m \u001b[0marghit\u001b[0m\u001b[1;33m\u001b[0m\u001b[0m\n\u001b[0;32m   2806\u001b[0m                 \u001b[0msargs\u001b[0m\u001b[1;33m.\u001b[0m\u001b[0mappend\u001b[0m\u001b[1;33m(\u001b[0m\u001b[0marg\u001b[0m\u001b[1;33m)\u001b[0m\u001b[1;33m\u001b[0m\u001b[0m\n",
        "\u001b[1;32mc:\\WinPython-64\\python-2.7.6.amd64\\lib\\site-packages\\sympy\\core\\expr.pyc\u001b[0m in \u001b[0;36m_expand_hint\u001b[1;34m(expr, hint, deep, **hints)\u001b[0m\n\u001b[0;32m   2802\u001b[0m             \u001b[0msargs\u001b[0m \u001b[1;33m=\u001b[0m \u001b[1;33m[\u001b[0m\u001b[1;33m]\u001b[0m\u001b[1;33m\u001b[0m\u001b[0m\n\u001b[0;32m   2803\u001b[0m             \u001b[1;32mfor\u001b[0m \u001b[0marg\u001b[0m \u001b[1;32min\u001b[0m \u001b[0mexpr\u001b[0m\u001b[1;33m.\u001b[0m\u001b[0margs\u001b[0m\u001b[1;33m:\u001b[0m\u001b[1;33m\u001b[0m\u001b[0m\n\u001b[1;32m-> 2804\u001b[1;33m                 \u001b[0marg\u001b[0m\u001b[1;33m,\u001b[0m \u001b[0marghit\u001b[0m \u001b[1;33m=\u001b[0m \u001b[0mExpr\u001b[0m\u001b[1;33m.\u001b[0m\u001b[0m_expand_hint\u001b[0m\u001b[1;33m(\u001b[0m\u001b[0marg\u001b[0m\u001b[1;33m,\u001b[0m \u001b[0mhint\u001b[0m\u001b[1;33m,\u001b[0m \u001b[1;33m**\u001b[0m\u001b[0mhints\u001b[0m\u001b[1;33m)\u001b[0m\u001b[1;33m\u001b[0m\u001b[0m\n\u001b[0m\u001b[0;32m   2805\u001b[0m                 \u001b[0mhit\u001b[0m \u001b[1;33m|=\u001b[0m \u001b[0marghit\u001b[0m\u001b[1;33m\u001b[0m\u001b[0m\n\u001b[0;32m   2806\u001b[0m                 \u001b[0msargs\u001b[0m\u001b[1;33m.\u001b[0m\u001b[0mappend\u001b[0m\u001b[1;33m(\u001b[0m\u001b[0marg\u001b[0m\u001b[1;33m)\u001b[0m\u001b[1;33m\u001b[0m\u001b[0m\n",
        "\u001b[1;32mc:\\WinPython-64\\python-2.7.6.amd64\\lib\\site-packages\\sympy\\core\\expr.pyc\u001b[0m in \u001b[0;36m_expand_hint\u001b[1;34m(expr, hint, deep, **hints)\u001b[0m\n\u001b[0;32m   2802\u001b[0m             \u001b[0msargs\u001b[0m \u001b[1;33m=\u001b[0m \u001b[1;33m[\u001b[0m\u001b[1;33m]\u001b[0m\u001b[1;33m\u001b[0m\u001b[0m\n\u001b[0;32m   2803\u001b[0m             \u001b[1;32mfor\u001b[0m \u001b[0marg\u001b[0m \u001b[1;32min\u001b[0m \u001b[0mexpr\u001b[0m\u001b[1;33m.\u001b[0m\u001b[0margs\u001b[0m\u001b[1;33m:\u001b[0m\u001b[1;33m\u001b[0m\u001b[0m\n\u001b[1;32m-> 2804\u001b[1;33m                 \u001b[0marg\u001b[0m\u001b[1;33m,\u001b[0m \u001b[0marghit\u001b[0m \u001b[1;33m=\u001b[0m \u001b[0mExpr\u001b[0m\u001b[1;33m.\u001b[0m\u001b[0m_expand_hint\u001b[0m\u001b[1;33m(\u001b[0m\u001b[0marg\u001b[0m\u001b[1;33m,\u001b[0m \u001b[0mhint\u001b[0m\u001b[1;33m,\u001b[0m \u001b[1;33m**\u001b[0m\u001b[0mhints\u001b[0m\u001b[1;33m)\u001b[0m\u001b[1;33m\u001b[0m\u001b[0m\n\u001b[0m\u001b[0;32m   2805\u001b[0m                 \u001b[0mhit\u001b[0m \u001b[1;33m|=\u001b[0m \u001b[0marghit\u001b[0m\u001b[1;33m\u001b[0m\u001b[0m\n\u001b[0;32m   2806\u001b[0m                 \u001b[0msargs\u001b[0m\u001b[1;33m.\u001b[0m\u001b[0mappend\u001b[0m\u001b[1;33m(\u001b[0m\u001b[0marg\u001b[0m\u001b[1;33m)\u001b[0m\u001b[1;33m\u001b[0m\u001b[0m\n",
        "\u001b[1;32mc:\\WinPython-64\\python-2.7.6.amd64\\lib\\site-packages\\sympy\\core\\expr.pyc\u001b[0m in \u001b[0;36m_expand_hint\u001b[1;34m(expr, hint, deep, **hints)\u001b[0m\n\u001b[0;32m   2802\u001b[0m             \u001b[0msargs\u001b[0m \u001b[1;33m=\u001b[0m \u001b[1;33m[\u001b[0m\u001b[1;33m]\u001b[0m\u001b[1;33m\u001b[0m\u001b[0m\n\u001b[0;32m   2803\u001b[0m             \u001b[1;32mfor\u001b[0m \u001b[0marg\u001b[0m \u001b[1;32min\u001b[0m \u001b[0mexpr\u001b[0m\u001b[1;33m.\u001b[0m\u001b[0margs\u001b[0m\u001b[1;33m:\u001b[0m\u001b[1;33m\u001b[0m\u001b[0m\n\u001b[1;32m-> 2804\u001b[1;33m                 \u001b[0marg\u001b[0m\u001b[1;33m,\u001b[0m \u001b[0marghit\u001b[0m \u001b[1;33m=\u001b[0m \u001b[0mExpr\u001b[0m\u001b[1;33m.\u001b[0m\u001b[0m_expand_hint\u001b[0m\u001b[1;33m(\u001b[0m\u001b[0marg\u001b[0m\u001b[1;33m,\u001b[0m \u001b[0mhint\u001b[0m\u001b[1;33m,\u001b[0m \u001b[1;33m**\u001b[0m\u001b[0mhints\u001b[0m\u001b[1;33m)\u001b[0m\u001b[1;33m\u001b[0m\u001b[0m\n\u001b[0m\u001b[0;32m   2805\u001b[0m                 \u001b[0mhit\u001b[0m \u001b[1;33m|=\u001b[0m \u001b[0marghit\u001b[0m\u001b[1;33m\u001b[0m\u001b[0m\n\u001b[0;32m   2806\u001b[0m                 \u001b[0msargs\u001b[0m\u001b[1;33m.\u001b[0m\u001b[0mappend\u001b[0m\u001b[1;33m(\u001b[0m\u001b[0marg\u001b[0m\u001b[1;33m)\u001b[0m\u001b[1;33m\u001b[0m\u001b[0m\n",
        "\u001b[1;32mc:\\WinPython-64\\python-2.7.6.amd64\\lib\\site-packages\\sympy\\core\\expr.pyc\u001b[0m in \u001b[0;36m_expand_hint\u001b[1;34m(expr, hint, deep, **hints)\u001b[0m\n\u001b[0;32m   2802\u001b[0m             \u001b[0msargs\u001b[0m \u001b[1;33m=\u001b[0m \u001b[1;33m[\u001b[0m\u001b[1;33m]\u001b[0m\u001b[1;33m\u001b[0m\u001b[0m\n\u001b[0;32m   2803\u001b[0m             \u001b[1;32mfor\u001b[0m \u001b[0marg\u001b[0m \u001b[1;32min\u001b[0m \u001b[0mexpr\u001b[0m\u001b[1;33m.\u001b[0m\u001b[0margs\u001b[0m\u001b[1;33m:\u001b[0m\u001b[1;33m\u001b[0m\u001b[0m\n\u001b[1;32m-> 2804\u001b[1;33m                 \u001b[0marg\u001b[0m\u001b[1;33m,\u001b[0m \u001b[0marghit\u001b[0m \u001b[1;33m=\u001b[0m \u001b[0mExpr\u001b[0m\u001b[1;33m.\u001b[0m\u001b[0m_expand_hint\u001b[0m\u001b[1;33m(\u001b[0m\u001b[0marg\u001b[0m\u001b[1;33m,\u001b[0m \u001b[0mhint\u001b[0m\u001b[1;33m,\u001b[0m \u001b[1;33m**\u001b[0m\u001b[0mhints\u001b[0m\u001b[1;33m)\u001b[0m\u001b[1;33m\u001b[0m\u001b[0m\n\u001b[0m\u001b[0;32m   2805\u001b[0m                 \u001b[0mhit\u001b[0m \u001b[1;33m|=\u001b[0m \u001b[0marghit\u001b[0m\u001b[1;33m\u001b[0m\u001b[0m\n\u001b[0;32m   2806\u001b[0m                 \u001b[0msargs\u001b[0m\u001b[1;33m.\u001b[0m\u001b[0mappend\u001b[0m\u001b[1;33m(\u001b[0m\u001b[0marg\u001b[0m\u001b[1;33m)\u001b[0m\u001b[1;33m\u001b[0m\u001b[0m\n",
        "\u001b[1;32mc:\\WinPython-64\\python-2.7.6.amd64\\lib\\site-packages\\sympy\\core\\expr.pyc\u001b[0m in \u001b[0;36m_expand_hint\u001b[1;34m(expr, hint, deep, **hints)\u001b[0m\n\u001b[0;32m   2802\u001b[0m             \u001b[0msargs\u001b[0m \u001b[1;33m=\u001b[0m \u001b[1;33m[\u001b[0m\u001b[1;33m]\u001b[0m\u001b[1;33m\u001b[0m\u001b[0m\n\u001b[0;32m   2803\u001b[0m             \u001b[1;32mfor\u001b[0m \u001b[0marg\u001b[0m \u001b[1;32min\u001b[0m \u001b[0mexpr\u001b[0m\u001b[1;33m.\u001b[0m\u001b[0margs\u001b[0m\u001b[1;33m:\u001b[0m\u001b[1;33m\u001b[0m\u001b[0m\n\u001b[1;32m-> 2804\u001b[1;33m                 \u001b[0marg\u001b[0m\u001b[1;33m,\u001b[0m \u001b[0marghit\u001b[0m \u001b[1;33m=\u001b[0m \u001b[0mExpr\u001b[0m\u001b[1;33m.\u001b[0m\u001b[0m_expand_hint\u001b[0m\u001b[1;33m(\u001b[0m\u001b[0marg\u001b[0m\u001b[1;33m,\u001b[0m \u001b[0mhint\u001b[0m\u001b[1;33m,\u001b[0m \u001b[1;33m**\u001b[0m\u001b[0mhints\u001b[0m\u001b[1;33m)\u001b[0m\u001b[1;33m\u001b[0m\u001b[0m\n\u001b[0m\u001b[0;32m   2805\u001b[0m                 \u001b[0mhit\u001b[0m \u001b[1;33m|=\u001b[0m \u001b[0marghit\u001b[0m\u001b[1;33m\u001b[0m\u001b[0m\n\u001b[0;32m   2806\u001b[0m                 \u001b[0msargs\u001b[0m\u001b[1;33m.\u001b[0m\u001b[0mappend\u001b[0m\u001b[1;33m(\u001b[0m\u001b[0marg\u001b[0m\u001b[1;33m)\u001b[0m\u001b[1;33m\u001b[0m\u001b[0m\n",
        "\u001b[1;32mc:\\WinPython-64\\python-2.7.6.amd64\\lib\\site-packages\\sympy\\core\\expr.pyc\u001b[0m in \u001b[0;36m_expand_hint\u001b[1;34m(expr, hint, deep, **hints)\u001b[0m\n\u001b[0;32m   2802\u001b[0m             \u001b[0msargs\u001b[0m \u001b[1;33m=\u001b[0m \u001b[1;33m[\u001b[0m\u001b[1;33m]\u001b[0m\u001b[1;33m\u001b[0m\u001b[0m\n\u001b[0;32m   2803\u001b[0m             \u001b[1;32mfor\u001b[0m \u001b[0marg\u001b[0m \u001b[1;32min\u001b[0m \u001b[0mexpr\u001b[0m\u001b[1;33m.\u001b[0m\u001b[0margs\u001b[0m\u001b[1;33m:\u001b[0m\u001b[1;33m\u001b[0m\u001b[0m\n\u001b[1;32m-> 2804\u001b[1;33m                 \u001b[0marg\u001b[0m\u001b[1;33m,\u001b[0m \u001b[0marghit\u001b[0m \u001b[1;33m=\u001b[0m \u001b[0mExpr\u001b[0m\u001b[1;33m.\u001b[0m\u001b[0m_expand_hint\u001b[0m\u001b[1;33m(\u001b[0m\u001b[0marg\u001b[0m\u001b[1;33m,\u001b[0m \u001b[0mhint\u001b[0m\u001b[1;33m,\u001b[0m \u001b[1;33m**\u001b[0m\u001b[0mhints\u001b[0m\u001b[1;33m)\u001b[0m\u001b[1;33m\u001b[0m\u001b[0m\n\u001b[0m\u001b[0;32m   2805\u001b[0m                 \u001b[0mhit\u001b[0m \u001b[1;33m|=\u001b[0m \u001b[0marghit\u001b[0m\u001b[1;33m\u001b[0m\u001b[0m\n\u001b[0;32m   2806\u001b[0m                 \u001b[0msargs\u001b[0m\u001b[1;33m.\u001b[0m\u001b[0mappend\u001b[0m\u001b[1;33m(\u001b[0m\u001b[0marg\u001b[0m\u001b[1;33m)\u001b[0m\u001b[1;33m\u001b[0m\u001b[0m\n",
        "\u001b[1;32mc:\\WinPython-64\\python-2.7.6.amd64\\lib\\site-packages\\sympy\\core\\expr.pyc\u001b[0m in \u001b[0;36m_expand_hint\u001b[1;34m(expr, hint, deep, **hints)\u001b[0m\n\u001b[0;32m   2802\u001b[0m             \u001b[0msargs\u001b[0m \u001b[1;33m=\u001b[0m \u001b[1;33m[\u001b[0m\u001b[1;33m]\u001b[0m\u001b[1;33m\u001b[0m\u001b[0m\n\u001b[0;32m   2803\u001b[0m             \u001b[1;32mfor\u001b[0m \u001b[0marg\u001b[0m \u001b[1;32min\u001b[0m \u001b[0mexpr\u001b[0m\u001b[1;33m.\u001b[0m\u001b[0margs\u001b[0m\u001b[1;33m:\u001b[0m\u001b[1;33m\u001b[0m\u001b[0m\n\u001b[1;32m-> 2804\u001b[1;33m                 \u001b[0marg\u001b[0m\u001b[1;33m,\u001b[0m \u001b[0marghit\u001b[0m \u001b[1;33m=\u001b[0m \u001b[0mExpr\u001b[0m\u001b[1;33m.\u001b[0m\u001b[0m_expand_hint\u001b[0m\u001b[1;33m(\u001b[0m\u001b[0marg\u001b[0m\u001b[1;33m,\u001b[0m \u001b[0mhint\u001b[0m\u001b[1;33m,\u001b[0m \u001b[1;33m**\u001b[0m\u001b[0mhints\u001b[0m\u001b[1;33m)\u001b[0m\u001b[1;33m\u001b[0m\u001b[0m\n\u001b[0m\u001b[0;32m   2805\u001b[0m                 \u001b[0mhit\u001b[0m \u001b[1;33m|=\u001b[0m \u001b[0marghit\u001b[0m\u001b[1;33m\u001b[0m\u001b[0m\n\u001b[0;32m   2806\u001b[0m                 \u001b[0msargs\u001b[0m\u001b[1;33m.\u001b[0m\u001b[0mappend\u001b[0m\u001b[1;33m(\u001b[0m\u001b[0marg\u001b[0m\u001b[1;33m)\u001b[0m\u001b[1;33m\u001b[0m\u001b[0m\n",
        "\u001b[1;32mc:\\WinPython-64\\python-2.7.6.amd64\\lib\\site-packages\\sympy\\core\\expr.pyc\u001b[0m in \u001b[0;36m_expand_hint\u001b[1;34m(expr, hint, deep, **hints)\u001b[0m\n\u001b[0;32m   2809\u001b[0m                 \u001b[0mexpr\u001b[0m \u001b[1;33m=\u001b[0m \u001b[0mexpr\u001b[0m\u001b[1;33m.\u001b[0m\u001b[0mfunc\u001b[0m\u001b[1;33m(\u001b[0m\u001b[1;33m*\u001b[0m\u001b[0msargs\u001b[0m\u001b[1;33m)\u001b[0m\u001b[1;33m\u001b[0m\u001b[0m\n\u001b[0;32m   2810\u001b[0m \u001b[1;33m\u001b[0m\u001b[0m\n\u001b[1;32m-> 2811\u001b[1;33m         \u001b[1;32mif\u001b[0m \u001b[0mhasattr\u001b[0m\u001b[1;33m(\u001b[0m\u001b[0mexpr\u001b[0m\u001b[1;33m,\u001b[0m \u001b[0mhint\u001b[0m\u001b[1;33m)\u001b[0m\u001b[1;33m:\u001b[0m\u001b[1;33m\u001b[0m\u001b[0m\n\u001b[0m\u001b[0;32m   2812\u001b[0m             \u001b[0mnewexpr\u001b[0m \u001b[1;33m=\u001b[0m \u001b[0mgetattr\u001b[0m\u001b[1;33m(\u001b[0m\u001b[0mexpr\u001b[0m\u001b[1;33m,\u001b[0m \u001b[0mhint\u001b[0m\u001b[1;33m)\u001b[0m\u001b[1;33m(\u001b[0m\u001b[1;33m**\u001b[0m\u001b[0mhints\u001b[0m\u001b[1;33m)\u001b[0m\u001b[1;33m\u001b[0m\u001b[0m\n\u001b[0;32m   2813\u001b[0m             \u001b[1;32mif\u001b[0m \u001b[0mnewexpr\u001b[0m \u001b[1;33m!=\u001b[0m \u001b[0mexpr\u001b[0m\u001b[1;33m:\u001b[0m\u001b[1;33m\u001b[0m\u001b[0m\n",
        "\u001b[1;31mKeyboardInterrupt\u001b[0m: "
       ]
      }
     ],
     "prompt_number": 59
    },
    {
     "cell_type": "code",
     "collapsed": false,
     "input": [
      "i = sqrt(-1)\n",
      "integrate(exp(-2 * pi * i * x * k), x)"
     ],
     "language": "python",
     "metadata": {},
     "outputs": [
      {
       "output_type": "stream",
       "stream": "stderr",
       "text": [
        "c:\\WinPython-64\\python-2.7.6.amd64\\lib\\site-packages\\IPython\\core\\formatters.py:239: FormatterWarning: Exception in image/png formatter: \n",
        "\\begin{cases} x \\cos{\\left (2 \\phi \\right )} & \\text{for}\\: f_{0} = 0 \\wedge k = 0 \\\\x \\sin{\\left (2 \\pi k x \\right )} \\sin{\\left (2 \\pi k x - 2 \\phi \\right )} / 2 + x \\cos{\\left (2 \\pi k x \\right )} \\cos{\\left (2 \\pi k x - 2 \\phi \\right )} / 2 + \\frac{1}{4 \\pi k} \\sin{\\left (2 \\pi k x \\right )} \\cos{\\left (2 \\pi k x - 2 \\phi \\right )} & \\text{for}\\: f_{0} = - k / 2 \\\\x \\sin{\\left (2 \\pi k x \\right )} \\sin{\\left (2 \\pi k x + 2 \\phi \\right )} / 2 + x \\cos{\\left (2 \\pi k x \\right )} \\cos{\\left (2 \\pi k x + 2 \\phi \\right )} / 2 + \\frac{1}{4 \\pi k} \\sin{\\left (2 \\pi k x + 2 \\phi \\right )} \\cos{\\left (2 \\pi k x \\right )} & \\text{for}\\: f_{0} = k / 2 \\\\\\frac{2 f_{0} \\cos{\\left (2 \\pi k x \\right )}}{8 \\pi f_{0}^{2} - 2 \\pi k^{2}} \\sin{\\left (4 \\pi f_{0} x + 2 \\phi \\right )} - \\frac{k \\cos{\\left (4 \\pi f_{0} x + 2 \\phi \\right )}}{8 \\pi f_{0}^{2} - 2 \\pi k^{2}} \\sin{\\left (2 \\pi k x \\right )} & \\text{otherwise} \\end{cases}\n",
        "^\n",
        "Unknown symbol: \\begin (at char 0), (line:1, col:1)\n",
        "  FormatterWarning,\n"
       ]
      },
      {
       "latex": [
        "$$\\begin{cases} x \\cos{\\left (2 \\phi \\right )} & \\text{for}\\: f_{0} = 0 \\wedge k = 0 \\\\\\frac{x}{2} \\sin{\\left (2 \\pi k x \\right )} \\sin{\\left (2 \\pi k x - 2 \\phi \\right )} + \\frac{x}{2} \\cos{\\left (2 \\pi k x \\right )} \\cos{\\left (2 \\pi k x - 2 \\phi \\right )} + \\frac{1}{4 \\pi k} \\sin{\\left (2 \\pi k x \\right )} \\cos{\\left (2 \\pi k x - 2 \\phi \\right )} & \\text{for}\\: f_{0} = - \\frac{k}{2} \\\\\\frac{x}{2} \\sin{\\left (2 \\pi k x \\right )} \\sin{\\left (2 \\pi k x + 2 \\phi \\right )} + \\frac{x}{2} \\cos{\\left (2 \\pi k x \\right )} \\cos{\\left (2 \\pi k x + 2 \\phi \\right )} + \\frac{1}{4 \\pi k} \\sin{\\left (2 \\pi k x + 2 \\phi \\right )} \\cos{\\left (2 \\pi k x \\right )} & \\text{for}\\: f_{0} = \\frac{k}{2} \\\\\\frac{2 f_{0} \\cos{\\left (2 \\pi k x \\right )}}{8 \\pi f_{0}^{2} - 2 \\pi k^{2}} \\sin{\\left (4 \\pi f_{0} x + 2 \\phi \\right )} - \\frac{k \\cos{\\left (4 \\pi f_{0} x + 2 \\phi \\right )}}{8 \\pi f_{0}^{2} - 2 \\pi k^{2}} \\sin{\\left (2 \\pi k x \\right )} & \\text{otherwise} \\end{cases}$$"
       ],
       "metadata": {},
       "output_type": "pyout",
       "prompt_number": 60,
       "text": [
        "\u23a7                                              x\u22c5cos(2\u22c5\u03c6)                     \n",
        "\u23aa                                                                             \n",
        "\u23aax\u22c5sin(2\u22c5\u03c0\u22c5k\u22c5x)\u22c5sin(2\u22c5\u03c0\u22c5k\u22c5x - 2\u22c5\u03c6)   x\u22c5cos(2\u22c5\u03c0\u22c5k\u22c5x)\u22c5cos(2\u22c5\u03c0\u22c5k\u22c5x - 2\u22c5\u03c6)   sin(2\n",
        "\u23aa\u2500\u2500\u2500\u2500\u2500\u2500\u2500\u2500\u2500\u2500\u2500\u2500\u2500\u2500\u2500\u2500\u2500\u2500\u2500\u2500\u2500\u2500\u2500\u2500\u2500\u2500\u2500\u2500\u2500\u2500\u2500\u2500\u2500 + \u2500\u2500\u2500\u2500\u2500\u2500\u2500\u2500\u2500\u2500\u2500\u2500\u2500\u2500\u2500\u2500\u2500\u2500\u2500\u2500\u2500\u2500\u2500\u2500\u2500\u2500\u2500\u2500\u2500\u2500\u2500\u2500\u2500 + \u2500\u2500\u2500\u2500\u2500\n",
        "\u23aa                2                                   2                        \n",
        "\u23aa                                                                             \n",
        "\u23aax\u22c5sin(2\u22c5\u03c0\u22c5k\u22c5x)\u22c5sin(2\u22c5\u03c0\u22c5k\u22c5x + 2\u22c5\u03c6)   x\u22c5cos(2\u22c5\u03c0\u22c5k\u22c5x)\u22c5cos(2\u22c5\u03c0\u22c5k\u22c5x + 2\u22c5\u03c6)   sin(2\n",
        "\u23a8\u2500\u2500\u2500\u2500\u2500\u2500\u2500\u2500\u2500\u2500\u2500\u2500\u2500\u2500\u2500\u2500\u2500\u2500\u2500\u2500\u2500\u2500\u2500\u2500\u2500\u2500\u2500\u2500\u2500\u2500\u2500\u2500\u2500 + \u2500\u2500\u2500\u2500\u2500\u2500\u2500\u2500\u2500\u2500\u2500\u2500\u2500\u2500\u2500\u2500\u2500\u2500\u2500\u2500\u2500\u2500\u2500\u2500\u2500\u2500\u2500\u2500\u2500\u2500\u2500\u2500\u2500 + \u2500\u2500\u2500\u2500\u2500\n",
        "\u23aa                2                                   2                        \n",
        "\u23aa                                                                             \n",
        "\u23aa              2\u22c5f\u2080\u22c5sin(4\u22c5\u03c0\u22c5f\u2080\u22c5x + 2\u22c5\u03c6)\u22c5cos(2\u22c5\u03c0\u22c5k\u22c5x)   k\u22c5sin(2\u22c5\u03c0\u22c5k\u22c5x)\u22c5cos(4\u22c5\u03c0\u22c5\n",
        "\u23aa              \u2500\u2500\u2500\u2500\u2500\u2500\u2500\u2500\u2500\u2500\u2500\u2500\u2500\u2500\u2500\u2500\u2500\u2500\u2500\u2500\u2500\u2500\u2500\u2500\u2500\u2500\u2500\u2500\u2500\u2500\u2500\u2500\u2500\u2500\u2500\u2500\u2500 - \u2500\u2500\u2500\u2500\u2500\u2500\u2500\u2500\u2500\u2500\u2500\u2500\u2500\u2500\u2500\u2500\u2500\u2500\u2500\u2500\u2500\u2500\u2500\n",
        "\u23aa                               2        2                            2       \n",
        "\u23aa                         8\u22c5\u03c0\u22c5f\u2080  - 2\u22c5\u03c0\u22c5k                       8\u22c5\u03c0\u22c5f\u2080  - 2\u22c5\u03c0\u22c5\n",
        "\u23a9                                                                             \n",
        "\n",
        "                            for f\u2080 = 0 \u2227 k = 0\n",
        "                                              \n",
        "\u22c5\u03c0\u22c5k\u22c5x)\u22c5cos(2\u22c5\u03c0\u22c5k\u22c5x - 2\u22c5\u03c6)              -k    \n",
        "\u2500\u2500\u2500\u2500\u2500\u2500\u2500\u2500\u2500\u2500\u2500\u2500\u2500\u2500\u2500\u2500\u2500\u2500\u2500\u2500\u2500\u2500\u2500\u2500\u2500\u2500     for f\u2080 = \u2500\u2500\u2500   \n",
        "        4\u22c5\u03c0\u22c5k                            2    \n",
        "                                              \n",
        "\u22c5\u03c0\u22c5k\u22c5x + 2\u22c5\u03c6)\u22c5cos(2\u22c5\u03c0\u22c5k\u22c5x)               k    \n",
        "\u2500\u2500\u2500\u2500\u2500\u2500\u2500\u2500\u2500\u2500\u2500\u2500\u2500\u2500\u2500\u2500\u2500\u2500\u2500\u2500\u2500\u2500\u2500\u2500\u2500\u2500      for f\u2080 = \u2500    \n",
        "        4\u22c5\u03c0\u22c5k                            2    \n",
        "                                              \n",
        "f\u2080\u22c5x + 2\u22c5\u03c6)                                   \n",
        "\u2500\u2500\u2500\u2500\u2500\u2500\u2500\u2500\u2500\u2500\u2500                     otherwise     \n",
        " 2                                            \n",
        "k                                             \n",
        "                                              "
       ]
      }
     ],
     "prompt_number": 60
    },
    {
     "cell_type": "code",
     "collapsed": false,
     "input": [
      "integrate(cos(2 * w * x + 2 * phi) * exp(-2 * pi * i * x * k), x)"
     ],
     "language": "python",
     "metadata": {},
     "outputs": [
      {
       "output_type": "stream",
       "stream": "stderr",
       "text": [
        "c:\\WinPython-64\\python-2.7.6.amd64\\lib\\site-packages\\IPython\\core\\formatters.py:239: FormatterWarning: Exception in image/png formatter: \n",
        "\\begin{cases} x \\cos{\\left (2 \\phi \\right )} & \\text{for}\\: f_{0} = 0 \\wedge k = 0 \\\\i x e^{- 2 i \\pi k x} \\sin{\\left (2 \\pi k x - 2 \\phi \\right )} / 2 + x e^{- 2 i \\pi k x} \\cos{\\left (2 \\pi k x - 2 \\phi \\right )} / 2 + \\frac{e^{- 2 i \\pi k x}}{4 \\pi k} \\sin{\\left (2 \\pi k x - 2 \\phi \\right )} & \\text{for}\\: f_{0} = - k / 2 \\\\i x e^{- 2 i \\pi k x} \\sin{\\left (2 \\pi k x + 2 \\phi \\right )} / 2 + x e^{- 2 i \\pi k x} \\cos{\\left (2 \\pi k x + 2 \\phi \\right )} / 2 + \\frac{i}{4 \\pi k} e^{- 2 i \\pi k x} \\cos{\\left (2 \\pi k x + 2 \\phi \\right )} & \\text{for}\\: f_{0} = k / 2 \\\\\\frac{2 f_{0} \\sin{\\left (4 \\pi f_{0} x + 2 \\phi \\right )}}{8 \\pi f_{0}^{2} e^{2 i \\pi k x} - 2 \\pi k^{2} e^{2 i \\pi k x}} - \\frac{i k \\cos{\\left (4 \\pi f_{0} x + 2 \\phi \\right )}}{8 \\pi f_{0}^{2} e^{2 i \\pi k x} - 2 \\pi k^{2} e^{2 i \\pi k x}} & \\text{otherwise} \\end{cases}\n",
        "^\n",
        "Unknown symbol: \\begin (at char 0), (line:1, col:1)\n",
        "  FormatterWarning,\n"
       ]
      },
      {
       "latex": [
        "$$\\begin{cases} x \\cos{\\left (2 \\phi \\right )} & \\text{for}\\: f_{0} = 0 \\wedge k = 0 \\\\\\frac{i x}{2} e^{- 2 i \\pi k x} \\sin{\\left (2 \\pi k x - 2 \\phi \\right )} + \\frac{x}{2} e^{- 2 i \\pi k x} \\cos{\\left (2 \\pi k x - 2 \\phi \\right )} + \\frac{e^{- 2 i \\pi k x}}{4 \\pi k} \\sin{\\left (2 \\pi k x - 2 \\phi \\right )} & \\text{for}\\: f_{0} = - \\frac{k}{2} \\\\\\frac{i x}{2} e^{- 2 i \\pi k x} \\sin{\\left (2 \\pi k x + 2 \\phi \\right )} + \\frac{x}{2} e^{- 2 i \\pi k x} \\cos{\\left (2 \\pi k x + 2 \\phi \\right )} + \\frac{i}{4 \\pi k} e^{- 2 i \\pi k x} \\cos{\\left (2 \\pi k x + 2 \\phi \\right )} & \\text{for}\\: f_{0} = \\frac{k}{2} \\\\\\frac{2 f_{0} \\sin{\\left (4 \\pi f_{0} x + 2 \\phi \\right )}}{8 \\pi f_{0}^{2} e^{2 i \\pi k x} - 2 \\pi k^{2} e^{2 i \\pi k x}} - \\frac{i k \\cos{\\left (4 \\pi f_{0} x + 2 \\phi \\right )}}{8 \\pi f_{0}^{2} e^{2 i \\pi k x} - 2 \\pi k^{2} e^{2 i \\pi k x}} & \\text{otherwise} \\end{cases}$$"
       ],
       "metadata": {},
       "output_type": "pyout",
       "prompt_number": 61,
       "text": [
        "\u23a7                                               x\u22c5cos(2\u22c5\u03c6)                    \n",
        "\u23aa                                                                             \n",
        "\u23aa      -2\u22c5\u2148\u22c5\u03c0\u22c5k\u22c5x                         -2\u22c5\u2148\u22c5\u03c0\u22c5k\u22c5x                       -2\u22c5\n",
        "\u23aa \u2148\u22c5x\u22c5\u212f          \u22c5sin(2\u22c5\u03c0\u22c5k\u22c5x - 2\u22c5\u03c6)   x\u22c5\u212f          \u22c5cos(2\u22c5\u03c0\u22c5k\u22c5x - 2\u22c5\u03c6)   \u212f   \n",
        "\u23aa \u2500\u2500\u2500\u2500\u2500\u2500\u2500\u2500\u2500\u2500\u2500\u2500\u2500\u2500\u2500\u2500\u2500\u2500\u2500\u2500\u2500\u2500\u2500\u2500\u2500\u2500\u2500\u2500\u2500\u2500\u2500\u2500\u2500\u2500 + \u2500\u2500\u2500\u2500\u2500\u2500\u2500\u2500\u2500\u2500\u2500\u2500\u2500\u2500\u2500\u2500\u2500\u2500\u2500\u2500\u2500\u2500\u2500\u2500\u2500\u2500\u2500\u2500\u2500\u2500\u2500\u2500 + \u2500\u2500\u2500\u2500\n",
        "\u23aa                 2                                   2                       \n",
        "\u23aa                                                                             \n",
        "\u23aa     -2\u22c5\u2148\u22c5\u03c0\u22c5k\u22c5x                         -2\u22c5\u2148\u22c5\u03c0\u22c5k\u22c5x                         -2\n",
        "\u23a8\u2148\u22c5x\u22c5\u212f          \u22c5sin(2\u22c5\u03c0\u22c5k\u22c5x + 2\u22c5\u03c6)   x\u22c5\u212f          \u22c5cos(2\u22c5\u03c0\u22c5k\u22c5x + 2\u22c5\u03c6)   \u2148\u22c5\u212f  \n",
        "\u23aa\u2500\u2500\u2500\u2500\u2500\u2500\u2500\u2500\u2500\u2500\u2500\u2500\u2500\u2500\u2500\u2500\u2500\u2500\u2500\u2500\u2500\u2500\u2500\u2500\u2500\u2500\u2500\u2500\u2500\u2500\u2500\u2500\u2500\u2500 + \u2500\u2500\u2500\u2500\u2500\u2500\u2500\u2500\u2500\u2500\u2500\u2500\u2500\u2500\u2500\u2500\u2500\u2500\u2500\u2500\u2500\u2500\u2500\u2500\u2500\u2500\u2500\u2500\u2500\u2500\u2500\u2500 + \u2500\u2500\u2500\u2500\u2500\n",
        "\u23aa                2                                   2                        \n",
        "\u23aa                                                                             \n",
        "\u23aa                   2\u22c5f\u2080\u22c5sin(4\u22c5\u03c0\u22c5f\u2080\u22c5x + 2\u22c5\u03c6)                 \u2148\u22c5k\u22c5cos(4\u22c5\u03c0\u22c5f\u2080\u22c5x \n",
        "\u23aa            \u2500\u2500\u2500\u2500\u2500\u2500\u2500\u2500\u2500\u2500\u2500\u2500\u2500\u2500\u2500\u2500\u2500\u2500\u2500\u2500\u2500\u2500\u2500\u2500\u2500\u2500\u2500\u2500\u2500\u2500\u2500\u2500\u2500\u2500\u2500\u2500\u2500\u2500 - \u2500\u2500\u2500\u2500\u2500\u2500\u2500\u2500\u2500\u2500\u2500\u2500\u2500\u2500\u2500\u2500\u2500\u2500\u2500\u2500\u2500\u2500\u2500\u2500\n",
        "\u23aa                  2  2\u22c5\u2148\u22c5\u03c0\u22c5k\u22c5x        2  2\u22c5\u2148\u22c5\u03c0\u22c5k\u22c5x         2  2\u22c5\u2148\u22c5\u03c0\u22c5k\u22c5x      \n",
        "\u23aa            8\u22c5\u03c0\u22c5f\u2080 \u22c5\u212f          - 2\u22c5\u03c0\u22c5k \u22c5\u212f            8\u22c5\u03c0\u22c5f\u2080 \u22c5\u212f          - 2\u22c5\u03c0\n",
        "\u23a9                                                                             \n",
        "\n",
        "                             for f\u2080 = 0 \u2227 k = 0\n",
        "                                               \n",
        "\u2148\u22c5\u03c0\u22c5k\u22c5x                                        \n",
        "       \u22c5sin(2\u22c5\u03c0\u22c5k\u22c5x - 2\u22c5\u03c6)               -k    \n",
        "\u2500\u2500\u2500\u2500\u2500\u2500\u2500\u2500\u2500\u2500\u2500\u2500\u2500\u2500\u2500\u2500\u2500\u2500\u2500\u2500\u2500\u2500\u2500\u2500\u2500\u2500      for f\u2080 = \u2500\u2500\u2500   \n",
        "        4\u22c5\u03c0\u22c5k                             2    \n",
        "                                               \n",
        "\u22c5\u2148\u22c5\u03c0\u22c5k\u22c5x                                       \n",
        "        \u22c5cos(2\u22c5\u03c0\u22c5k\u22c5x + 2\u22c5\u03c6)               k    \n",
        "\u2500\u2500\u2500\u2500\u2500\u2500\u2500\u2500\u2500\u2500\u2500\u2500\u2500\u2500\u2500\u2500\u2500\u2500\u2500\u2500\u2500\u2500\u2500\u2500\u2500\u2500\u2500      for f\u2080 = \u2500    \n",
        "        4\u22c5\u03c0\u22c5k                             2    \n",
        "                                               \n",
        "+ 2\u22c5\u03c6)                                         \n",
        "\u2500\u2500\u2500\u2500\u2500\u2500\u2500\u2500\u2500\u2500\u2500\u2500\u2500\u2500                   otherwise     \n",
        "  2  2\u22c5\u2148\u22c5\u03c0\u22c5k\u22c5x                                 \n",
        "\u22c5k \u22c5\u212f                                          \n",
        "                                               "
       ]
      }
     ],
     "prompt_number": 61
    },
    {
     "cell_type": "code",
     "collapsed": false,
     "input": [
      "B = integrate(exp(-i * (4*pi*f0*x + 2*phi + 2*pi*k*x)),x)\n",
      "C = integrate(exp(i * (4*pi*f0*x + 2*phi - 2*pi*k*x)),x)\n",
      "B + C"
     ],
     "language": "python",
     "metadata": {},
     "outputs": [
      {
       "output_type": "stream",
       "stream": "stderr",
       "text": [
        "c:\\WinPython-64\\python-2.7.6.amd64\\lib\\site-packages\\IPython\\core\\formatters.py:239: FormatterWarning: Exception in image/png formatter: \n",
        "\\begin{cases} x & \\text{for}\\: 4 \\pi f_{0} - 2 \\pi k = 0 \\\\- \\frac{i e^{i \\left(4 \\pi f_{0} x - 2 \\pi k x + 2 \\phi\\right)}}{4 \\pi f_{0} - 2 \\pi k} & \\text{otherwise} \\end{cases} + \\begin{cases} x & \\text{for}\\: 4 \\pi f_{0} + 2 \\pi k = 0 \\\\\\frac{i}{4 \\pi f_{0} + 2 \\pi k} e^{- i \\left(4 \\pi f_{0} x + 2 \\pi k x + 2 \\phi\\right)} & \\text{otherwise} \\end{cases}\n",
        "^\n",
        "Unknown symbol: \\begin (at char 0), (line:1, col:1)\n",
        "  FormatterWarning,\n"
       ]
      },
      {
       "latex": [
        "$$\\begin{cases} x & \\text{for}\\: 4 \\pi f_{0} - 2 \\pi k = 0 \\\\- \\frac{i e^{i \\left(4 \\pi f_{0} x - 2 \\pi k x + 2 \\phi\\right)}}{4 \\pi f_{0} - 2 \\pi k} & \\text{otherwise} \\end{cases} + \\begin{cases} x & \\text{for}\\: 4 \\pi f_{0} + 2 \\pi k = 0 \\\\\\frac{i}{4 \\pi f_{0} + 2 \\pi k} e^{- i \\left(4 \\pi f_{0} x + 2 \\pi k x + 2 \\phi\\right)} & \\text{otherwise} \\end{cases}$$"
       ],
       "metadata": {},
       "output_type": "pyout",
       "prompt_number": 70,
       "text": [
        "\u239b\u23a7                x                  for 4\u22c5\u03c0\u22c5f\u2080 - 2\u22c5\u03c0\u22c5k = 0\u239e   \u239b\u23a7             \n",
        "\u239c\u23aa                                                         \u239f   \u239c\u23aa             \n",
        "\u239c\u23aa    \u2148\u22c5(4\u22c5\u03c0\u22c5f\u2080\u22c5x - 2\u22c5\u03c0\u22c5k\u22c5x + 2\u22c5\u03c6)                         \u239f   \u239c\u23aa   -\u2148\u22c5(4\u22c5\u03c0\u22c5f\u2080\n",
        "\u239c\u23a8-\u2148\u22c5\u212f                                                     \u239f + \u239c\u23a8\u2148\u22c5\u212f          \n",
        "\u239c\u23aa\u2500\u2500\u2500\u2500\u2500\u2500\u2500\u2500\u2500\u2500\u2500\u2500\u2500\u2500\u2500\u2500\u2500\u2500\u2500\u2500\u2500\u2500\u2500\u2500\u2500\u2500\u2500\u2500\u2500\u2500\u2500\u2500\u2500        otherwise       \u239f   \u239c\u23aa\u2500\u2500\u2500\u2500\u2500\u2500\u2500\u2500\u2500\u2500\u2500\u2500\u2500\n",
        "\u239c\u23aa          4\u22c5\u03c0\u22c5f\u2080 - 2\u22c5\u03c0\u22c5k                                 \u239f   \u239c\u23aa         4\u22c5\u03c0\u22c5\n",
        "\u239d\u23a9                                                         \u23a0   \u239d\u23a9             \n",
        "\n",
        "  x                  for 4\u22c5\u03c0\u22c5f\u2080 + 2\u22c5\u03c0\u22c5k = 0\u239e\n",
        "                                           \u239f\n",
        "\u22c5x + 2\u22c5\u03c0\u22c5k\u22c5x + 2\u22c5\u03c6)                        \u239f\n",
        "                                           \u239f\n",
        "\u2500\u2500\u2500\u2500\u2500\u2500\u2500\u2500\u2500\u2500\u2500\u2500\u2500\u2500\u2500\u2500\u2500\u2500\u2500        otherwise       \u239f\n",
        "f\u2080 + 2\u22c5\u03c0\u22c5k                                 \u239f\n",
        "                                           \u23a0"
       ]
      }
     ],
     "prompt_number": 70
    },
    {
     "cell_type": "code",
     "collapsed": false,
     "input": [
      "B = integrate(exp(-i * (4*pi*f0*x + 2*phi + 2*pi*k*x)) + exp(i * (4*pi*f0*x + 2*phi - 2*pi*k*x)),x)\n",
      "B"
     ],
     "language": "python",
     "metadata": {},
     "outputs": [
      {
       "latex": [
        "$$\\begin{cases} x & \\text{for}\\: 4 \\pi f_{0} - 2 \\pi k = 0 \\\\- \\frac{i e^{i \\left(4 \\pi f_{0} x - 2 \\pi k x + 2 \\phi\\right)}}{4 \\pi f_{0} - 2 \\pi k} & \\text{otherwise} \\end{cases} + \\begin{cases} x & \\text{for}\\: 4 \\pi f_{0} + 2 \\pi k = 0 \\\\\\frac{i}{4 \\pi f_{0} + 2 \\pi k} e^{- i \\left(4 \\pi f_{0} x + 2 \\pi k x + 2 \\phi\\right)} & \\text{otherwise} \\end{cases}$$"
       ],
       "metadata": {},
       "output_type": "pyout",
       "prompt_number": 71,
       "text": [
        "\u239b\u23a7                x                  for 4\u22c5\u03c0\u22c5f\u2080 - 2\u22c5\u03c0\u22c5k = 0\u239e   \u239b\u23a7             \n",
        "\u239c\u23aa                                                         \u239f   \u239c\u23aa             \n",
        "\u239c\u23aa    \u2148\u22c5(4\u22c5\u03c0\u22c5f\u2080\u22c5x - 2\u22c5\u03c0\u22c5k\u22c5x + 2\u22c5\u03c6)                         \u239f   \u239c\u23aa   -\u2148\u22c5(4\u22c5\u03c0\u22c5f\u2080\n",
        "\u239c\u23a8-\u2148\u22c5\u212f                                                     \u239f + \u239c\u23a8\u2148\u22c5\u212f          \n",
        "\u239c\u23aa\u2500\u2500\u2500\u2500\u2500\u2500\u2500\u2500\u2500\u2500\u2500\u2500\u2500\u2500\u2500\u2500\u2500\u2500\u2500\u2500\u2500\u2500\u2500\u2500\u2500\u2500\u2500\u2500\u2500\u2500\u2500\u2500\u2500        otherwise       \u239f   \u239c\u23aa\u2500\u2500\u2500\u2500\u2500\u2500\u2500\u2500\u2500\u2500\u2500\u2500\u2500\n",
        "\u239c\u23aa          4\u22c5\u03c0\u22c5f\u2080 - 2\u22c5\u03c0\u22c5k                                 \u239f   \u239c\u23aa         4\u22c5\u03c0\u22c5\n",
        "\u239d\u23a9                                                         \u23a0   \u239d\u23a9             \n",
        "\n",
        "  x                  for 4\u22c5\u03c0\u22c5f\u2080 + 2\u22c5\u03c0\u22c5k = 0\u239e\n",
        "                                           \u239f\n",
        "\u22c5x + 2\u22c5\u03c0\u22c5k\u22c5x + 2\u22c5\u03c6)                        \u239f\n",
        "                                           \u239f\n",
        "\u2500\u2500\u2500\u2500\u2500\u2500\u2500\u2500\u2500\u2500\u2500\u2500\u2500\u2500\u2500\u2500\u2500\u2500\u2500        otherwise       \u239f\n",
        "f\u2080 + 2\u22c5\u03c0\u22c5k                                 \u239f\n",
        "                                           \u23a0"
       ]
      }
     ],
     "prompt_number": 71
    },
    {
     "cell_type": "code",
     "collapsed": false,
     "input": [
      "phis = symbols('phi:3')\n",
      "A = Matrix( [[row, exp(i*2*phis[row]), exp(-i*2*phis[row])] for row in range(3)])\n",
      "simplify(A.inv())"
     ],
     "language": "python",
     "metadata": {},
     "outputs": [
      {
       "latex": [
        "$$\\left[\\begin{matrix}- \\frac{\\left(e^{4 i \\phi_{1}} - e^{4 i \\phi_{2}}\\right) e^{2 i \\phi_{0}}}{e^{2 i \\left(2 \\phi_{0} + \\phi_{1}\\right)} - 2 e^{2 i \\left(2 \\phi_{0} + \\phi_{2}\\right)} - e^{2 i \\left(\\phi_{1} + 2 \\phi_{2}\\right)} + 2 e^{2 i \\left(2 \\phi_{1} + \\phi_{2}\\right)}} & \\frac{\\left(e^{4 i \\phi_{0}} - e^{4 i \\phi_{2}}\\right) e^{2 i \\phi_{1}}}{e^{2 i \\left(2 \\phi_{0} + \\phi_{1}\\right)} - 2 e^{2 i \\left(2 \\phi_{0} + \\phi_{2}\\right)} - e^{2 i \\left(\\phi_{1} + 2 \\phi_{2}\\right)} + 2 e^{2 i \\left(2 \\phi_{1} + \\phi_{2}\\right)}} & \\frac{\\left(- e^{4 i \\phi_{0}} + e^{4 i \\phi_{1}}\\right) e^{2 i \\phi_{2}}}{\\left(2 e^{2 i \\phi_{1}} - e^{2 i \\phi_{2}}\\right) e^{2 i \\left(\\phi_{1} + \\phi_{2}\\right)} + e^{2 i \\left(2 \\phi_{0} + \\phi_{1}\\right)} - 2 e^{2 i \\left(2 \\phi_{0} + \\phi_{2}\\right)}}\\\\\\frac{\\left(e^{2 i \\phi_{1}} - 2 e^{2 i \\phi_{2}}\\right) e^{2 i \\phi_{0}}}{e^{2 i \\left(2 \\phi_{0} + \\phi_{1}\\right)} - 2 e^{2 i \\left(2 \\phi_{0} + \\phi_{2}\\right)} - e^{2 i \\left(\\phi_{1} + 2 \\phi_{2}\\right)} + 2 e^{2 i \\left(2 \\phi_{1} + \\phi_{2}\\right)}} & \\frac{2 e^{2 i \\left(\\phi_{1} + \\phi_{2}\\right)}}{\\left(2 e^{2 i \\phi_{1}} - e^{2 i \\phi_{2}}\\right) e^{2 i \\left(\\phi_{1} + \\phi_{2}\\right)} + e^{2 i \\left(2 \\phi_{0} + \\phi_{1}\\right)} - 2 e^{2 i \\left(2 \\phi_{0} + \\phi_{2}\\right)}} & - \\frac{e^{2 i \\left(\\phi_{1} + \\phi_{2}\\right)}}{\\left(2 e^{2 i \\phi_{1}} - e^{2 i \\phi_{2}}\\right) e^{2 i \\left(\\phi_{1} + \\phi_{2}\\right)} + e^{2 i \\left(2 \\phi_{0} + \\phi_{1}\\right)} - 2 e^{2 i \\left(2 \\phi_{0} + \\phi_{2}\\right)}}\\\\\\frac{\\left(2 e^{2 i \\phi_{1}} - e^{2 i \\phi_{2}}\\right) e^{2 i \\left(\\phi_{0} + \\phi_{1} + \\phi_{2}\\right)}}{\\left(2 e^{2 i \\phi_{1}} - e^{2 i \\phi_{2}}\\right) e^{2 i \\left(\\phi_{1} + \\phi_{2}\\right)} + e^{2 i \\left(2 \\phi_{0} + \\phi_{1}\\right)} - 2 e^{2 i \\left(2 \\phi_{0} + \\phi_{2}\\right)}} & - \\frac{2 e^{2 i \\left(2 \\phi_{0} + \\phi_{1} + \\phi_{2}\\right)}}{\\left(2 e^{2 i \\phi_{1}} - e^{2 i \\phi_{2}}\\right) e^{2 i \\left(\\phi_{1} + \\phi_{2}\\right)} + e^{2 i \\left(2 \\phi_{0} + \\phi_{1}\\right)} - 2 e^{2 i \\left(2 \\phi_{0} + \\phi_{2}\\right)}} & \\frac{e^{2 i \\left(2 \\phi_{0} + \\phi_{1} + \\phi_{2}\\right)}}{\\left(2 e^{2 i \\phi_{1}} - e^{2 i \\phi_{2}}\\right) e^{2 i \\left(\\phi_{1} + \\phi_{2}\\right)} + e^{2 i \\left(2 \\phi_{0} + \\phi_{1}\\right)} - 2 e^{2 i \\left(2 \\phi_{0} + \\phi_{2}\\right)}}\\end{matrix}\\right]$$"
       ],
       "metadata": {},
       "output_type": "pyout",
       "prompt_number": 91,
       "text": [
        "\u23a1                         \u239b 4\u22c5\u2148\u22c5\u03c6\u2081    4\u22c5\u2148\u22c5\u03c6\u2082\u239e  2\u22c5\u2148\u22c5\u03c6\u2080                         \n",
        "\u23a2                        -\u239d\u212f       - \u212f      \u23a0\u22c5\u212f                               \n",
        "\u23a2\u2500\u2500\u2500\u2500\u2500\u2500\u2500\u2500\u2500\u2500\u2500\u2500\u2500\u2500\u2500\u2500\u2500\u2500\u2500\u2500\u2500\u2500\u2500\u2500\u2500\u2500\u2500\u2500\u2500\u2500\u2500\u2500\u2500\u2500\u2500\u2500\u2500\u2500\u2500\u2500\u2500\u2500\u2500\u2500\u2500\u2500\u2500\u2500\u2500\u2500\u2500\u2500\u2500\u2500\u2500\u2500\u2500\u2500\u2500\u2500\u2500\u2500\u2500\u2500\u2500\u2500\u2500\u2500\u2500\u2500\u2500\u2500\u2500\u2500\u2500\u2500\u2500\n",
        "\u23a2 2\u22c5\u2148\u22c5(2\u22c5\u03c6\u2080 + \u03c6\u2081)      2\u22c5\u2148\u22c5(2\u22c5\u03c6\u2080 + \u03c6\u2082)    2\u22c5\u2148\u22c5(\u03c6\u2081 + 2\u22c5\u03c6\u2082)      2\u22c5\u2148\u22c5(2\u22c5\u03c6\u2081 + \u03c6\u2082)\n",
        "\u23a2\u212f                - 2\u22c5\u212f                - \u212f                + 2\u22c5\u212f               \n",
        "\u23a2                                                                             \n",
        "\u23a2                        \u239b 2\u22c5\u2148\u22c5\u03c6\u2081      2\u22c5\u2148\u22c5\u03c6\u2082\u239e  2\u22c5\u2148\u22c5\u03c6\u2080                        \n",
        "\u23a2                        \u239d\u212f       - 2\u22c5\u212f      \u23a0\u22c5\u212f                              \n",
        "\u23a2\u2500\u2500\u2500\u2500\u2500\u2500\u2500\u2500\u2500\u2500\u2500\u2500\u2500\u2500\u2500\u2500\u2500\u2500\u2500\u2500\u2500\u2500\u2500\u2500\u2500\u2500\u2500\u2500\u2500\u2500\u2500\u2500\u2500\u2500\u2500\u2500\u2500\u2500\u2500\u2500\u2500\u2500\u2500\u2500\u2500\u2500\u2500\u2500\u2500\u2500\u2500\u2500\u2500\u2500\u2500\u2500\u2500\u2500\u2500\u2500\u2500\u2500\u2500\u2500\u2500\u2500\u2500\u2500\u2500\u2500\u2500\u2500\u2500\u2500\u2500\u2500\u2500\n",
        "\u23a2 2\u22c5\u2148\u22c5(2\u22c5\u03c6\u2080 + \u03c6\u2081)      2\u22c5\u2148\u22c5(2\u22c5\u03c6\u2080 + \u03c6\u2082)    2\u22c5\u2148\u22c5(\u03c6\u2081 + 2\u22c5\u03c6\u2082)      2\u22c5\u2148\u22c5(2\u22c5\u03c6\u2081 + \u03c6\u2082)\n",
        "\u23a2\u212f                - 2\u22c5\u212f                - \u212f                + 2\u22c5\u212f               \n",
        "\u23a2                                                                             \n",
        "\u23a2                 \u239b   2\u22c5\u2148\u22c5\u03c6\u2081    2\u22c5\u2148\u22c5\u03c6\u2082\u239e  2\u22c5\u2148\u22c5(\u03c6\u2080 + \u03c6\u2081 + \u03c6\u2082)                   \n",
        "\u23a2                 \u239d2\u22c5\u212f       - \u212f      \u23a0\u22c5\u212f                                     \n",
        "\u23a2\u2500\u2500\u2500\u2500\u2500\u2500\u2500\u2500\u2500\u2500\u2500\u2500\u2500\u2500\u2500\u2500\u2500\u2500\u2500\u2500\u2500\u2500\u2500\u2500\u2500\u2500\u2500\u2500\u2500\u2500\u2500\u2500\u2500\u2500\u2500\u2500\u2500\u2500\u2500\u2500\u2500\u2500\u2500\u2500\u2500\u2500\u2500\u2500\u2500\u2500\u2500\u2500\u2500\u2500\u2500\u2500\u2500\u2500\u2500\u2500\u2500\u2500\u2500\u2500\u2500\u2500\u2500\u2500\u2500\u2500\u2500\u2500\u2500\u2500\u2500\u2500 \n",
        "\u23a2\u239b   2\u22c5\u2148\u22c5\u03c6\u2081    2\u22c5\u2148\u22c5\u03c6\u2082\u239e  2\u22c5\u2148\u22c5(\u03c6\u2081 + \u03c6\u2082)    2\u22c5\u2148\u22c5(2\u22c5\u03c6\u2080 + \u03c6\u2081)      2\u22c5\u2148\u22c5(2\u22c5\u03c6\u2080 + \u03c6\u2082) \n",
        "\u23a3\u239d2\u22c5\u212f       - \u212f      \u23a0\u22c5\u212f              + \u212f                - 2\u22c5\u212f                \n",
        "\n",
        "                           \u239b 4\u22c5\u2148\u22c5\u03c6\u2080    4\u22c5\u2148\u22c5\u03c6\u2082\u239e  2\u22c5\u2148\u22c5\u03c6\u2081                        \n",
        "                           \u239d\u212f       - \u212f      \u23a0\u22c5\u212f                              \n",
        "  \u2500\u2500\u2500\u2500\u2500\u2500\u2500\u2500\u2500\u2500\u2500\u2500\u2500\u2500\u2500\u2500\u2500\u2500\u2500\u2500\u2500\u2500\u2500\u2500\u2500\u2500\u2500\u2500\u2500\u2500\u2500\u2500\u2500\u2500\u2500\u2500\u2500\u2500\u2500\u2500\u2500\u2500\u2500\u2500\u2500\u2500\u2500\u2500\u2500\u2500\u2500\u2500\u2500\u2500\u2500\u2500\u2500\u2500\u2500\u2500\u2500\u2500\u2500\u2500\u2500\u2500\u2500\u2500\u2500\u2500\u2500\u2500\u2500\u2500\u2500\u2500\n",
        "   2\u22c5\u2148\u22c5(2\u22c5\u03c6\u2080 + \u03c6\u2081)      2\u22c5\u2148\u22c5(2\u22c5\u03c6\u2080 + \u03c6\u2082)    2\u22c5\u2148\u22c5(\u03c6\u2081 + 2\u22c5\u03c6\u2082)      2\u22c5\u2148\u22c5(2\u22c5\u03c6\u2081 + \u03c6\u2082\n",
        "  \u212f                - 2\u22c5\u212f                - \u212f                + 2\u22c5\u212f              \n",
        "                                                                              \n",
        "                                   2\u22c5\u2148\u22c5(\u03c6\u2081 + \u03c6\u2082)                              \n",
        "                                2\u22c5\u212f                                           \n",
        "  \u2500\u2500\u2500\u2500\u2500\u2500\u2500\u2500\u2500\u2500\u2500\u2500\u2500\u2500\u2500\u2500\u2500\u2500\u2500\u2500\u2500\u2500\u2500\u2500\u2500\u2500\u2500\u2500\u2500\u2500\u2500\u2500\u2500\u2500\u2500\u2500\u2500\u2500\u2500\u2500\u2500\u2500\u2500\u2500\u2500\u2500\u2500\u2500\u2500\u2500\u2500\u2500\u2500\u2500\u2500\u2500\u2500\u2500\u2500\u2500\u2500\u2500\u2500\u2500\u2500\u2500\u2500\u2500\u2500\u2500\u2500\u2500\u2500\u2500\u2500\u2500\n",
        "  \u239b   2\u22c5\u2148\u22c5\u03c6\u2081    2\u22c5\u2148\u22c5\u03c6\u2082\u239e  2\u22c5\u2148\u22c5(\u03c6\u2081 + \u03c6\u2082)    2\u22c5\u2148\u22c5(2\u22c5\u03c6\u2080 + \u03c6\u2081)      2\u22c5\u2148\u22c5(2\u22c5\u03c6\u2080 + \u03c6\u2082)\n",
        "  \u239d2\u22c5\u212f       - \u212f      \u23a0\u22c5\u212f              + \u212f                - 2\u22c5\u212f               \n",
        "                                                                              \n",
        "                               2\u22c5\u2148\u22c5(2\u22c5\u03c6\u2080 + \u03c6\u2081 + \u03c6\u2082)                           \n",
        "                           -2\u22c5\u212f                                               \n",
        "  \u2500\u2500\u2500\u2500\u2500\u2500\u2500\u2500\u2500\u2500\u2500\u2500\u2500\u2500\u2500\u2500\u2500\u2500\u2500\u2500\u2500\u2500\u2500\u2500\u2500\u2500\u2500\u2500\u2500\u2500\u2500\u2500\u2500\u2500\u2500\u2500\u2500\u2500\u2500\u2500\u2500\u2500\u2500\u2500\u2500\u2500\u2500\u2500\u2500\u2500\u2500\u2500\u2500\u2500\u2500\u2500\u2500\u2500\u2500\u2500\u2500\u2500\u2500\u2500\u2500\u2500\u2500\u2500\u2500\u2500\u2500\u2500\u2500\u2500\u2500\u2500\n",
        "  \u239b   2\u22c5\u2148\u22c5\u03c6\u2081    2\u22c5\u2148\u22c5\u03c6\u2082\u239e  2\u22c5\u2148\u22c5(\u03c6\u2081 + \u03c6\u2082)    2\u22c5\u2148\u22c5(2\u22c5\u03c6\u2080 + \u03c6\u2081)      2\u22c5\u2148\u22c5(2\u22c5\u03c6\u2080 + \u03c6\u2082)\n",
        "  \u239d2\u22c5\u212f       - \u212f      \u23a0\u22c5\u212f              + \u212f                - 2\u22c5\u212f               \n",
        "\n",
        "                          \u239b   4\u22c5\u2148\u22c5\u03c6\u2080    4\u22c5\u2148\u22c5\u03c6\u2081\u239e  2\u22c5\u2148\u22c5\u03c6\u2082                       \n",
        "                          \u239d- \u212f       + \u212f      \u23a0\u22c5\u212f                             \n",
        "\u2500  \u2500\u2500\u2500\u2500\u2500\u2500\u2500\u2500\u2500\u2500\u2500\u2500\u2500\u2500\u2500\u2500\u2500\u2500\u2500\u2500\u2500\u2500\u2500\u2500\u2500\u2500\u2500\u2500\u2500\u2500\u2500\u2500\u2500\u2500\u2500\u2500\u2500\u2500\u2500\u2500\u2500\u2500\u2500\u2500\u2500\u2500\u2500\u2500\u2500\u2500\u2500\u2500\u2500\u2500\u2500\u2500\u2500\u2500\u2500\u2500\u2500\u2500\u2500\u2500\u2500\u2500\u2500\u2500\u2500\u2500\u2500\u2500\u2500\u2500\u2500\n",
        ")  \u239b   2\u22c5\u2148\u22c5\u03c6\u2081    2\u22c5\u2148\u22c5\u03c6\u2082\u239e  2\u22c5\u2148\u22c5(\u03c6\u2081 + \u03c6\u2082)    2\u22c5\u2148\u22c5(2\u22c5\u03c6\u2080 + \u03c6\u2081)      2\u22c5\u2148\u22c5(2\u22c5\u03c6\u2080 + \u03c6\u2082\n",
        "   \u239d2\u22c5\u212f       - \u212f      \u23a0\u22c5\u212f              + \u212f                - 2\u22c5\u212f              \n",
        "                                                                              \n",
        "                                   2\u22c5\u2148\u22c5(\u03c6\u2081 + \u03c6\u2082)                              \n",
        "                                 -\u212f                                           \n",
        "   \u2500\u2500\u2500\u2500\u2500\u2500\u2500\u2500\u2500\u2500\u2500\u2500\u2500\u2500\u2500\u2500\u2500\u2500\u2500\u2500\u2500\u2500\u2500\u2500\u2500\u2500\u2500\u2500\u2500\u2500\u2500\u2500\u2500\u2500\u2500\u2500\u2500\u2500\u2500\u2500\u2500\u2500\u2500\u2500\u2500\u2500\u2500\u2500\u2500\u2500\u2500\u2500\u2500\u2500\u2500\u2500\u2500\u2500\u2500\u2500\u2500\u2500\u2500\u2500\u2500\u2500\u2500\u2500\u2500\u2500\u2500\u2500\u2500\u2500\u2500\n",
        "   \u239b   2\u22c5\u2148\u22c5\u03c6\u2081    2\u22c5\u2148\u22c5\u03c6\u2082\u239e  2\u22c5\u2148\u22c5(\u03c6\u2081 + \u03c6\u2082)    2\u22c5\u2148\u22c5(2\u22c5\u03c6\u2080 + \u03c6\u2081)      2\u22c5\u2148\u22c5(2\u22c5\u03c6\u2080 + \u03c6\u2082\n",
        "   \u239d2\u22c5\u212f       - \u212f      \u23a0\u22c5\u212f              + \u212f                - 2\u22c5\u212f              \n",
        "                                                                              \n",
        "                               2\u22c5\u2148\u22c5(2\u22c5\u03c6\u2080 + \u03c6\u2081 + \u03c6\u2082)                           \n",
        "                              \u212f                                               \n",
        "   \u2500\u2500\u2500\u2500\u2500\u2500\u2500\u2500\u2500\u2500\u2500\u2500\u2500\u2500\u2500\u2500\u2500\u2500\u2500\u2500\u2500\u2500\u2500\u2500\u2500\u2500\u2500\u2500\u2500\u2500\u2500\u2500\u2500\u2500\u2500\u2500\u2500\u2500\u2500\u2500\u2500\u2500\u2500\u2500\u2500\u2500\u2500\u2500\u2500\u2500\u2500\u2500\u2500\u2500\u2500\u2500\u2500\u2500\u2500\u2500\u2500\u2500\u2500\u2500\u2500\u2500\u2500\u2500\u2500\u2500\u2500\u2500\u2500\u2500\u2500\n",
        "   \u239b   2\u22c5\u2148\u22c5\u03c6\u2081    2\u22c5\u2148\u22c5\u03c6\u2082\u239e  2\u22c5\u2148\u22c5(\u03c6\u2081 + \u03c6\u2082)    2\u22c5\u2148\u22c5(2\u22c5\u03c6\u2080 + \u03c6\u2081)      2\u22c5\u2148\u22c5(2\u22c5\u03c6\u2080 + \u03c6\u2082\n",
        "   \u239d2\u22c5\u212f       - \u212f      \u23a0\u22c5\u212f              + \u212f                - 2\u22c5\u212f              \n",
        "\n",
        " \u23a4\n",
        " \u23a5\n",
        "\u2500\u23a5\n",
        ")\u23a5\n",
        " \u23a5\n",
        " \u23a5\n",
        " \u23a5\n",
        " \u23a5\n",
        "\u2500\u23a5\n",
        ")\u23a5\n",
        " \u23a5\n",
        " \u23a5\n",
        " \u23a5\n",
        " \u23a5\n",
        "\u2500\u23a5\n",
        ")\u23a5\n",
        " \u23a6"
       ]
      }
     ],
     "prompt_number": 91
    },
    {
     "cell_type": "code",
     "collapsed": false,
     "input": [
      "nPhases = 3\n",
      "nOrders = 2\n",
      "sepMatrix = zeros((nPhases, nPhases))\n",
      "nPh = symbols('N')\n",
      "ph = phi#2 * pi / nPhases\n",
      "for col in range (0, nPhases):\n",
      "    sepMatrix[0, col] = 1.0 / nPh\n",
      "    for m in range (1, nOrders):\n",
      "        sepMatrix[2*m-1, col] = 2.0 * cos(col * m * ph) / nPh\n",
      "        sepMatrix[2*m, col] = 2.0 * sin(col * m * ph) / nPh\n",
      "sepMatrix * nPh"
     ],
     "language": "python",
     "metadata": {},
     "outputs": [
      {
       "latex": [
        "$$\\left[\\begin{matrix}1.0 & 1.0 & 1.0\\\\2.0 & 2.0 \\cos{\\left (\\phi \\right )} & 2.0 \\cos{\\left (2 \\phi \\right )}\\\\0 & 2.0 \\sin{\\left (\\phi \\right )} & 2.0 \\sin{\\left (2 \\phi \\right )}\\end{matrix}\\right]$$"
       ],
       "metadata": {},
       "output_type": "pyout",
       "prompt_number": 171,
       "text": [
        "\u23a11.0     1.0          1.0     \u23a4\n",
        "\u23a2                             \u23a5\n",
        "\u23a22.0  2.0\u22c5cos(\u03c6)  2.0\u22c5cos(2\u22c5\u03c6)\u23a5\n",
        "\u23a2                             \u23a5\n",
        "\u23a3 0   2.0\u22c5sin(\u03c6)  2.0\u22c5sin(2\u22c5\u03c6)\u23a6"
       ]
      }
     ],
     "prompt_number": 171
    },
    {
     "cell_type": "code",
     "collapsed": false,
     "input": [
      "sepMatrix.subs(ph, 2 * pi / 5).subs(nPh, 5).singular_values()"
     ],
     "language": "python",
     "metadata": {},
     "outputs": [
      {
       "latex": [
        "$$\\begin{bmatrix}\\frac{\\sqrt{5}}{5}, & \\frac{\\sqrt{10}}{5}, & \\frac{\\sqrt{10}}{5}, & \\frac{\\sqrt{10}}{5}, & \\frac{\\sqrt{10}}{5}\\end{bmatrix}$$"
       ],
       "metadata": {},
       "output_type": "pyout",
       "prompt_number": 130,
       "text": [
        "\u23a1  ___    ____    ____    ____    ____\u23a4\n",
        "\u23a2\u2572\u2571 5   \u2572\u2571 10   \u2572\u2571 10   \u2572\u2571 10   \u2572\u2571 10 \u23a5\n",
        "\u23a2\u2500\u2500\u2500\u2500\u2500, \u2500\u2500\u2500\u2500\u2500\u2500, \u2500\u2500\u2500\u2500\u2500\u2500, \u2500\u2500\u2500\u2500\u2500\u2500, \u2500\u2500\u2500\u2500\u2500\u2500\u23a5\n",
        "\u23a3  5      5       5       5       5   \u23a6"
       ]
      }
     ],
     "prompt_number": 130
    },
    {
     "cell_type": "code",
     "collapsed": false,
     "input": [
      "iSep = sepMatrix.subs(ph, 2 * pi / 5).subs(nPh, 5).inv()"
     ],
     "language": "python",
     "metadata": {},
     "outputs": [],
     "prompt_number": 133
    },
    {
     "cell_type": "code",
     "collapsed": false,
     "input": [
      "A2d = A.subs([(phis[0], phi/2), (phis[1], 2*phi/2), (phis[2], 3*phi/2)]).subs(phi, pi/3)\n",
      "A2dInv = A2d.inv()"
     ],
     "language": "python",
     "metadata": {},
     "outputs": [],
     "prompt_number": 186
    },
    {
     "cell_type": "code",
     "collapsed": false,
     "input": [
      "#A2dInv.simplify()\n",
      "A2dInv*A2dInv.conjugate()"
     ],
     "language": "python",
     "metadata": {},
     "outputs": [
      {
       "latex": [
        "$$\\left[\\begin{matrix}\\left(\\frac{e^{\\frac{i \\pi}{3}}}{\\frac{3}{2} - \\frac{\\sqrt{3} i}{2}} \\left(-1 - 2 e^{- \\frac{2 \\pi}{3} i}\\right) \\left(-1 + e^{\\frac{2 \\pi}{3} i}\\right) - e^{- \\frac{i \\pi}{3}}\\right) \\left(- e^{\\frac{i \\pi}{3}} + \\frac{e^{- \\frac{i \\pi}{3}}}{1 + \\sqrt[3]{-1}} \\left(-1 + e^{- \\frac{2 \\pi}{3} i}\\right) \\left(-1 - 2 e^{\\frac{2 \\pi}{3} i}\\right)\\right) + \\frac{e^{\\frac{i \\pi}{3}}}{\\left(1 + \\sqrt[3]{-1}\\right) \\left(\\frac{3}{2} - \\frac{\\sqrt{3} i}{2}\\right)} \\left(-1 - 2 e^{- \\frac{2 \\pi}{3} i}\\right) \\left(-1 + e^{- \\frac{2 \\pi}{3} i}\\right) + \\left(- \\frac{-1 - 2 e^{- \\frac{2 \\pi}{3} i}}{\\frac{3}{2} - \\frac{\\sqrt{3} i}{2}} + e^{\\frac{i \\pi}{3}}\\right) \\left(\\frac{1}{1 + \\sqrt[3]{-1}} \\left(-2 + 2 e^{- \\frac{2 \\pi}{3} i}\\right) + 1\\right) & \\left(\\frac{-2 + 2 e^{\\frac{2 \\pi}{3} i}}{\\frac{3}{2} - \\frac{\\sqrt{3} i}{2}} + 1\\right) \\left(- e^{\\frac{i \\pi}{3}} + \\frac{e^{- \\frac{i \\pi}{3}}}{1 + \\sqrt[3]{-1}} \\left(-1 + e^{- \\frac{2 \\pi}{3} i}\\right) \\left(-1 - 2 e^{\\frac{2 \\pi}{3} i}\\right)\\right) + \\frac{-2 + 2 e^{- \\frac{2 \\pi}{3} i}}{\\left(1 + \\sqrt[3]{-1}\\right) \\left(\\frac{3}{2} - \\frac{\\sqrt{3} i}{2}\\right)} + \\frac{2 e^{\\frac{2 \\pi}{3} i}}{\\frac{3}{2} - \\frac{\\sqrt{3} i}{2}} \\left(\\frac{1}{1 + \\sqrt[3]{-1}} \\left(-2 + 2 e^{- \\frac{2 \\pi}{3} i}\\right) + 1\\right) & - \\frac{1}{\\frac{3}{2} - \\frac{\\sqrt{3} i}{2}} \\left(-1 + e^{\\frac{2 \\pi}{3} i}\\right) \\left(- e^{\\frac{i \\pi}{3}} + \\frac{e^{- \\frac{i \\pi}{3}}}{1 + \\sqrt[3]{-1}} \\left(-1 + e^{- \\frac{2 \\pi}{3} i}\\right) \\left(-1 - 2 e^{\\frac{2 \\pi}{3} i}\\right)\\right) - \\frac{e^{\\frac{2 \\pi}{3} i}}{\\frac{3}{2} - \\frac{\\sqrt{3} i}{2}} \\left(\\frac{1}{1 + \\sqrt[3]{-1}} \\left(-2 + 2 e^{- \\frac{2 \\pi}{3} i}\\right) + 1\\right) - \\frac{-1 + e^{- \\frac{2 \\pi}{3} i}}{\\left(1 + \\sqrt[3]{-1}\\right) \\left(\\frac{3}{2} - \\frac{\\sqrt{3} i}{2}\\right)}\\\\\\frac{2 e^{- \\frac{2 \\pi}{3} i}}{1 + \\sqrt[3]{-1}} \\left(- \\frac{-1 - 2 e^{- \\frac{2 \\pi}{3} i}}{\\frac{3}{2} - \\frac{\\sqrt{3} i}{2}} + e^{\\frac{i \\pi}{3}}\\right) + \\left(\\frac{e^{\\frac{i \\pi}{3}}}{\\frac{3}{2} - \\frac{\\sqrt{3} i}{2}} \\left(-1 - 2 e^{- \\frac{2 \\pi}{3} i}\\right) \\left(-1 + e^{\\frac{2 \\pi}{3} i}\\right) - e^{- \\frac{i \\pi}{3}}\\right) \\left(e^{- \\frac{i \\pi}{3}} - \\frac{-1 - 2 e^{\\frac{2 \\pi}{3} i}}{1 + \\sqrt[3]{-1}}\\right) + \\frac{\\left(-1 - 2 e^{- \\frac{2 \\pi}{3} i}\\right) e^{- \\frac{i \\pi}{3}}}{\\left(1 + \\sqrt[3]{-1}\\right) \\left(\\frac{3}{2} - \\frac{\\sqrt{3} i}{2}\\right)} & \\frac{4}{\\left(1 + \\sqrt[3]{-1}\\right) \\left(\\frac{3}{2} - \\frac{\\sqrt{3} i}{2}\\right)} + \\frac{2 e^{- \\frac{2 \\pi}{3} i}}{\\left(1 + \\sqrt[3]{-1}\\right) \\left(\\frac{3}{2} - \\frac{\\sqrt{3} i}{2}\\right)} + \\left(\\frac{-2 + 2 e^{\\frac{2 \\pi}{3} i}}{\\frac{3}{2} - \\frac{\\sqrt{3} i}{2}} + 1\\right) \\left(e^{- \\frac{i \\pi}{3}} - \\frac{-1 - 2 e^{\\frac{2 \\pi}{3} i}}{1 + \\sqrt[3]{-1}}\\right) & - \\frac{2}{\\left(1 + \\sqrt[3]{-1}\\right) \\left(\\frac{3}{2} - \\frac{\\sqrt{3} i}{2}\\right)} - \\frac{1}{\\frac{3}{2} - \\frac{\\sqrt{3} i}{2}} \\left(-1 + e^{\\frac{2 \\pi}{3} i}\\right) \\left(e^{- \\frac{i \\pi}{3}} - \\frac{-1 - 2 e^{\\frac{2 \\pi}{3} i}}{1 + \\sqrt[3]{-1}}\\right) - \\frac{e^{- \\frac{2 \\pi}{3} i}}{\\left(1 + \\sqrt[3]{-1}\\right) \\left(\\frac{3}{2} - \\frac{\\sqrt{3} i}{2}\\right)}\\\\- \\frac{\\left(-1 - 2 e^{- \\frac{2 \\pi}{3} i}\\right) e^{\\frac{i \\pi}{3}}}{\\left(1 + \\sqrt[3]{-1}\\right) \\left(\\frac{3}{2} - \\frac{\\sqrt{3} i}{2}\\right)} - \\frac{e^{- \\frac{i \\pi}{3}}}{1 + \\sqrt[3]{-1}} \\left(-1 - 2 e^{\\frac{2 \\pi}{3} i}\\right) \\left(\\frac{e^{\\frac{i \\pi}{3}}}{\\frac{3}{2} - \\frac{\\sqrt{3} i}{2}} \\left(-1 - 2 e^{- \\frac{2 \\pi}{3} i}\\right) \\left(-1 + e^{\\frac{2 \\pi}{3} i}\\right) - e^{- \\frac{i \\pi}{3}}\\right) - \\frac{1}{1 + \\sqrt[3]{-1}} \\left(- \\frac{-2 - 4 e^{- \\frac{2 \\pi}{3} i}}{\\frac{3}{2} - \\frac{\\sqrt{3} i}{2}} + 2 e^{\\frac{i \\pi}{3}}\\right) & - \\frac{2}{\\left(1 + \\sqrt[3]{-1}\\right) \\left(\\frac{3}{2} - \\frac{\\sqrt{3} i}{2}\\right)} - \\frac{4 e^{\\frac{2 \\pi}{3} i}}{\\left(1 + \\sqrt[3]{-1}\\right) \\left(\\frac{3}{2} - \\frac{\\sqrt{3} i}{2}\\right)} - \\frac{e^{- \\frac{i \\pi}{3}}}{1 + \\sqrt[3]{-1}} \\left(-1 - 2 e^{\\frac{2 \\pi}{3} i}\\right) \\left(\\frac{-2 + 2 e^{\\frac{2 \\pi}{3} i}}{\\frac{3}{2} - \\frac{\\sqrt{3} i}{2}} + 1\\right) & \\frac{1}{\\left(1 + \\sqrt[3]{-1}\\right) \\left(\\frac{3}{2} - \\frac{\\sqrt{3} i}{2}\\right)} + \\frac{\\left(-1 - 2 e^{\\frac{2 \\pi}{3} i}\\right) \\left(-1 + e^{\\frac{2 \\pi}{3} i}\\right) e^{- \\frac{i \\pi}{3}}}{\\left(1 + \\sqrt[3]{-1}\\right) \\left(\\frac{3}{2} - \\frac{\\sqrt{3} i}{2}\\right)} + \\frac{2 e^{\\frac{2 \\pi}{3} i}}{\\left(1 + \\sqrt[3]{-1}\\right) \\left(\\frac{3}{2} - \\frac{\\sqrt{3} i}{2}\\right)}\\end{matrix}\\right]$$"
       ],
       "metadata": {},
       "output_type": "pyout",
       "prompt_number": 187,
       "text": [
        "\u23a1                                                                             \n",
        "\u23a2                                                                             \n",
        "\u23a2                                                                             \n",
        "\u23a2\u239b\u239b        -2\u22c5\u2148\u22c5\u03c0 \u239e \u239b      2\u22c5\u2148\u22c5\u03c0\u239e  \u2148\u22c5\u03c0         \u239e \u239b         \u239b      -2\u22c5\u2148\u22c5\u03c0 \u239e \u239b  \n",
        "\u23a2\u239c\u239c        \u2500\u2500\u2500\u2500\u2500\u2500\u2500\u239f \u239c      \u2500\u2500\u2500\u2500\u2500\u239f  \u2500\u2500\u2500    -\u2148\u22c5\u03c0 \u239f \u239c   \u2148\u22c5\u03c0   \u239c      \u2500\u2500\u2500\u2500\u2500\u2500\u2500\u239f \u239c  \n",
        "\u23a2\u239c\u239c           3   \u239f \u239c        3  \u239f   3     \u2500\u2500\u2500\u2500\u2500\u239f \u239c   \u2500\u2500\u2500   \u239c         3   \u239f \u239c  \n",
        "\u23a2\u239c\u239d-1 - 2\u22c5\u212f       \u23a0\u22c5\u239d-1 + \u212f     \u23a0\u22c5\u212f         3  \u239f \u239c    3    \u239d-1 + \u212f       \u23a0\u22c5\u239d-1\n",
        "\u23a2\u239c\u2500\u2500\u2500\u2500\u2500\u2500\u2500\u2500\u2500\u2500\u2500\u2500\u2500\u2500\u2500\u2500\u2500\u2500\u2500\u2500\u2500\u2500\u2500\u2500\u2500\u2500\u2500\u2500\u2500\u2500\u2500\u2500\u2500\u2500\u2500\u2500 - \u212f     \u239f\u22c5\u239c- \u212f    + \u2500\u2500\u2500\u2500\u2500\u2500\u2500\u2500\u2500\u2500\u2500\u2500\u2500\u2500\u2500\u2500\u2500\u2500\u2500\n",
        "\u23a2\u239c                  ___                        \u239f \u239c                           3\n",
        "\u23a2\u239c            3   \u2572\u2571 3 \u22c5\u2148                      \u239f \u239d                       1 + \u2572\n",
        "\u23a2\u239c            \u2500 - \u2500\u2500\u2500\u2500\u2500\u2500\u2500                      \u239f                              \n",
        "\u23a2\u239d            2      2                         \u23a0                              \n",
        "\u23a2                                                                             \n",
        "\u23a2                           \u239b          -2\u22c5\u2148\u22c5\u03c0        \u239e                        \n",
        "\u23a2                           \u239c          \u2500\u2500\u2500\u2500\u2500\u2500\u2500    \u2148\u22c5\u03c0\u239f  -2\u22c5\u2148\u22c5\u03c0                \n",
        "\u23a2                           \u239c             3       \u2500\u2500\u2500\u239f  \u2500\u2500\u2500\u2500\u2500\u2500\u2500               \n",
        "\u23a2                           \u239c  -1 - 2\u22c5\u212f            3 \u239f     3                  \n",
        "\u23a2                         2\u22c5\u239c- \u2500\u2500\u2500\u2500\u2500\u2500\u2500\u2500\u2500\u2500\u2500\u2500\u2500\u2500\u2500 + \u212f   \u239f\u22c5\u212f                      \n",
        "\u23a2                           \u239c          ___           \u239f            \u239b\u239b        -2\n",
        "\u23a2                           \u239c    3   \u2572\u2571 3 \u22c5\u2148         \u239f            \u239c\u239c        \u2500\u2500\n",
        "\u23a2                           \u239c    \u2500 - \u2500\u2500\u2500\u2500\u2500\u2500\u2500         \u239f            \u239c\u239c          \n",
        "\u23a2                           \u239d    2      2            \u23a0            \u239c\u239d-1 - 2\u22c5\u212f  \n",
        "\u23a2                         \u2500\u2500\u2500\u2500\u2500\u2500\u2500\u2500\u2500\u2500\u2500\u2500\u2500\u2500\u2500\u2500\u2500\u2500\u2500\u2500\u2500\u2500\u2500\u2500\u2500\u2500\u2500\u2500\u2500\u2500\u2500\u2500\u2500\u2500\u2500\u2500\u2500 + \u239c\u2500\u2500\u2500\u2500\u2500\u2500\u2500\u2500\u2500\u2500\u2500\n",
        "\u23a2                                           3 ____                \u239c           \n",
        "\u23a2                                       1 + \u2572\u2571 -1                 \u239c           \n",
        "\u23a2                                                                 \u239c           \n",
        "\u23a2                                                                 \u239d           \n",
        "\u23a2                                                                             \n",
        "\u23a2                                                                            \u239b\n",
        "\u23a2                                                            \u239b        2\u22c5\u2148\u22c5\u03c0\u239e \u239c\n",
        "\u23a2                                                            \u239c        \u2500\u2500\u2500\u2500\u2500\u239f \u239c\n",
        "\u23a2                                                            \u239c          3  \u239f \u239c\n",
        "\u23a2                                                            \u239d-1 - 2\u22c5\u212f     \u23a0\u22c5\u239c\n",
        "\u23a2                                 \u239b        -2\u22c5\u2148\u22c5\u03c0 \u239e  \u2148\u22c5\u03c0                     \u239c\n",
        "\u23a2                                 \u239c        \u2500\u2500\u2500\u2500\u2500\u2500\u2500\u239f  \u2500\u2500\u2500                     \u239c\n",
        "\u23a2                                 \u239c           3   \u239f   3                      \u239c\n",
        "\u23a2                                 \u239d-1 - 2\u22c5\u212f       \u23a0\u22c5\u212f                        \u239d\n",
        "\u23a2                             - \u2500\u2500\u2500\u2500\u2500\u2500\u2500\u2500\u2500\u2500\u2500\u2500\u2500\u2500\u2500\u2500\u2500\u2500\u2500\u2500\u2500\u2500\u2500\u2500\u2500\u2500 - \u2500\u2500\u2500\u2500\u2500\u2500\u2500\u2500\u2500\u2500\u2500\u2500\u2500\u2500\u2500\u2500\u2500\n",
        "\u23a2                                            \u239b      ___  \u239e                    \n",
        "\u23a2                               \u239b    3 ____\u239e \u239c3   \u2572\u2571 3 \u22c5\u2148\u239f                    \n",
        "\u23a2                               \u239d1 + \u2572\u2571 -1 \u23a0\u22c5\u239c\u2500 - \u2500\u2500\u2500\u2500\u2500\u2500\u2500\u239f                    \n",
        "\u23a3                                            \u239d2      2   \u23a0                    \n",
        "\n",
        "                                                                              \n",
        "                                                                              \n",
        "                                                                              \n",
        "      2\u22c5\u2148\u22c5\u03c0\u239e  -\u2148\u22c5\u03c0 \u239e   \u239b        -2\u22c5\u2148\u22c5\u03c0 \u239e \u239b      -2\u22c5\u2148\u22c5\u03c0 \u239e  \u2148\u22c5\u03c0   \u239b          -2\u22c5\n",
        "      \u2500\u2500\u2500\u2500\u2500\u239f  \u2500\u2500\u2500\u2500\u2500\u239f   \u239c        \u2500\u2500\u2500\u2500\u2500\u2500\u2500\u239f \u239c      \u2500\u2500\u2500\u2500\u2500\u2500\u2500\u239f  \u2500\u2500\u2500   \u239c          \u2500\u2500\u2500\n",
        "        3  \u239f    3  \u239f   \u239c           3   \u239f \u239c         3   \u239f   3    \u239c             \n",
        " - 2\u22c5\u212f     \u23a0\u22c5\u212f     \u239f   \u239d-1 - 2\u22c5\u212f       \u23a0\u22c5\u239d-1 + \u212f       \u23a0\u22c5\u212f      \u239c  -1 - 2\u22c5\u212f   \n",
        "\u2500\u2500\u2500\u2500\u2500\u2500\u2500\u2500\u2500\u2500\u2500\u2500\u2500\u2500\u2500\u2500\u2500\u2500\u2500\u239f + \u2500\u2500\u2500\u2500\u2500\u2500\u2500\u2500\u2500\u2500\u2500\u2500\u2500\u2500\u2500\u2500\u2500\u2500\u2500\u2500\u2500\u2500\u2500\u2500\u2500\u2500\u2500\u2500\u2500\u2500\u2500\u2500\u2500\u2500\u2500\u2500\u2500\u2500 + \u239c- \u2500\u2500\u2500\u2500\u2500\u2500\u2500\u2500\u2500\u2500\u2500\n",
        " ____              \u239f                      \u239b      ___  \u239e         \u239c          ___\n",
        "\u2571 -1               \u23a0         \u239b    3 ____\u239e \u239c3   \u2572\u2571 3 \u22c5\u2148\u239f         \u239c    3   \u2572\u2571 3 \n",
        "                             \u239d1 + \u2572\u2571 -1 \u23a0\u22c5\u239c\u2500 - \u2500\u2500\u2500\u2500\u2500\u2500\u2500\u239f         \u239c    \u2500 - \u2500\u2500\u2500\u2500\u2500\n",
        "                                          \u239d2      2   \u23a0         \u239d    2      2 \n",
        "                                                                              \n",
        "                                                                              \n",
        "                                                                              \n",
        "                                                                              \n",
        "                                                                              \n",
        "                                                                              \n",
        "\u22c5\u2148\u22c5\u03c0 \u239e \u239b      2\u22c5\u2148\u22c5\u03c0\u239e  \u2148\u22c5\u03c0         \u239e \u239b                 2\u22c5\u2148\u22c5\u03c0\u239e    \u239b        -2\u22c5\u2148\u22c5\n",
        "\u2500\u2500\u2500\u2500\u2500\u239f \u239c      \u2500\u2500\u2500\u2500\u2500\u239f  \u2500\u2500\u2500    -\u2148\u22c5\u03c0 \u239f \u239c -\u2148\u22c5\u03c0            \u2500\u2500\u2500\u2500\u2500\u239f    \u239c        \u2500\u2500\u2500\u2500\u2500\n",
        " 3   \u239f \u239c        3  \u239f   3     \u2500\u2500\u2500\u2500\u2500\u239f \u239c \u2500\u2500\u2500\u2500\u2500             3  \u239f    \u239c           3 \n",
        "     \u23a0\u22c5\u239d-1 + \u212f     \u23a0\u22c5\u212f         3  \u239f \u239c   3     -1 - 2\u22c5\u212f     \u239f    \u239d-1 - 2\u22c5\u212f     \n",
        "\u2500\u2500\u2500\u2500\u2500\u2500\u2500\u2500\u2500\u2500\u2500\u2500\u2500\u2500\u2500\u2500\u2500\u2500\u2500\u2500\u2500\u2500\u2500\u2500\u2500 - \u212f     \u239f\u22c5\u239c\u212f      - \u2500\u2500\u2500\u2500\u2500\u2500\u2500\u2500\u2500\u2500\u2500\u2500\u2500\u239f + \u2500\u2500\u2500\u2500\u2500\u2500\u2500\u2500\u2500\u2500\u2500\u2500\u2500\u2500\u2500\n",
        "       ___                        \u239f \u239c               3 ____ \u239f                \u239b \n",
        " 3   \u2572\u2571 3 \u22c5\u2148                      \u239f \u239d           1 + \u2572\u2571 -1  \u23a0   \u239b    3 ____\u239e \u239c3\n",
        " \u2500 - \u2500\u2500\u2500\u2500\u2500\u2500\u2500                      \u239f                            \u239d1 + \u2572\u2571 -1 \u23a0\u22c5\u239c\u2500\n",
        " 2      2                         \u23a0                                         \u239d2\n",
        "                                                                              \n",
        "\u239b        -2\u22c5\u2148\u22c5\u03c0 \u239e \u239b      2\u22c5\u2148\u22c5\u03c0\u239e  \u2148\u22c5\u03c0         \u239e            \u239b          -2\u22c5\u2148\u22c5\u03c0   \n",
        "\u239c        \u2500\u2500\u2500\u2500\u2500\u2500\u2500\u239f \u239c      \u2500\u2500\u2500\u2500\u2500\u239f  \u2500\u2500\u2500    -\u2148\u22c5\u03c0 \u239f  -\u2148\u22c5\u03c0      \u239c          \u2500\u2500\u2500\u2500\u2500\u2500\u2500  \n",
        "\u239c           3   \u239f \u239c        3  \u239f   3     \u2500\u2500\u2500\u2500\u2500\u239f  \u2500\u2500\u2500\u2500\u2500     \u239c             3     \n",
        "\u239d-1 - 2\u22c5\u212f       \u23a0\u22c5\u239d-1 + \u212f     \u23a0\u22c5\u212f         3  \u239f    3       \u239c  -1 - 2\u22c5\u212f         \n",
        "\u2500\u2500\u2500\u2500\u2500\u2500\u2500\u2500\u2500\u2500\u2500\u2500\u2500\u2500\u2500\u2500\u2500\u2500\u2500\u2500\u2500\u2500\u2500\u2500\u2500\u2500\u2500\u2500\u2500\u2500\u2500\u2500\u2500\u2500\u2500\u2500 - \u212f     \u239f\u22c5\u212f        2\u22c5\u239c- \u2500\u2500\u2500\u2500\u2500\u2500\u2500\u2500\u2500\u2500\u2500\u2500\u2500\u2500\u2500 +\n",
        "                  ___                        \u239f            \u239c          ___      \n",
        "            3   \u2572\u2571 3 \u22c5\u2148                      \u239f            \u239c    3   \u2572\u2571 3 \u22c5\u2148    \n",
        "            \u2500 - \u2500\u2500\u2500\u2500\u2500\u2500\u2500                      \u239f            \u239c    \u2500 - \u2500\u2500\u2500\u2500\u2500\u2500\u2500    \n",
        "            2      2                         \u23a0            \u239d    2      2       \n",
        "\u2500\u2500\u2500\u2500\u2500\u2500\u2500\u2500\u2500\u2500\u2500\u2500\u2500\u2500\u2500\u2500\u2500\u2500\u2500\u2500\u2500\u2500\u2500\u2500\u2500\u2500\u2500\u2500\u2500\u2500\u2500\u2500\u2500\u2500\u2500\u2500\u2500\u2500\u2500\u2500\u2500\u2500\u2500\u2500\u2500\u2500\u2500\u2500\u2500\u2500\u2500\u2500\u2500 - \u2500\u2500\u2500\u2500\u2500\u2500\u2500\u2500\u2500\u2500\u2500\u2500\u2500\u2500\u2500\u2500\u2500\u2500\u2500\u2500\u2500\u2500\n",
        "                 3 ____                                              3 ____   \n",
        "             1 + \u2572\u2571 -1                                           1 + \u2572\u2571 -1    \n",
        "                                                                              \n",
        "                                                                              \n",
        "\n",
        "                                                                              \n",
        "                                                                              \n",
        "                                                                              \n",
        "\u2148\u22c5\u03c0        \u239e \u239b  \u239b      -2\u22c5\u2148\u22c5\u03c0 \u239e    \u239e  \u239b  \u239b      2\u22c5\u2148\u22c5\u03c0\u239e    \u239e \u239b         \u239b      -\n",
        "\u2500\u2500\u2500\u2500    \u2148\u22c5\u03c0\u239f \u239c  \u239c      \u2500\u2500\u2500\u2500\u2500\u2500\u2500\u239f    \u239f  \u239c  \u239c      \u2500\u2500\u2500\u2500\u2500\u239f    \u239f \u239c   \u2148\u22c5\u03c0   \u239c      \u2500\n",
        "3       \u2500\u2500\u2500\u239f \u239c  \u239c         3   \u239f    \u239f  \u239c  \u239c        3  \u239f    \u239f \u239c   \u2500\u2500\u2500   \u239c       \n",
        "         3 \u239f \u239c2\u22c5\u239d-1 + \u212f       \u23a0    \u239f  \u239c2\u22c5\u239d-1 + \u212f     \u23a0    \u239f \u239c    3    \u239d-1 + \u212f \n",
        "\u2500\u2500\u2500\u2500 + \u212f   \u239f\u22c5\u239c\u2500\u2500\u2500\u2500\u2500\u2500\u2500\u2500\u2500\u2500\u2500\u2500\u2500\u2500\u2500\u2500\u2500 + 1\u239f  \u239c\u2500\u2500\u2500\u2500\u2500\u2500\u2500\u2500\u2500\u2500\u2500\u2500\u2500\u2500\u2500 + 1\u239f\u22c5\u239c- \u212f    + \u2500\u2500\u2500\u2500\u2500\u2500\u2500\u2500\n",
        "           \u239f \u239c        3 ____       \u239f  \u239c        ___        \u239f \u239c                 \n",
        "\u22c5\u2148         \u239f \u239d    1 + \u2572\u2571 -1        \u23a0  \u239c  3   \u2572\u2571 3 \u22c5\u2148      \u239f \u239d                 \n",
        "\u2500\u2500         \u239f                          \u239c  \u2500 - \u2500\u2500\u2500\u2500\u2500\u2500\u2500      \u239f                   \n",
        "           \u23a0                          \u239d  2      2         \u23a0                   \n",
        "                                                                              \n",
        "                                                                              \n",
        "                                                                              \n",
        "                                                                              \n",
        "                                                                              \n",
        "                                                                              \n",
        "\u03c0 \u239e  -\u2148\u22c5\u03c0                                                                     \n",
        "\u2500\u2500\u239f  \u2500\u2500\u2500\u2500\u2500                                                                    \n",
        "  \u239f    3                                                                      \n",
        "  \u23a0\u22c5\u212f                                                            4            \n",
        "\u2500\u2500\u2500\u2500\u2500\u2500\u2500\u2500\u2500\u2500\u2500                                          \u2500\u2500\u2500\u2500\u2500\u2500\u2500\u2500\u2500\u2500\u2500\u2500\u2500\u2500\u2500\u2500\u2500\u2500\u2500\u2500\u2500\u2500\u2500\u2500\u2500\n",
        "     ___  \u239e                                                       \u239b      ___  \n",
        "   \u2572\u2571 3 \u22c5\u2148\u239f                                          \u239b    3 ____\u239e \u239c3   \u2572\u2571 3 \u22c5\u2148\n",
        " - \u2500\u2500\u2500\u2500\u2500\u2500\u2500\u239f                                          \u239d1 + \u2572\u2571 -1 \u23a0\u22c5\u239c\u2500 - \u2500\u2500\u2500\u2500\u2500\u2500\u2500\n",
        "      2   \u23a0                                                       \u239d2      2   \n",
        "                                                                              \n",
        "     \u239e                                                                        \n",
        "  \u2148\u22c5\u03c0\u239f                                                                        \n",
        "  \u2500\u2500\u2500\u239f                                                                        \n",
        "   3 \u239f                                                                        \n",
        " \u212f   \u239f                                                                        \n",
        "     \u239f                                                                        \n",
        "     \u239f                                                                        \n",
        "     \u239f                                                                        \n",
        "     \u23a0                                                             2          \n",
        "\u2500\u2500\u2500\u2500\u2500\u2500                                               - \u2500\u2500\u2500\u2500\u2500\u2500\u2500\u2500\u2500\u2500\u2500\u2500\u2500\u2500\u2500\u2500\u2500\u2500\u2500\u2500\u2500\u2500\u2500\n",
        "                                                                    \u239b      ___\n",
        "                                                       \u239b    3 ____\u239e \u239c3   \u2572\u2571 3 \n",
        "                                                       \u239d1 + \u2572\u2571 -1 \u23a0\u22c5\u239c\u2500 - \u2500\u2500\u2500\u2500\u2500\n",
        "                                                                    \u239d2      2 \n",
        "\n",
        "                                                                 \u239b  \u239b      -2\u22c5\n",
        "                                                                 \u239c  \u239c      \u2500\u2500\u2500\n",
        "                                                                 \u239c  \u239c         \n",
        "2\u22c5\u2148\u22c5\u03c0 \u239e \u239b        2\u22c5\u2148\u22c5\u03c0\u239e  -\u2148\u22c5\u03c0 \u239e         \u239b      -2\u22c5\u2148\u22c5\u03c0 \u239e          \u239c2\u22c5\u239d-1 + \u212f   \n",
        "\u2500\u2500\u2500\u2500\u2500\u2500\u239f \u239c        \u2500\u2500\u2500\u2500\u2500\u239f  \u2500\u2500\u2500\u2500\u2500\u239f         \u239c      \u2500\u2500\u2500\u2500\u2500\u2500\u2500\u239f        2\u22c5\u239c\u2500\u2500\u2500\u2500\u2500\u2500\u2500\u2500\u2500\u2500\u2500\u2500\n",
        "  3   \u239f \u239c          3  \u239f    3  \u239f         \u239c         3   \u239f          \u239c        3 __\n",
        "      \u23a0\u22c5\u239d-1 - 2\u22c5\u212f     \u23a0\u22c5\u212f     \u239f       2\u22c5\u239d-1 + \u212f       \u23a0          \u239d    1 + \u2572\u2571 -\n",
        "\u2500\u2500\u2500\u2500\u2500\u2500\u2500\u2500\u2500\u2500\u2500\u2500\u2500\u2500\u2500\u2500\u2500\u2500\u2500\u2500\u2500\u2500\u2500\u2500\u2500\u2500\u2500\u2500\u2500\u2500\u239f + \u2500\u2500\u2500\u2500\u2500\u2500\u2500\u2500\u2500\u2500\u2500\u2500\u2500\u2500\u2500\u2500\u2500\u2500\u2500\u2500\u2500\u2500\u2500\u2500\u2500\u2500 + \u2500\u2500\u2500\u2500\u2500\u2500\u2500\u2500\u2500\u2500\u2500\u2500\u2500\u2500\u2500\n",
        "          3 ____              \u239f                \u239b      ___  \u239e                  \n",
        "      1 + \u2572\u2571 -1               \u23a0   \u239b    3 ____\u239e \u239c3   \u2572\u2571 3 \u22c5\u2148\u239f             3   \u2572\n",
        "                                  \u239d1 + \u2572\u2571 -1 \u23a0\u22c5\u239c\u2500 - \u2500\u2500\u2500\u2500\u2500\u2500\u2500\u239f             \u2500 - \u2500\n",
        "                                               \u239d2      2   \u23a0             2    \n",
        "                                                                              \n",
        "                                                                              \n",
        "                                                                              \n",
        "                                                                              \n",
        "                                                                              \n",
        "                                                                              \n",
        "               -2\u22c5\u2148\u22c5\u03c0            \u239b  \u239b      2\u22c5\u2148\u22c5\u03c0\u239e    \u239e \u239b                 2\u22c5\u2148\u22c5\u03c0\n",
        "               \u2500\u2500\u2500\u2500\u2500\u2500\u2500           \u239c  \u239c      \u2500\u2500\u2500\u2500\u2500\u239f    \u239f \u239c -\u2148\u22c5\u03c0            \u2500\u2500\u2500\u2500\u2500\n",
        "                  3              \u239c  \u239c        3  \u239f    \u239f \u239c \u2500\u2500\u2500\u2500\u2500             3  \n",
        "            2\u22c5\u212f                  \u239c2\u22c5\u239d-1 + \u212f     \u23a0    \u239f \u239c   3     -1 - 2\u22c5\u212f     \n",
        "\u2500 + \u2500\u2500\u2500\u2500\u2500\u2500\u2500\u2500\u2500\u2500\u2500\u2500\u2500\u2500\u2500\u2500\u2500\u2500\u2500\u2500\u2500\u2500\u2500\u2500\u2500\u2500 + \u239c\u2500\u2500\u2500\u2500\u2500\u2500\u2500\u2500\u2500\u2500\u2500\u2500\u2500\u2500\u2500 + 1\u239f\u22c5\u239c\u212f      - \u2500\u2500\u2500\u2500\u2500\u2500\u2500\u2500\u2500\u2500\u2500\u2500\u2500\n",
        "\u239e                \u239b      ___  \u239e   \u239c        ___        \u239f \u239c               3 ____ \n",
        "\u239f   \u239b    3 ____\u239e \u239c3   \u2572\u2571 3 \u22c5\u2148\u239f   \u239c  3   \u2572\u2571 3 \u22c5\u2148      \u239f \u239d           1 + \u2572\u2571 -1  \n",
        "\u239f   \u239d1 + \u2572\u2571 -1 \u23a0\u22c5\u239c\u2500 - \u2500\u2500\u2500\u2500\u2500\u2500\u2500\u239f   \u239c  \u2500 - \u2500\u2500\u2500\u2500\u2500\u2500\u2500      \u239f                        \n",
        "\u23a0                \u239d2      2   \u23a0   \u239d  2      2         \u23a0                        \n",
        "                                                                              \n",
        "                                                   \u239b  \u239b      2\u22c5\u2148\u22c5\u03c0\u239e    \u239e      \n",
        "                                   \u239b        2\u22c5\u2148\u22c5\u03c0\u239e \u239c  \u239c      \u2500\u2500\u2500\u2500\u2500\u239f    \u239f  -\u2148\u22c5\u03c0\n",
        "                                   \u239c        \u2500\u2500\u2500\u2500\u2500\u239f \u239c  \u239c        3  \u239f    \u239f  \u2500\u2500\u2500\u2500\n",
        "                                   \u239c          3  \u239f \u239c2\u22c5\u239d-1 + \u212f     \u23a0    \u239f    3 \n",
        "                                   \u239d-1 - 2\u22c5\u212f     \u23a0\u22c5\u239c\u2500\u2500\u2500\u2500\u2500\u2500\u2500\u2500\u2500\u2500\u2500\u2500\u2500\u2500\u2500 + 1\u239f\u22c5\u212f    \n",
        "                  2\u22c5\u2148\u22c5\u03c0                            \u239c        ___        \u239f      \n",
        "                  \u2500\u2500\u2500\u2500\u2500                            \u239c  3   \u2572\u2571 3 \u22c5\u2148      \u239f      \n",
        "                    3                              \u239c  \u2500 - \u2500\u2500\u2500\u2500\u2500\u2500\u2500      \u239f      \n",
        "               4\u22c5\u212f                                 \u239d  2      2         \u23a0      \n",
        "\u2500\u2500\u2500 - \u2500\u2500\u2500\u2500\u2500\u2500\u2500\u2500\u2500\u2500\u2500\u2500\u2500\u2500\u2500\u2500\u2500\u2500\u2500\u2500\u2500\u2500\u2500\u2500\u2500\u2500 - \u2500\u2500\u2500\u2500\u2500\u2500\u2500\u2500\u2500\u2500\u2500\u2500\u2500\u2500\u2500\u2500\u2500\u2500\u2500\u2500\u2500\u2500\u2500\u2500\u2500\u2500\u2500\u2500\u2500\u2500\u2500\u2500\u2500\u2500\u2500\u2500\u2500\u2500\u2500\u2500\u2500\u2500\u2500\n",
        "  \u239e                \u239b      ___  \u239e                        3 ____                \n",
        "\u22c5\u2148\u239f   \u239b    3 ____\u239e \u239c3   \u2572\u2571 3 \u22c5\u2148\u239f                    1 + \u2572\u2571 -1                 \n",
        "\u2500\u2500\u239f   \u239d1 + \u2572\u2571 -1 \u23a0\u22c5\u239c\u2500 - \u2500\u2500\u2500\u2500\u2500\u2500\u2500\u239f                                              \n",
        "  \u23a0                \u239d2      2   \u23a0                                              \n",
        "\n",
        "\u2148\u22c5\u03c0 \u239e    \u239e                         \u239b         \u239b      -2\u22c5\u2148\u22c5\u03c0 \u239e \u239b        2\u22c5\u2148\u22c5\u03c0\u239e  \n",
        "\u2500\u2500\u2500\u2500\u239f    \u239f  2\u22c5\u2148\u22c5\u03c0    \u239b      2\u22c5\u2148\u22c5\u03c0\u239e \u239c   \u2148\u22c5\u03c0   \u239c      \u2500\u2500\u2500\u2500\u2500\u2500\u2500\u239f \u239c        \u2500\u2500\u2500\u2500\u2500\u239f  \n",
        "3   \u239f    \u239f  \u2500\u2500\u2500\u2500\u2500    \u239c      \u2500\u2500\u2500\u2500\u2500\u239f \u239c   \u2500\u2500\u2500   \u239c         3   \u239f \u239c          3  \u239f  \n",
        "    \u23a0    \u239f    3      \u239c        3  \u239f \u239c    3    \u239d-1 + \u212f       \u23a0\u22c5\u239d-1 - 2\u22c5\u212f     \u23a0\u22c5\u212f\n",
        "\u2500\u2500\u2500\u2500\u2500 + 1\u239f\u22c5\u212f         \u239d-1 + \u212f     \u23a0\u22c5\u239c- \u212f    + \u2500\u2500\u2500\u2500\u2500\u2500\u2500\u2500\u2500\u2500\u2500\u2500\u2500\u2500\u2500\u2500\u2500\u2500\u2500\u2500\u2500\u2500\u2500\u2500\u2500\u2500\u2500\u2500\u2500\u2500\u2500\u2500\u2500\n",
        "__       \u239f                         \u239c                           3 ____         \n",
        "1        \u23a0                         \u239d                       1 + \u2572\u2571 -1          \n",
        "\u2500\u2500\u2500\u2500\u2500\u2500\u2500\u2500\u2500\u2500\u2500\u2500\u2500\u2500\u2500\u2500\u2500  - \u2500\u2500\u2500\u2500\u2500\u2500\u2500\u2500\u2500\u2500\u2500\u2500\u2500\u2500\u2500\u2500\u2500\u2500\u2500\u2500\u2500\u2500\u2500\u2500\u2500\u2500\u2500\u2500\u2500\u2500\u2500\u2500\u2500\u2500\u2500\u2500\u2500\u2500\u2500\u2500\u2500\u2500\u2500\u2500\u2500\u2500\u2500\u2500\u2500\u2500\u2500\u2500\u2500\u2500\u2500\u2500\u2500\n",
        " ___                                                 ___                      \n",
        "\u2571 3 \u22c5\u2148                                         3   \u2572\u2571 3 \u22c5\u2148                    \n",
        "\u2500\u2500\u2500\u2500\u2500\u2500                                         \u2500 - \u2500\u2500\u2500\u2500\u2500\u2500\u2500                    \n",
        "  2                                            2      2                       \n",
        "                                                                              \n",
        "                                                                              \n",
        "                                                                              \n",
        "                                                                              \n",
        "                                                                \u239b      2\u22c5\u2148\u22c5\u03c0\u239e \n",
        "                                                                \u239c      \u2500\u2500\u2500\u2500\u2500\u239f \n",
        "\u239e                                                               \u239c        3  \u239f \n",
        "\u239f                                                               \u239d-1 + \u212f     \u23a0\u22c5\n",
        "\u239f                                                                             \n",
        "\u239f                                              2                              \n",
        "\u239f                                - \u2500\u2500\u2500\u2500\u2500\u2500\u2500\u2500\u2500\u2500\u2500\u2500\u2500\u2500\u2500\u2500\u2500\u2500\u2500\u2500\u2500\u2500\u2500\u2500\u2500\u2500 - \u2500\u2500\u2500\u2500\u2500\u2500\u2500\u2500\u2500\u2500\u2500\u2500\u2500\u2500\n",
        "\u239f                                               \u239b      ___  \u239e                 \n",
        "\u23a0                                  \u239b    3 ____\u239e \u239c3   \u2572\u2571 3 \u22c5\u2148\u239f                3\n",
        "                                   \u239d1 + \u2572\u2571 -1 \u23a0\u22c5\u239c\u2500 - \u2500\u2500\u2500\u2500\u2500\u2500\u2500\u239f                \u2500\n",
        "                                                \u239d2      2   \u23a0                2\n",
        "                                                                              \n",
        "                                                                              \n",
        "                                                                              \n",
        "\u2500                                                                             \n",
        "                                                                              \n",
        "                                                                              \n",
        "                                                                \u239b        2\u22c5\u2148\u22c5\u03c0\n",
        "                                                                \u239c        \u2500\u2500\u2500\u2500\u2500\n",
        "                                                                \u239c          3  \n",
        "                                               1                \u239d-1 - 2\u22c5\u212f     \n",
        "\u2500                                  \u2500\u2500\u2500\u2500\u2500\u2500\u2500\u2500\u2500\u2500\u2500\u2500\u2500\u2500\u2500\u2500\u2500\u2500\u2500\u2500\u2500\u2500\u2500\u2500\u2500\u2500 + \u2500\u2500\u2500\u2500\u2500\u2500\u2500\u2500\u2500\u2500\u2500\u2500\u2500\u2500\n",
        "                                                \u239b      ___  \u239e                 \n",
        "                                   \u239b    3 ____\u239e \u239c3   \u2572\u2571 3 \u22c5\u2148\u239f        \u239b    3 __\n",
        "                                   \u239d1 + \u2572\u2571 -1 \u23a0\u22c5\u239c\u2500 - \u2500\u2500\u2500\u2500\u2500\u2500\u2500\u239f        \u239d1 + \u2572\u2571 -\n",
        "                                                \u239d2      2   \u23a0                 \n",
        "\n",
        "-\u2148\u22c5\u03c0 \u239e   \u239b  \u239b      -2\u22c5\u2148\u22c5\u03c0 \u239e    \u239e                                    \u23a4\n",
        "\u2500\u2500\u2500\u2500\u2500\u239f   \u239c  \u239c      \u2500\u2500\u2500\u2500\u2500\u2500\u2500\u239f    \u239f  2\u22c5\u2148\u22c5\u03c0                             \u23a5\n",
        "  3  \u239f   \u239c  \u239c         3   \u239f    \u239f  \u2500\u2500\u2500\u2500\u2500                             \u23a5\n",
        "     \u239f   \u239c2\u22c5\u239d-1 + \u212f       \u23a0    \u239f    3                 -2\u22c5\u2148\u22c5\u03c0        \u23a5\n",
        "\u2500\u2500\u2500\u2500\u2500\u239f   \u239c\u2500\u2500\u2500\u2500\u2500\u2500\u2500\u2500\u2500\u2500\u2500\u2500\u2500\u2500\u2500\u2500\u2500 + 1\u239f\u22c5\u212f                    \u2500\u2500\u2500\u2500\u2500\u2500\u2500       \u23a5\n",
        "     \u239f   \u239c        3 ____       \u239f                         3          \u23a5\n",
        "     \u23a0   \u239d    1 + \u2572\u2571 -1        \u23a0                -1 + \u212f              \u23a5\n",
        "\u2500\u2500\u2500\u2500\u2500\u2500 - \u2500\u2500\u2500\u2500\u2500\u2500\u2500\u2500\u2500\u2500\u2500\u2500\u2500\u2500\u2500\u2500\u2500\u2500\u2500\u2500\u2500\u2500\u2500\u2500\u2500\u2500\u2500\u2500\u2500\u2500 - \u2500\u2500\u2500\u2500\u2500\u2500\u2500\u2500\u2500\u2500\u2500\u2500\u2500\u2500\u2500\u2500\u2500\u2500\u2500\u2500\u2500\u2500\u2500\u2500\u2500\u2500\u23a5\n",
        "                        ___                            \u239b      ___  \u239e\u23a5\n",
        "                  3   \u2572\u2571 3 \u22c5\u2148             \u239b    3 ____\u239e \u239c3   \u2572\u2571 3 \u22c5\u2148\u239f\u23a5\n",
        "                  \u2500 - \u2500\u2500\u2500\u2500\u2500\u2500\u2500             \u239d1 + \u2572\u2571 -1 \u23a0\u22c5\u239c\u2500 - \u2500\u2500\u2500\u2500\u2500\u2500\u2500\u239f\u23a5\n",
        "                  2      2                             \u239d2      2   \u23a0\u23a5\n",
        "                                                                    \u23a5\n",
        "                                                                    \u23a5\n",
        "                                                                    \u23a5\n",
        "\u239b                 2\u22c5\u2148\u22c5\u03c0\u239e                                            \u23a5\n",
        "\u239c -\u2148\u22c5\u03c0            \u2500\u2500\u2500\u2500\u2500\u239f                                            \u23a5\n",
        "\u239c \u2500\u2500\u2500\u2500\u2500             3  \u239f                                            \u23a5\n",
        "\u239c   3     -1 - 2\u22c5\u212f     \u239f             -2\u22c5\u2148\u22c5\u03c0                         \u23a5\n",
        "\u239c\u212f      - \u2500\u2500\u2500\u2500\u2500\u2500\u2500\u2500\u2500\u2500\u2500\u2500\u2500\u239f             \u2500\u2500\u2500\u2500\u2500\u2500\u2500                        \u23a5\n",
        "\u239c               3 ____ \u239f                3                           \u23a5\n",
        "\u239d           1 + \u2572\u2571 -1  \u23a0            \u212f                               \u23a5\n",
        "\u2500\u2500\u2500\u2500\u2500\u2500\u2500\u2500\u2500\u2500\u2500\u2500\u2500\u2500\u2500\u2500\u2500\u2500\u2500\u2500\u2500\u2500\u2500\u2500 - \u2500\u2500\u2500\u2500\u2500\u2500\u2500\u2500\u2500\u2500\u2500\u2500\u2500\u2500\u2500\u2500\u2500\u2500\u2500\u2500\u2500\u2500\u2500\u2500\u2500\u2500               \u23a5\n",
        "     ___                                \u239b      ___  \u239e               \u23a5\n",
        "   \u2572\u2571 3 \u22c5\u2148                 \u239b    3 ____\u239e \u239c3   \u2572\u2571 3 \u22c5\u2148\u239f               \u23a5\n",
        " - \u2500\u2500\u2500\u2500\u2500\u2500\u2500                 \u239d1 + \u2572\u2571 -1 \u23a0\u22c5\u239c\u2500 - \u2500\u2500\u2500\u2500\u2500\u2500\u2500\u239f               \u23a5\n",
        "      2                                 \u239d2      2   \u23a0               \u23a5\n",
        "                                                                    \u23a5\n",
        "                                                                    \u23a5\n",
        "                                                                    \u23a5\n",
        "                                                                    \u23a5\n",
        "                                                                    \u23a5\n",
        "                                                                    \u23a5\n",
        "\u239e \u239b      2\u22c5\u2148\u22c5\u03c0\u239e  -\u2148\u22c5\u03c0                2\u22c5\u2148\u22c5\u03c0                          \u23a5\n",
        "\u239f \u239c      \u2500\u2500\u2500\u2500\u2500\u239f  \u2500\u2500\u2500\u2500\u2500               \u2500\u2500\u2500\u2500\u2500                          \u23a5\n",
        "\u239f \u239c        3  \u239f    3                   3                            \u23a5\n",
        "\u23a0\u22c5\u239d-1 + \u212f     \u23a0\u22c5\u212f                 2\u22c5\u212f                               \u23a5\n",
        "\u2500\u2500\u2500\u2500\u2500\u2500\u2500\u2500\u2500\u2500\u2500\u2500\u2500\u2500\u2500\u2500\u2500\u2500\u2500\u2500\u2500\u2500 + \u2500\u2500\u2500\u2500\u2500\u2500\u2500\u2500\u2500\u2500\u2500\u2500\u2500\u2500\u2500\u2500\u2500\u2500\u2500\u2500\u2500\u2500\u2500\u2500\u2500\u2500                 \u23a5\n",
        "    \u239b      ___  \u239e                     \u239b      ___  \u239e                 \u23a5\n",
        "__\u239e \u239c3   \u2572\u2571 3 \u22c5\u2148\u239f        \u239b    3 ____\u239e \u239c3   \u2572\u2571 3 \u22c5\u2148\u239f                 \u23a5\n",
        "1 \u23a0\u22c5\u239c\u2500 - \u2500\u2500\u2500\u2500\u2500\u2500\u2500\u239f        \u239d1 + \u2572\u2571 -1 \u23a0\u22c5\u239c\u2500 - \u2500\u2500\u2500\u2500\u2500\u2500\u2500\u239f                 \u23a5\n",
        "    \u239d2      2   \u23a0                     \u239d2      2   \u23a0                 \u23a6"
       ]
      }
     ],
     "prompt_number": 187
    },
    {
     "cell_type": "code",
     "collapsed": false,
     "input": [
      "sepMatrix.subs(phi, 2 * pi / 3).subs(nPh, 3)"
     ],
     "language": "python",
     "metadata": {},
     "outputs": [
      {
       "latex": [
        "$$\\left[\\begin{matrix}0.333333333333333 & 0.333333333333333 & 0.333333333333333\\\\0.666666666666667 & -0.333333333333333 & -0.333333333333333\\\\0 & 0.333333333333333 \\sqrt{3} & - 0.333333333333333 \\sqrt{3}\\end{matrix}\\right]$$"
       ],
       "metadata": {},
       "output_type": "pyout",
       "prompt_number": 174,
       "text": [
        "\u23a10.333333333333333     0.333333333333333        0.333333333333333    \u23a4\n",
        "\u23a2                                                                    \u23a5\n",
        "\u23a20.666666666666667    -0.333333333333333        -0.333333333333333   \u23a5\n",
        "\u23a2                                                                    \u23a5\n",
        "\u23a2                                       ___                       ___\u23a5\n",
        "\u23a3        0          0.333333333333333\u22c5\u2572\u2571 3   -0.333333333333333\u22c5\u2572\u2571 3 \u23a6"
       ]
      }
     ],
     "prompt_number": 174
    },
    {
     "cell_type": "code",
     "collapsed": false,
     "input": [
      "fourier_transform(sepMatrix)"
     ],
     "language": "python",
     "metadata": {},
     "outputs": [
      {
       "ename": "TypeError",
       "evalue": "fourier_transform() takes exactly 3 arguments (1 given)",
       "output_type": "pyerr",
       "traceback": [
        "\u001b[1;31m---------------------------------------------------------------------------\u001b[0m\n\u001b[1;31mTypeError\u001b[0m                                 Traceback (most recent call last)",
        "\u001b[1;32m<ipython-input-189-3a41f9c58e22>\u001b[0m in \u001b[0;36m<module>\u001b[1;34m()\u001b[0m\n\u001b[1;32m----> 1\u001b[1;33m \u001b[0mfourier_transform\u001b[0m\u001b[1;33m(\u001b[0m\u001b[0msepMatrix\u001b[0m\u001b[1;33m)\u001b[0m\u001b[1;33m\u001b[0m\u001b[0m\n\u001b[0m",
        "\u001b[1;31mTypeError\u001b[0m: fourier_transform() takes exactly 3 arguments (1 given)"
       ]
      }
     ],
     "prompt_number": 189
    },
    {
     "cell_type": "code",
     "collapsed": false,
     "input": [],
     "language": "python",
     "metadata": {},
     "outputs": []
    }
   ],
   "metadata": {}
  }
 ]
}