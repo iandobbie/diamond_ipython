{
 "metadata": {
  "name": "",
  "signature": "sha256:41840f35450f5a8663004f6c0fab95a4faf0fe5433353fd1109678ad5e11399d"
 },
 "nbformat": 3,
 "nbformat_minor": 0,
 "worksheets": [
  {
   "cells": [
    {
     "cell_type": "code",
     "collapsed": false,
     "input": [
      "import numpy as np\n",
      "import matplotlib\n",
      "import matplotlib.pyplot as plt\n",
      "import scipy.ndimage.filters as filters\n",
      "import scipy.special as special\n",
      "\n",
      "plt.rcParams['image.cmap'] = 'gray'\n",
      "\n",
      "pixelSizes = (110e-9, 110e-9, 125e-9)\n",
      "stackDims = (256, 256, 128)\n",
      "psfDims = (32, 32, 7)\n",
      "pBead = 0.00001\n",
      "\n",
      "zStack = (np.random.rand(*stackDims) < pBead).astype(float)\n",
      "xyz = [np.arange(0, pixelSizes[i] * stackDims[i], pixelSizes[i]) for i in range(3)]\n",
      "\n",
      "LOG2 = np.log(2)\n",
      "\n",
      "def gaussian(r, r0, a, fwhm):\n",
      "    # f\\left(x\\right) = a \\exp{\\left(- { \\frac{(x-b)^2 }{ 2 c^2} } \\right)}\n",
      "    # \\mathrm{FWHM} = 2 \\sqrt{2 \\ln 2}\\ c\n",
      "    return a * (-4. * LOG2 * (r - r0)**2 / fwhm**2)\n",
      "\n",
      "\n",
      "def fraunhoferSlit(theta, i0, aperture, wavelength):\n",
      "    # I(\\theta) = I_0 \\,\\operatorname{sinc}^2 \\left( \\frac{d \\pi}{\\lambda} \\sin\\theta \\right)\n",
      "    return i0 * np.sinc(aperture * np.pi * np.sin(theta) / wavelength)**2\n",
      "\n",
      "\n",
      "def fraunhofer(theta, i0, aperture, wavelength):\n",
      "    # I(\\theta) = I_0 \\left ( \\frac{2 J_1(ka \\sin \\theta)}{ka \\sin \\theta} \\right )^2\n",
      "    kaSinTheta = (2 * np.pi / wavelength) * (aperture / 2) * np.sin(theta)\n",
      "    return (2 * special.jv(1, kaSinTheta) / kaSinTheta)**2\n",
      "    \n",
      "\n",
      "def fraunhoferXYZ(i0, aperture, wavelength, x, y, z):\n",
      "    theta = np.arctan(np.sqrt(x**2 + y**2) / z)\n",
      "    return fraunhofer(theta, i0, aperture, wavelength)\n",
      "\n",
      "\n",
      "psf = np.zeros(psfDims)\n",
      "zStack = fraunhoferXYZ(1., 1000e-9, 500e-9, \n",
      "                       xyz[0][:,None,None] - xyz[0][stackDims[0]/2], \n",
      "                       xyz[1][None,:,None] - xyz[1][stackDims[1]/2], \n",
      "                       xyz[2][None,None,:] - xyz[2][stackDims[2]/2])"
     ],
     "language": "python",
     "metadata": {},
     "outputs": [],
     "prompt_number": 16
    },
    {
     "cell_type": "code",
     "collapsed": false,
     "input": [
      "import sliceViewer\n",
      "reload(sliceViewer)\n",
      "v = sliceViewer.SliceViewer(zStack)"
     ],
     "language": "python",
     "metadata": {},
     "outputs": [],
     "prompt_number": 18
    },
    {
     "cell_type": "code",
     "collapsed": false,
     "input": [
      "stackFT = np.fft.fftn(zStack)\n",
      "otf = np.fft.fftn(psf)\n",
      "img = filters.convolve(zStack, psf)\n"
     ],
     "language": "python",
     "metadata": {},
     "outputs": [],
     "prompt_number": 141
    },
    {
     "cell_type": "code",
     "collapsed": false,
     "input": [
      "source = zStack #stackFT.real #zStack\n",
      "projections = [source.sum(i) for i in range(3)]\n",
      "projections = [source[128,:,:], source[:,128,:], source[:,:,0]]\n",
      "f = plt.figure()\n",
      "gs = matplotlib.gridspec.GridSpec(2,2)\n",
      "gs.set_height_ratios( (1, 0.2))#max(0.1, stackDims[2] / stackDims[0]) ))\n",
      "gs.set_width_ratios( (0.2, 1)) #(max(0.05, stackDims[2] / stackDims[1]), 1 ))\n",
      "aXY = f.add_subplot(gs[0, 1], axisbg='#bbbbbb')\n",
      "aYZ = f.add_subplot(gs[0, 0], sharey=aXY, axisbg='#bbbbbb')\n",
      "aXZ = f.add_subplot(gs[1, 1], sharex=aXY, axisbg='#bbbbbb')\n",
      "projAxes = [aYZ, aXZ, aXY]\n",
      "aYZ.imshow(projections[0], interpolation='none', extent=[xyz[2][0], xyz[2][-1], xyz[1][0], xyz[1][-1]])\n",
      "aXZ.imshow(projections[1].T, interpolation='none', extent=[xyz[0][0], xyz[0][-1], xyz[2][0], xyz[2][-1]])\n",
      "aXY.imshow(projections[2].T, interpolation='none', extent=[xyz[0][0], xyz[0][-1], xyz[1][0], xyz[1][-1]])\n",
      "aXY.xaxis.set_visible(False)\n",
      "aXY.yaxis.set_visible(False)\n",
      "aYZ.xaxis.set_visible(False)\n",
      "aXZ.yaxis.set_visible(False)\n",
      "aXY.invert_yaxis()\n",
      "for a in projAxes:\n",
      "    a.set_aspect('auto')\n",
      "aXY.set_aspect('equal')\n",
      "\n",
      "gs.tight_layout(f, h_pad=0.0, w_pad=0.0 )"
     ],
     "language": "python",
     "metadata": {},
     "outputs": [],
     "prompt_number": 31
    },
    {
     "cell_type": "code",
     "collapsed": false,
     "input": [],
     "language": "python",
     "metadata": {},
     "outputs": []
    }
   ],
   "metadata": {}
  }
 ]
}