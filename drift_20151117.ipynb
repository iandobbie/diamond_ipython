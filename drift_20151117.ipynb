{
 "cells": [
  {
   "cell_type": "code",
   "execution_count": 3,
   "metadata": {},
   "outputs": [
    {
     "name": "stdout",
     "output_type": "stream",
     "text": [
      "Using matplotlib backend: MacOSX\n"
     ]
    }
   ],
   "source": [
    "%matplotlib\n",
    "import numpy as np\n",
    "import matplotlib.pyplot as plt\n",
    "from matplotlib import gridspec\n",
    "import os\n",
    "path = os.path.join(os.getcwd(), 'driftData')\n",
    "labels = ['cover glass stack',]\n",
    "fileNames = ['20151117-122926_CryoDrift4MinSteady.txt', \n",
    "             '20151117-123450_CryoDrift4MinSteady+10um.txt',\n",
    "             '20151117-124428_CryoDrift4MinSteady+10um-A.txt',\n",
    "             '20151117-124428_CryoDrift4MinSteady+10um-B.txt',\n",
    "             '20151117-153125_CryoDrift4MinSteady+10um.txt']\n",
    "colLabels = ['t','y','x','z']\n",
    "colColours = [None, 'g', 'r', 'b']\n",
    "skipRows = 1\n",
    "skipCols = 1\n",
    "fitPts = 4"
   ]
  },
  {
   "cell_type": "code",
   "execution_count": 2,
   "metadata": {},
   "outputs": [
    {
     "name": "stdout",
     "output_type": "stream",
     "text": [
      "Collecting matplotlib\n",
      "  Downloading matplotlib-3.2.1-cp38-cp38-macosx_10_9_x86_64.whl (12.4 MB)\n",
      "\u001b[K     |████████████████████████████████| 12.4 MB 9.2 MB/s eta 0:00:011\n",
      "\u001b[?25hCollecting cycler>=0.10\n",
      "  Using cached cycler-0.10.0-py2.py3-none-any.whl (6.5 kB)\n",
      "Requirement already satisfied: python-dateutil>=2.1 in /usr/local/Cellar/jupyterlab/2.1.2/libexec/lib/python3.8/site-packages (from matplotlib) (2.8.1)\n",
      "Collecting kiwisolver>=1.0.1\n",
      "  Downloading kiwisolver-1.2.0-cp38-cp38-macosx_10_9_x86_64.whl (60 kB)\n",
      "\u001b[K     |████████████████████████████████| 60 kB 10.6 MB/s eta 0:00:01\n",
      "\u001b[?25hCollecting numpy>=1.11\n",
      "  Downloading numpy-1.18.4-cp38-cp38-macosx_10_9_x86_64.whl (15.2 MB)\n",
      "\u001b[K     |████████████████████████████████| 15.2 MB 5.2 MB/s eta 0:00:01\n",
      "\u001b[?25hCollecting pyparsing!=2.0.4,!=2.1.2,!=2.1.6,>=2.0.1\n",
      "  Using cached pyparsing-2.4.7-py2.py3-none-any.whl (67 kB)\n",
      "Requirement already satisfied: six in /usr/local/Cellar/jupyterlab/2.1.2/libexec/lib/python3.8/site-packages (from cycler>=0.10->matplotlib) (1.14.0)\n",
      "Installing collected packages: cycler, kiwisolver, numpy, pyparsing, matplotlib\n",
      "Successfully installed cycler-0.10.0 kiwisolver-1.2.0 matplotlib-3.2.1 numpy-1.18.4 pyparsing-2.4.7\n",
      "\u001b[33mWARNING: You are using pip version 20.1; however, version 20.1.1 is available.\n",
      "You should consider upgrading via the '/usr/local/Cellar/jupyterlab/2.1.2/libexec/bin/python3.8 -m pip install --upgrade pip' command.\u001b[0m\n",
      "Note: you may need to restart the kernel to use updated packages.\n"
     ]
    }
   ],
   "source": [
    "pip install matplotlib\n"
   ]
  },
  {
   "cell_type": "code",
   "execution_count": 4,
   "metadata": {},
   "outputs": [],
   "source": [
    "data = []\n",
    "for fn in fileNames:\n",
    "    fp = os.path.join(path, fn)\n",
    "    d = np.genfromtxt(fp, skip_header=skipRows)[:,skipCols:]\n",
    "    # Substract baselines.\n",
    "    for col in range(1,d.shape[1]):\n",
    "        d[:,col] -= d[:,col].min()\n",
    "    data.append(d)\n",
    "for d in data:\n",
    "    for col in range(1, len(colLabels)):\n",
    "        plt.plot(d[:,0], d[:,col], label=colLabels[col])\n"
   ]
  },
  {
   "cell_type": "code",
   "execution_count": 5,
   "metadata": {},
   "outputs": [],
   "source": [
    "aligned = np.concatenate([d for d in data])\n",
    "tOffsets = [290, 840, 5840, 10840]\n",
    "for i in range(len(data)):\n",
    "    if i == 0:\n",
    "        count = data[i].shape[0]\n",
    "        continue\n",
    "    numPoints = data[i].shape[0]\n",
    "    # Manual t offset.\n",
    "    aligned[count:count+numPoints,0] += tOffsets[i-1]\n",
    "    # Gradient\n",
    "    deltaT = aligned[count-1, 0] - aligned[count, 0]\n",
    "    for v in range(1,4):\n",
    "        # Fit a stright line through a few points to estimate dvdt.\n",
    "        dvdt = np.polyfit(aligned[count-fitPts-1:count-1, 0],\n",
    "                      aligned[count-fitPts-1:count-1, v],\n",
    "                      1)[0]   \n",
    "        dv =  aligned[count,v]  + dvdt * deltaT - aligned[count-1, v]\n",
    "        aligned[count:, v] -= dv\n",
    "    count += numPoints   \n",
    "\n",
    "    # Gradient by discrete differences in microns / time point\n",
    "#gradient = np.diff(aligned, axis=0)\n",
    "# Convert to nm / second\n",
    "#gradient = 1000 * (gradient.T / gradient[:,0]).T\n",
    "\n",
    "# Gradient by fitting in microns per second.\n",
    "gradient = np.zeros(aligned.shape)\n",
    "for col in [1,2,3]:\n",
    "    for i in range(3, aligned.shape[0]-3):\n",
    "        gradient[i, col] = np.polyfit(aligned[i-3:i+3, 0],\n",
    "                                 aligned[i-3:i+3, col],\n",
    "                                 1)[0]\n",
    "# Convert to nm / second\n",
    "gradient *= 1000.\n"
   ]
  },
  {
   "cell_type": "code",
   "execution_count": 6,
   "metadata": {},
   "outputs": [
    {
     "data": {
      "text/plain": [
       "Text(0.5, 1.0, 'Drift under cryo conditions')"
      ]
     },
     "execution_count": 6,
     "metadata": {},
     "output_type": "execute_result"
    }
   ],
   "source": [
    "fig = plt.figure()\n",
    "gs = gridspec.GridSpec(2, 1, height_ratios=[1, 3]) \n",
    "axl = fig.add_subplot(gs[1])\n",
    "axl.xaxis.label.set_text('time / minutes')\n",
    "axl.yaxis.label.set_text(u'displacement / µm')\n",
    "axl.set_xticks(range(0, int(aligned.T[0].max()/60), 30))\n",
    "axl.grid(b=True, which='major', alpha=0.2, linestyle='-')\n",
    "\n",
    "axu = fig.add_subplot(gs[0])\n",
    "axu.xaxis.set_visible(False)\n",
    "axu.yaxis.label.set_text(r'drift / nm.s$^-1$')\n",
    "\n",
    "handles = []\n",
    "for col in [3,1,2]:\n",
    "    handles.append(\n",
    "            axl.plot(aligned.T[0]/60, aligned.T[col], label=colLabels[col],\n",
    "                 ls=' ', marker='+', color=colColours[col]))\n",
    "    axu.plot(aligned[:gradient.shape[0],0]/60, gradient[:,col],\n",
    "             ls=' ', marker='.', markersize=2, color=colColours[col])\n",
    "\n",
    "plt.title('Drift under cryo conditions')\n",
    "#axl.legend(*axl.get_legend_handles_labels(), loc='upper left')\n"
   ]
  },
  {
   "cell_type": "code",
   "execution_count": 7,
   "metadata": {},
   "outputs": [],
   "source": [
    "fig2=plt.figure()\n",
    "gs = gridspec.GridSpec(2, 1, height_ratios=[1, 3]) \n",
    "axl = fig2.add_subplot(gs[1])\n",
    "axl.xaxis.label.set_text('time / minutes')\n",
    "axl.yaxis.label.set_text(u'displacement / µm')\n",
    "axl.set_xticks(range(0, int(aligned.T[0].max()/60), 30))\n",
    "axl.grid(b=True, which='major', alpha=0.2, linestyle='-')\n",
    "\n",
    "axu = fig2.add_subplot(gs[0])\n",
    "axu.xaxis.set_visible(False)\n",
    "axu.yaxis.label.set_text(r'drift / nm.s$^-1$')\n",
    "\n",
    "axu.set_ylim([-3,5])\n",
    "\n",
    "handles = []\n",
    "for col in [3,1,2]:\n",
    "    handles.append(\n",
    "            axl.plot(aligned.T[0,900:1200]/60, \n",
    "                     aligned.T[col,900:1200]-aligned.T[col,900:1200].mean(), \n",
    "                     label=colLabels[col],\n",
    "                  color=colColours[col]))\n",
    "    axu.plot(aligned.T[0,900:1200]/60, gradient[900:1200,col],\n",
    "             markersize=2, color=colColours[col])\n",
    "\n",
    "\n",
    "plt.show()\n",
    "        "
   ]
  },
  {
   "cell_type": "code",
   "execution_count": 36,
   "metadata": {},
   "outputs": [
    {
     "data": {
      "text/plain": [
       "(1437, 4)"
      ]
     },
     "execution_count": 36,
     "metadata": {},
     "output_type": "execute_result"
    }
   ],
   "source": [
    "gradient.shape"
   ]
  },
  {
   "cell_type": "code",
   "execution_count": 47,
   "metadata": {},
   "outputs": [
    {
     "data": {
      "text/plain": [
       "14410.0"
      ]
     },
     "execution_count": 47,
     "metadata": {},
     "output_type": "execute_result"
    }
   ],
   "source": [
    "aligned.T[0,-1]"
   ]
  },
  {
   "cell_type": "code",
   "execution_count": null,
   "metadata": {},
   "outputs": [],
   "source": [
    "fig3=plt.figure()\n",
    "h1= fig3.add_subplot()\n",
    "h1.set_xlim([-3,3\n",
    "             "
   ]
  },
  {
   "cell_type": "code",
   "execution_count": null,
   "metadata": {},
   "outputs": [],
   "source": [
    "fig3=plt.figure()\n",
    "h1= fig3.add_subplot()\n",
    "h1.set_xlim([-3,3])\n",
    "h1.xaxis.label.set_text('drift nm.axl.xaxis.label.set_text('time / minutes')"
   ]
  },
  {
   "cell_type": "code",
   "execution_count": 10,
   "metadata": {},
   "outputs": [],
   "source": [
    "fig3=plt.figure()\n",
    "h1= fig3.add_subplot()\n",
    "h1.set_xlim([-3,3])\n",
    "h1.xaxis.label.set_text('drift nm.s$^{-^1}$')\n",
    "h1.yaxis.label.set_text('frequency')\n",
    "\n",
    "for col in [1,2,3]:\n",
    "    handles.append(\n",
    "        h1.hist(gradient[:,col], bins=np.arange(-3,3,.1),color=colColours[col])\n",
    "    )\n",
    "plt.show()"
   ]
  },
  {
   "cell_type": "code",
   "execution_count": 66,
   "metadata": {},
   "outputs": [
    {
     "name": "stdout",
     "output_type": "stream",
     "text": [
      "[-1.00000000e+00 -9.00000000e-01 -8.00000000e-01 -7.00000000e-01\n",
      " -6.00000000e-01 -5.00000000e-01 -4.00000000e-01 -3.00000000e-01\n",
      " -2.00000000e-01 -1.00000000e-01 -2.22044605e-16  1.00000000e-01\n",
      "  2.00000000e-01  3.00000000e-01  4.00000000e-01  5.00000000e-01\n",
      "  6.00000000e-01  7.00000000e-01  8.00000000e-01  9.00000000e-01]\n"
     ]
    }
   ],
   "source": [
    "bins=np.arange(-1,1,.1)\n",
    "print (bins)"
   ]
  }
 ],
 "metadata": {
  "kernelspec": {
   "display_name": "Python 3",
   "language": "python",
   "name": "python3"
  },
  "language_info": {
   "codemirror_mode": {
    "name": "ipython",
    "version": 3
   },
   "file_extension": ".py",
   "mimetype": "text/x-python",
   "name": "python",
   "nbconvert_exporter": "python",
   "pygments_lexer": "ipython3",
   "version": "3.8.2"
  }
 },
 "nbformat": 4,
 "nbformat_minor": 1
}
