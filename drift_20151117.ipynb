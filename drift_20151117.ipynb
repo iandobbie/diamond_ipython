{
 "metadata": {
  "name": "",
  "signature": "sha256:9597cde4edab536931c117c9bdec659d839e2533a58446f83eb9003374ccf46a"
 },
 "nbformat": 3,
 "nbformat_minor": 0,
 "worksheets": [
  {
   "cells": [
    {
     "cell_type": "code",
     "collapsed": false,
     "input": [
      "import numpy as np\n",
      "import matplotlib.pyplot as plt\n",
      "from matplotlib import gridspec\n",
      "import os\n",
      "path = os.path.join(os.getcwd(), 'driftData')\n",
      "labels = ['cover glass stack',]\n",
      "fileNames = ['20151117-122926_CryoDrift4MinSteady.txt', \n",
      "             '20151117-123450_CryoDrift4MinSteady+10um.txt',\n",
      "             '20151117-124428_CryoDrift4MinSteady+10um-A.txt',\n",
      "             '20151117-124428_CryoDrift4MinSteady+10um-B.txt',\n",
      "             '20151117-153125_CryoDrift4MinSteady+10um.txt']\n",
      "colLabels = ['t','y','x','z']\n",
      "colColours = [None, 'g', 'r', 'b']\n",
      "skipRows = 1\n",
      "skipCols = 1\n",
      "fitPts = 4"
     ],
     "language": "python",
     "metadata": {},
     "outputs": [],
     "prompt_number": 1
    },
    {
     "cell_type": "code",
     "collapsed": false,
     "input": [
      "data = []\n",
      "for fn in fileNames:\n",
      "    fp = os.path.join(path, fn)\n",
      "    d = np.genfromtxt(fp, skiprows=skipRows)[:,skipCols:]\n",
      "    # Substract baselines.\n",
      "    for col in xrange(1,d.shape[1]):\n",
      "        d[:,col] -= d[:,col].min()\n",
      "    data.append(d)\n",
      "for d in data:\n",
      "    for col in xrange(1, len(colLabels)):\n",
      "        plt.plot(d[:,0], d[:,col], label=colLabels[col])\n"
     ],
     "language": "python",
     "metadata": {},
     "outputs": [],
     "prompt_number": 2
    },
    {
     "cell_type": "code",
     "collapsed": false,
     "input": [
      "aligned = np.concatenate([d for d in data])\n",
      "tOffsets = [290, 840, 5840, 10840]\n",
      "for i in xrange(len(data)):\n",
      "    if i == 0:\n",
      "        count = data[i].shape[0]\n",
      "        continue\n",
      "    numPoints = data[i].shape[0]\n",
      "    # Manual t offset.\n",
      "    aligned[count:count+numPoints,0] += tOffsets[i-1]\n",
      "    # Gradient\n",
      "    deltaT = aligned[count-1, 0] - aligned[count, 0]\n",
      "    for v in xrange(1,4):\n",
      "        # Fit a stright line through a few points to estimate dvdt.\n",
      "        dvdt = np.polyfit(aligned[count-fitPts-1:count-1, 0],\n",
      "                      aligned[count-fitPts-1:count-1, v],\n",
      "                      1)[0]   \n",
      "        dv =  aligned[count,v]  + dvdt * deltaT - aligned[count-1, v]\n",
      "        aligned[count:, v] -= dv\n",
      "    count += numPoints   \n",
      "\n",
      "    # Gradient by discrete differences in microns / time point\n",
      "#gradient = np.diff(aligned, axis=0)\n",
      "# Convert to nm / second\n",
      "#gradient = 1000 * (gradient.T / gradient[:,0]).T\n",
      "\n",
      "# Gradient by fitting in microns per second.\n",
      "gradient = np.zeros(aligned.shape)\n",
      "for col in [1,2,3]:\n",
      "    for i in xrange(2, aligned.shape[0]-2):\n",
      "        gradient[i, col] = np.polyfit(aligned[i-2:i+2, 0],\n",
      "                                 aligned[i-2:i+2, col],\n",
      "                                 1)[0]\n",
      "# Convert to nm / second\n",
      "gradient *= 1000.\n"
     ],
     "language": "python",
     "metadata": {},
     "outputs": [],
     "prompt_number": 12
    },
    {
     "cell_type": "code",
     "collapsed": false,
     "input": [
      "fig = plt.figure()\n",
      "gs = gridspec.GridSpec(2, 1, height_ratios=[1, 3]) \n",
      "axl = fig.add_subplot(gs[1])\n",
      "axl.xaxis.label.set_text('time / minutes')\n",
      "axl.yaxis.label.set_text(u'displacement / \u00b5m')\n",
      "axl.set_xticks(range(0, int(aligned.T[0].max()/60), 30))\n",
      "axl.grid(b=True, which='major', alpha=0.2, linestyle='-')\n",
      "\n",
      "axu = fig.add_subplot(gs[0])\n",
      "axu.xaxis.set_visible(False)\n",
      "axu.yaxis.label.set_text(r'drift / nm.s$^-1$')\n",
      "\n",
      "handles = []\n",
      "for col in [3,1,2]:\n",
      "    handles.append(\n",
      "            axl.plot(aligned.T[0]/60, aligned.T[col], label=colLabels[col],\n",
      "                 ls=' ', marker='+', color=colColours[col]))\n",
      "    axu.plot(aligned[:gradient.shape[0],0]/60, gradient[:,col],\n",
      "             ls=' ', marker='.', markersize=2, color=colColours[col])\n",
      "\n",
      "plt.title('Drift under cryo conditions')\n",
      "axl.legend(*axl.get_legend_handles_labels(), loc='upper left')\n"
     ],
     "language": "python",
     "metadata": {},
     "outputs": [
      {
       "metadata": {},
       "output_type": "pyout",
       "prompt_number": 17,
       "text": [
        "<matplotlib.legend.Legend at 0xdbcf630>"
       ]
      }
     ],
     "prompt_number": 17
    }
   ],
   "metadata": {}
  }
 ]
}