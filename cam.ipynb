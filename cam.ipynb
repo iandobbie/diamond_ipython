{
 "metadata": {
  "name": "",
  "signature": "sha256:1ae6b8f14df764a01d8657bec05b338b9eefcebe2e8ba0b9214c3bfd1ee408fb"
 },
 "nbformat": 3,
 "nbformat_minor": 0,
 "worksheets": [
  {
   "cells": [
    {
     "cell_type": "code",
     "collapsed": false,
     "input": [
      "from matplotlib import pyplot as plt\n",
      "import numpy as np\n",
      "\n",
      "pivotToLowestPoint = 10.5\n",
      "detent = 2.0\n",
      "liftHeight = 15.0\n",
      "\n",
      "delta = 1./16384\n",
      "t = np.arange(0, 1 + delta , delta)\n",
      "theta = t * 90\n",
      "r = pivotToLowestPoint + t * (liftHeight + detent)\n",
      "\n",
      "x = r * np.cos(np.pi * theta / 180.)\n",
      "y = r * np.sin(np.pi * theta / 180.)\n"
     ],
     "language": "python",
     "metadata": {},
     "outputs": [],
     "prompt_number": 41
    },
    {
     "cell_type": "code",
     "collapsed": false,
     "input": [
      "yPlot = np.arange(0.5, 27.5 + .5, 1)\n",
      "xPlot = np.interp(yPlot, y, x)\n",
      "\n",
      "fig, ax = plt.subplots()\n",
      "ax.plot(y, x)\n",
      "ax.plot(yPlot, xPlot, '+')\n",
      "ax.set_aspect('equal')"
     ],
     "language": "python",
     "metadata": {},
     "outputs": [],
     "prompt_number": 42
    },
    {
     "cell_type": "code",
     "collapsed": false,
     "input": [
      "for row in zip(yPlot, xPlot):\n",
      "    print '%.2f  \\t  %.2f' % row"
     ],
     "language": "python",
     "metadata": {},
     "outputs": [
      {
       "output_type": "stream",
       "stream": "stdout",
       "text": [
        "0.50  \t  10.98\n",
        "1.50  \t  11.78\n",
        "2.50  \t  12.40\n",
        "3.50  \t  12.90\n",
        "4.50  \t  13.29\n",
        "5.50  \t  13.59\n",
        "6.50  \t  13.81\n",
        "7.50  \t  13.95\n",
        "8.50  \t  14.02\n",
        "9.50  \t  14.03\n",
        "10.50  \t  13.97\n",
        "11.50  \t  13.85\n",
        "12.50  \t  13.66\n",
        "13.50  \t  13.42\n",
        "14.50  \t  13.11\n",
        "15.50  \t  12.73\n",
        "16.50  \t  12.29\n",
        "17.50  \t  11.77\n",
        "18.50  \t  11.18\n",
        "19.50  \t  10.51\n",
        "20.50  \t  9.74\n",
        "21.50  \t  8.88\n",
        "22.50  \t  7.90\n",
        "23.50  \t  6.78\n",
        "24.50  \t  5.50\n",
        "25.50  \t  4.01\n",
        "26.50  \t  2.23\n",
        "27.50  \t  0.00\n"
       ]
      }
     ],
     "prompt_number": 43
    },
    {
     "cell_type": "code",
     "collapsed": false,
     "input": [
      "yOutput = np.arange(0, 27.6, 0.1)\n",
      "xOutput = np.interp(yOutput, y, x)\n",
      "fig, ax = plt.subplots()\n",
      "ax.plot(yOutput, xOutput, 'rx')\n",
      "ax.plot(yPlot, xPlot, '+')\n",
      "ax.set_aspect('equal')\n",
      "with open('cam.txt', 'w') as f:\n",
      "    for yx in zip(yOutput, xOutput):\n",
      "        f.write('%.2f\\t%.2f\\n' % yx)\n"
     ],
     "language": "python",
     "metadata": {},
     "outputs": [],
     "prompt_number": 60
    },
    {
     "cell_type": "code",
     "collapsed": false,
     "input": [],
     "language": "python",
     "metadata": {},
     "outputs": []
    }
   ],
   "metadata": {}
  }
 ]
}