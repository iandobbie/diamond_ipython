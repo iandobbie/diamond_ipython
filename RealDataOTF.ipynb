{
 "metadata": {
  "name": "",
  "signature": "sha256:e7a270990f5c6ea4e64d316784edfe143e5085e7c205bc5412a13855a8d48f1e"
 },
 "nbformat": 3,
 "nbformat_minor": 0,
 "worksheets": [
  {
   "cells": [
    {
     "cell_type": "code",
     "collapsed": false,
     "input": [
      "import matplotlib.pyplot as plt\n",
      "import Mrc\n",
      "import numpy as np\n",
      "import sliceViewer\n",
      "reload(sliceViewer)\n",
      "plt.rcParams['image.cmap'] = 'gray'\n",
      "\n",
      "dataPath = r'c:\\b24\\488_512_a2_tp1160_01.dv'\n",
      "\n",
      "# Load data\n",
      "data = Mrc.open(dataPath)\n",
      "zStack = data.readStack(data.hdr.Num[-1])\n",
      "\n",
      "zSummedPhases = np.zeros((data.hdr.Num[2]/5, data.hdr.Num[1], data.hdr.Num[0]))\n",
      "for i in range(data.hdr.Num[2]/5): zSummedPhases[i,:,:] = zStack[i * 5:5 + i * 5].sum(axis=0)\n",
      "\n",
      "# View separate and summed phases in real space.\n",
      "vStack = sliceViewer.SliceViewer(zStack, scaling=data.hdr.d[::-1])\n",
      "vSummed = sliceViewer.SliceViewer(zSummedPhases, scaling=data.hdr.d[::-1])\n",
      "\n",
      "# 2D Hanning window\n",
      "window = np.multiply(np.hanning(data.hdr.Num[0])[None,...], np.hanning(data.hdr.Num[1])[...,None])\n",
      "# Take 3D FFT of each image in ztack, applying window.\n",
      "kStack = np.fft.fftshift(np.fft.fftn(zStack * window[None,...]))\n",
      "#kStack = np.fft.fftshift(np.fft.fftn(zSummedPhases * window[None,...]))\n",
      "# Modulus and argument.\n",
      "kStackMod = np.multiply(kStack, kStack.conj()).real\n",
      "kStackArg = np.arctan(np.divide(kStack.imag, kStack.real)).real"
     ],
     "language": "python",
     "metadata": {},
     "outputs": [],
     "prompt_number": 1
    },
    {
     "cell_type": "code",
     "collapsed": false,
     "input": [
      "# View OTF of full data stack.\n",
      "kStackViewers = (sliceViewer.SliceViewer(kStackMod), sliceViewer.SliceViewer(kStackArg))"
     ],
     "language": "python",
     "metadata": {},
     "outputs": [],
     "prompt_number": 275
    },
    {
     "cell_type": "code",
     "collapsed": false,
     "input": [
      "# View the 5 phases seprately.\n",
      "# Data is ordered (z0, ph0), (z0, ph1) ... (zN, ph5).\n",
      "# Take every 5th image to extract Z-stack for each phase.\n",
      "zPhases = [zStack[i:zStack.shape[0]:5] for i in range(5)]\n",
      "zPhasesFT = [np.fft.fftshift(np.fft.fftn(phase)) for phase in zPhases]\n",
      "zPhasesMod = [np.multiply(ft, ft.conj()).real for ft in zPhasesFT]\n",
      "zPhasesArg = [np.arctan(np.divide(ft.imag, ft.real)).real for ft in zPhasesFT]\n",
      "views = [sliceViewer.SliceViewer(d) for d in zPhasesMod]"
     ],
     "language": "python",
     "metadata": {},
     "outputs": [],
     "prompt_number": 64
    },
    {
     "cell_type": "code",
     "collapsed": false,
     "input": [
      "# Separate the 0, +/-1 and +/-2 bands.\n",
      "window = np.multiply(np.hanning(data.hdr.Num[0])[None,...], np.hanning(data.hdr.Num[1])[...,None])\n",
      "#kStack = np.fft.fftshift(np.fft.fftn(zStack * window[None,...]))\n",
      "#kStack = np.fft.fftn(zStack * window[None,...])\n",
      "kStackMod = np.abs(kStack) #np.multiply(kStack, kStack.conj()).real\n",
      "#kStackArg = np.angle(kStack) \n",
      "kStackArg = np.arctan(np.divide(kStack.imag, kStack.real)).real\n",
      "kStackViewers = (sliceViewer.SliceViewer(kStackMod), sliceViewer.SliceViewer(kStackArg))"
     ],
     "language": "python",
     "metadata": {},
     "outputs": [],
     "prompt_number": 56
    },
    {
     "cell_type": "code",
     "collapsed": false,
     "input": [
      "# Radially average about kz=0.\n",
      "# k-space co-ordinates\n",
      "ky, kx = np.ogrid[-kStack.shape[1]/2:kStack.shape[1]/2, -kStack.shape[2]/2:kStack.shape[2]/2]\n",
      "kz = np.ogrid[0:kStack.shape[0]]\n",
      "# Radius in k-space, shifted to match FFT.\n",
      "radius = np.fft.fftshift(np.hypot(kx, ky))\n",
      "# Assign each pixel to a bin in r_circ.\n",
      "r_circ = np.arange(kStack.shape[2]/2.)\n",
      "#circles = np.digitize(radius.flat, r_circ + 0.5)\n",
      "circles = np.empty_like(radius.flat, dtype=np.int64)\n",
      "np.clip(np.floor(radius.flat), 0, kStack.shape[1]/2, circles)\n",
      "# sum around circles\n",
      "sMod = np.array([[kStackMod[k].flat[circles==r].sum() for r in r_circ] for k in kz])\n",
      "sArg = np.array([[kStackArg[k].flat[circles==r].sum() for r in r_circ] for k in kz])\n",
      "#avg = np.divide(s, np.bincount(circles)[1:])\n",
      "#avgMod = np.abs(avg) #np.multiply(avg, avg.conj()).real\n",
      "#avgArg = np.angle(avg) #np.arctan(np.divide(avg.imag, avg.real)).real\n",
      "count = np.bincount(circles[1:])\n",
      "avgMod = np.divide(sMod, np.bincount(circles)[1:])\n",
      "avgArg = np.divide(sArg, np.bincount(circles)[1:])"
     ],
     "language": "python",
     "metadata": {},
     "outputs": [],
     "prompt_number": 57
    },
    {
     "cell_type": "code",
     "collapsed": false,
     "input": [
      "plt.figure()\n",
      "plt.imshow(np.log10(avgMod), interpolation='none')\n",
      "plt.figure()\n",
      "plt.imshow(avgArg, interpolation='none')\n",
      "v = sliceViewer.SliceViewer(kStackMod)"
     ],
     "language": "python",
     "metadata": {},
     "outputs": [],
     "prompt_number": 59
    },
    {
     "cell_type": "code",
     "collapsed": false,
     "input": [
      "m0 = avgArg[0:64] + avgArg[-1:-65:-1]\n",
      "plt.figure()\n",
      "#plt.imshow(np.log10(m0))\n",
      "plt.imshow(m0)"
     ],
     "language": "python",
     "metadata": {},
     "outputs": [
      {
       "metadata": {},
       "output_type": "pyout",
       "prompt_number": 54,
       "text": [
        "<matplotlib.image.AxesImage at 0x14653d30>"
       ]
      }
     ],
     "prompt_number": 54
    },
    {
     "cell_type": "code",
     "collapsed": false,
     "input": [
      "# Load and view a softwoRx OTF.\n",
      "swDataPath = r'c:\\b24\\488_512_a2_tp1160_01.otf'\n",
      "swData = Mrc.open(swDataPath)\n",
      "swStack = swData.readStack(swData.hdr.Num[-1])\n",
      "swMod = np.multiply(swStack, swStack.conj()).real\n",
      "swArg = np.arctan(np.divide(swStack.imag, swStack.real)).real\n",
      "swViews = (sliceViewer.SliceViewer(swMod), sliceViewer.SliceViewer(swArg))"
     ],
     "language": "python",
     "metadata": {},
     "outputs": [],
     "prompt_number": 70
    },
    {
     "cell_type": "code",
     "collapsed": false,
     "input": [
      "reload(sliceViewer)\n",
      "# Test radial averaging.\n",
      "kz = np.arange(12)\n",
      "test = np.zeros((kz.max(),256,256))\n",
      "radius = np.fft.fftshift(np.hypot(kx, ky))\n",
      "# Assign each pixel to a bin in r_circ.\n",
      "r_circ = np.arange(128) #int(np.max(radius)))\n",
      "#circles = np.digitize(radius.flat, r_circ + 0.5)\n",
      "circles = np.empty_like(radius.flat, dtype=np.int64)\n",
      "np.clip(np.floor(radius.flat), 0, 128, circles)\n",
      "test = np.sin(np.divide(radius[None,:,:],1 + kz[:,None,None]))\n",
      "# sum around circles\n",
      "s = np.array([[test[k].flat[circles==r].sum() for r in r_circ] for k in kz])\n",
      "avg = np.divide(s, np.bincount(circles)[1:])\n",
      "#avgMod = np.multiply(avg, avg.conj()).real\n",
      "#avgArg = np.arctan(np.divide(avg.imag, avg.real)).real\n",
      "#kz.shape, s.shape, avg.shape\n",
      "#plt.imshow(np.log10(avgMod))\n",
      "plt.imshow(avg, aspect='auto', interpolation='none')\n",
      "v = sliceViewer.SliceViewer(test)"
     ],
     "language": "python",
     "metadata": {},
     "outputs": [],
     "prompt_number": 63
    },
    {
     "cell_type": "code",
     "collapsed": false,
     "input": [
      "a = np.angle(kStack)\n",
      "b = np.arctan(kStack.imag / kStack.real).real\n",
      "test = a - b"
     ],
     "language": "python",
     "metadata": {},
     "outputs": [],
     "prompt_number": 40
    },
    {
     "cell_type": "code",
     "collapsed": true,
     "input": [
      "# 2D Hanning window\n",
      "window = np.multiply(np.hanning(data.hdr.Num[0])[None,...], np.hanning(data.hdr.Num[1])[...,None])\n",
      "# Take 3D FFT of each image in ztack, applying window.\n",
      "kStack = np.fft.fftn(zStack * window[None,...])\n",
      "# Modulus and argument.\n",
      "#kStackMod = np.multiply(kStack, kStack.conj()).real\n",
      "#kStackArg = np.arctan(np.divide(kStack.imag, kStack.real)).real\n",
      "# Radial average\n",
      "# If kStack dimensions are(odd, odd, even):\n",
      "# kStack[kz-1, ky, kx] = conj(kStack[-kz, -ky, -kx])\n",
      "\n",
      "\n",
      "\n",
      "\n"
     ],
     "language": "python",
     "metadata": {},
     "outputs": [],
     "prompt_number": 271
    },
    {
     "cell_type": "code",
     "collapsed": false,
     "input": [
      "# View OTF of full data stack.\n",
      "kStackViewers = (sliceViewer.SliceViewer(np.abs(kStack)), sliceViewer.SliceViewer(np.angle(kStack)))"
     ],
     "language": "python",
     "metadata": {},
     "outputs": [],
     "prompt_number": 272
    },
    {
     "cell_type": "code",
     "collapsed": false,
     "input": [
      "kStack.shape"
     ],
     "language": "python",
     "metadata": {},
     "outputs": [
      {
       "metadata": {},
       "output_type": "pyout",
       "prompt_number": 274,
       "text": [
        "(325L, 256L, 256L)"
       ]
      }
     ],
     "prompt_number": 274
    },
    {
     "cell_type": "code",
     "collapsed": false,
     "input": [
      "z, y, x = kStack.shape\n",
      "kx = np.arange(x/2)\n",
      "ky = np.arange(y/2)\n",
      "kz = np.arange((z-1)/2) + 1\n",
      "test = kStack[kz-1,:,:][:,ky,:][:,:,kx] * kStack[-kz,:,:][:,-ky,:][:,:,-kx]\n",
      "test.shape"
     ],
     "language": "python",
     "metadata": {},
     "outputs": [
      {
       "metadata": {},
       "output_type": "pyout",
       "prompt_number": 236,
       "text": [
        "(162L, 128L, 128L)"
       ]
      }
     ],
     "prompt_number": 236
    },
    {
     "cell_type": "code",
     "collapsed": false,
     "input": [
      "v = sliceViewer.SliceViewer(np.abs(test))"
     ],
     "language": "python",
     "metadata": {},
     "outputs": [],
     "prompt_number": 248
    },
    {
     "cell_type": "code",
     "collapsed": false,
     "input": [
      "phases = 5\n",
      "norders = 3\n",
      "#Make separation matrix\n",
      "sepMatrix=np.zeros((phases,phases),dtype=np.float)\n",
      "import math\n",
      "phi=2*math.pi/phases\n",
      "for j in range (0, phases):\n",
      "    sepMatrix[0][j] = 1.0/phases\n",
      "    for i in range (1,norders):\n",
      "        sepMatrix[2*i-1][j]=2.0*math.cos(j*i*phi)/phases\n",
      "        sepMatrix[2*i][j]=2.0*math.sin(j*i*phi)/phases\n",
      "        \n",
      "sepMatrix"
     ],
     "language": "python",
     "metadata": {},
     "outputs": [
      {
       "metadata": {},
       "output_type": "pyout",
       "prompt_number": 253,
       "text": [
        "array([[ 0.2       ,  0.2       ,  0.2       ,  0.2       ,  0.2       ],\n",
        "       [ 0.4       ,  0.1236068 , -0.3236068 , -0.3236068 ,  0.1236068 ],\n",
        "       [ 0.        ,  0.38042261,  0.2351141 , -0.2351141 , -0.38042261],\n",
        "       [ 0.4       , -0.3236068 ,  0.1236068 ,  0.1236068 , -0.3236068 ],\n",
        "       [ 0.        ,  0.2351141 , -0.38042261,  0.38042261, -0.2351141 ]])"
       ]
      }
     ],
     "prompt_number": 253
    },
    {
     "cell_type": "code",
     "collapsed": false,
     "input": [
      "np.set_printoptions(suppress=True)\n",
      "np.linalg.inv(sepMatrix).T"
     ],
     "language": "python",
     "metadata": {},
     "outputs": [
      {
       "metadata": {},
       "output_type": "pyout",
       "prompt_number": 262,
       "text": [
        "array([[ 1.        ,  1.        ,  1.        ,  1.        ,  1.        ],\n",
        "       [ 1.        ,  0.30901699, -0.80901699, -0.80901699,  0.30901699],\n",
        "       [-0.        ,  0.95105652,  0.58778525, -0.58778525, -0.95105652],\n",
        "       [ 1.        , -0.80901699,  0.30901699,  0.30901699, -0.80901699],\n",
        "       [-0.        ,  0.58778525, -0.95105652,  0.95105652, -0.58778525]])"
       ]
      }
     ],
     "prompt_number": 262
    },
    {
     "cell_type": "code",
     "collapsed": false,
     "input": [],
     "language": "python",
     "metadata": {},
     "outputs": []
    }
   ],
   "metadata": {}
  }
 ]
}