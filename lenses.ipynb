{
 "metadata": {
  "name": "",
  "signature": "sha256:841f7539e92ab9d41083d76d1005e1e9292518e9d78d9d156b2b59acbc05e1c1"
 },
 "nbformat": 3,
 "nbformat_minor": 0,
 "worksheets": [
  {
   "cells": [
    {
     "cell_type": "code",
     "collapsed": false,
     "input": [
      "import numpy as np\n",
      "import matplotlib.pyplot as plt\n",
      "\n",
      "## Objective parameters\n",
      "# reference tube length\n",
      "fRef = 200.\n",
      "fObj = 2.\n",
      "mRef = mRef = fRef / fObj\n",
      "\n",
      "# tube lens\n",
      "fTube = 200.\n",
      "\n",
      "# deformable mirror telescope lens\n",
      "fTele = 175.\n",
      "\n",
      "# detector pixel pitch\n",
      "ccdPitch = 16e-6\n",
      "\n",
      "# image-forming lens\n",
      "fCam = np.arange(100,300, 0.5)\n",
      "\n",
      "# SLM pixel size\n",
      "slmPitch = 15e-6\n",
      "\n",
      "# SLM telescope lenses ratio\n",
      "slmTele = np.arange(0.3, 3, 0.1)\n"
     ],
     "language": "python",
     "metadata": {},
     "outputs": [],
     "prompt_number": 145
    },
    {
     "cell_type": "code",
     "collapsed": false,
     "input": [
      "# total image magnification\n",
      "mTot = mRef * (fTube / fRef) * (fCam / fTele)\n",
      "\n",
      "# image space pixel size\n",
      "ccdPixel = ccdPitch / mTot\n",
      "\n",
      "# plot the image mag. and pixel pitch with camera lens f.\n",
      "fig, axLeft = plt.subplots()\n",
      "axLeft.minorticks_on()\n",
      "axLeft.set_xlabel('camera lens f')\n",
      "\n",
      "axLeft.plot(fCam, mTot)\n",
      "axLeft.set_ylabel('image magnification', color='b')\n",
      "\n",
      "axRight = axLeft.twinx()\n",
      "axRight.plot(fCam, ccdPixel, 'r')\n",
      "axRight.set_ylabel('image-space CCD pixel size', color='r')\n",
      "axRight.ticklabel_format(axis='y', style='sci') \n",
      "axLeft.grid(True, 'both', 'both')\n"
     ],
     "language": "python",
     "metadata": {},
     "outputs": [],
     "prompt_number": 146
    },
    {
     "cell_type": "code",
     "collapsed": false,
     "input": [
      "# slm magnification\n",
      "mSLM = mRef * (fTube / fRef) * slmTele\n",
      "\n",
      "# slm pixel size\n",
      "slmPixel = slmPitch / mSLM\n",
      "\n",
      "# plot the slm mag. and pixel pitch with slm telescope ratio.\n",
      "fig, axLeft = plt.subplots()\n",
      "axLeft.minorticks_on()\n",
      "\n",
      "axLeft.plot(slmTele, mSLM)\n",
      "axLeft.set_ylabel('slm magnification', color='b')\n",
      "axLeft.set_xlabel('slm telescope ratio')\n",
      "\n",
      "axRight = axLeft.twinx()\n",
      "axRight.plot(slmTele, slmPixel, 'r')\n",
      "axRight.set_ylabel('image-space SLM pixel size', color='r')\n",
      "axRight.ticklabel_format(axis='y', style='sci') \n",
      "axLeft.grid(True, 'both', 'both')\n",
      "\n",
      "\n"
     ],
     "language": "python",
     "metadata": {},
     "outputs": [],
     "prompt_number": 147
    },
    {
     "cell_type": "code",
     "collapsed": false,
     "input": [],
     "language": "python",
     "metadata": {},
     "outputs": []
    }
   ],
   "metadata": {}
  }
 ]
}