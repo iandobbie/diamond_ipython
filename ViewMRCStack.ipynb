{
 "metadata": {
  "name": "ViewMRCStack",
  "signature": "sha256:1164b7475c090e02053bda7af6ba61bcf64d697a38b77670359e69b56eed3627"
 },
 "nbformat": 3,
 "nbformat_minor": 0,
 "worksheets": [
  {
   "cells": [
    {
     "cell_type": "code",
     "collapsed": false,
     "input": [
      "import matplotlib.pyplot as plt\n",
      "import Mrc\n",
      "import numpy as np\n",
      "import sliceViewer\n",
      "\n",
      "plt.rcParams['image.cmap'] = 'gray'\n",
      "\n",
      "dataPath = r\"C:\\Users\\vga83285\\Desktop\\SamplePSF_OTF\\488_512_a2_tp1160_01.dv\"\n",
      "mrcObject = Mrc.open(dataPath)\n",
      "xs, ys, zs = mrcObject.hdr.Num\n",
      "print xs, ys, zs\n",
      "\n",
      "data = np.zeros((zs/5, ys, xs))\n",
      "print data.shape\n",
      "\n",
      "for i in range(zs / 5):\n",
      "    data[i,:,:] = mrcObject.readStack(5).sum(axis=0)\n",
      "\n",
      "#data = mrcObject.readStack(mrcObject.hdr.Num[::-1][0])\n",
      "v = sliceViewer.SliceViewer(data)"
     ],
     "language": "python",
     "metadata": {},
     "outputs": [
      {
       "output_type": "stream",
       "stream": "stdout",
       "text": [
        "256 256 325\n",
        "(65L, 256L, 256L)\n"
       ]
      }
     ],
     "prompt_number": 1
    }
   ],
   "metadata": {}
  }
 ]
}