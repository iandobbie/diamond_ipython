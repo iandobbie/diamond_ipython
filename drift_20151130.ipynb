{
 "cells": [
  {
   "cell_type": "code",
   "execution_count": 2,
   "metadata": {
    "collapsed": false
   },
   "outputs": [
    {
     "name": "stdout",
     "output_type": "stream",
     "text": [
      "Using matplotlib backend: TkAgg\n"
     ]
    }
   ],
   "source": [
    "%matplotlib\n",
    "import time\n",
    "import numpy as np\n",
    "import matplotlib.pyplot as plt\n",
    "from matplotlib import gridspec\n",
    "import os\n",
    "path = os.path.join(os.getcwd(), 'driftData')\n",
    "labels = ['copper grid',]\n",
    "\n",
    "suffix = '_DRIFT.TXT'\n",
    "timeStrings = [\n",
    "        '20151130-122822',\n",
    "        '20151130-123210',\n",
    "        '20151130-124456',\n",
    "        '20151130-125003',\n",
    "        '20151130-131542',\n",
    "        '20151130-135715',\n",
    "        '20151130-142210',\n",
    "        '20151130-145615',\n",
    "        '20151130-152105',\n",
    "        '20151130-155659',]\n",
    "\n",
    "fileNames = [t + suffix for t in timeStrings]\n",
    "times = [time.mktime(time.strptime(t, '%Y%m%d-%H%M%S')) for t in timeStrings]\n",
    "colLabels = ['t','y','x','z']\n",
    "colColours = [None, 'g', 'r', 'b']\n",
    "skipRows = 1\n",
    "skipCols = 1\n",
    "fitPts = 4\n",
    "temperatureFileName = '20151130-Temperatures.txt'\n",
    "temperatureLabels = ['dewar', 'chamber', 'bridge']"
   ]
  },
  {
   "cell_type": "code",
   "execution_count": 5,
   "metadata": {
    "collapsed": false
   },
   "outputs": [],
   "source": [
    "data = []\n",
    "for fn in fileNames:\n",
    "    fp = os.path.join(path, fn)\n",
    "    d = np.genfromtxt(fp, skip_header=skipRows)[:,skipCols:]\n",
    "    # Substract baselines.\n",
    "    for col in range(1,d.shape[1]):\n",
    "        d[:,col] -= d[:,col].min()\n",
    "    data.append(d)\n",
    "\n",
    "temperatures = np.genfromtxt(os.path.join(path, temperatureFileName))[:,:]\n"
   ]
  },
  {
   "cell_type": "code",
   "execution_count": 6,
   "metadata": {
    "collapsed": false
   },
   "outputs": [],
   "source": [
    "aligned = np.concatenate([d for d in data])\n",
    "tOffsets = [228, 994, 1304, 2840, 5340]\n",
    "for i in range(len(data)):\n",
    "    if i == 0:\n",
    "        count = data[i].shape[0]\n",
    "        continue\n",
    "    numPoints = data[i].shape[0]\n",
    "    # Manual t offset.\n",
    "    aligned[count:count+numPoints,0] += times[i] - times[0]\n",
    "    # Gradient\n",
    "    deltaT = aligned[count-1, 0] - aligned[count, 0]\n",
    "    for v in range(1,4):\n",
    "        # Fit a stright line through a few points to estimate dvdt.\n",
    "        dvdt = np.polyfit(aligned[count-fitPts-1:count-1, 0],\n",
    "                      aligned[count-fitPts-1:count-1, v],\n",
    "                      1)[0]   \n",
    "        dv =  aligned[count,v]  + dvdt * deltaT - aligned[count-1, v]\n",
    "        aligned[count:, v] -= dv\n",
    "    count += numPoints   \n",
    "\n",
    "# Gradient by fitting in microns per second.\n",
    "gradient = np.zeros(aligned.shape)\n",
    "for col in [1,2,3]:\n",
    "    for i in range(2, aligned.shape[0]-2):\n",
    "        gradient[i, col] = np.polyfit(aligned[i-2:i+2, 0],\n",
    "                                 aligned[i-2:i+2, col],\n",
    "                                 1)[0]\n",
    "# Convert to nm / second\n",
    "gradient *= 1000.\n",
    "\n",
    "# Subtract start time from temperature-log time points.\n",
    "startTime = 1448886502.\n",
    "\n",
    "\n",
    "temperatures[:,0] = np.divide(np.add(temperatures[:,0], -times[0]), 60.)\n"
   ]
  },
  {
   "cell_type": "code",
   "execution_count": 8,
   "metadata": {
    "collapsed": false
   },
   "outputs": [],
   "source": [
    "fig = plt.figure()\n",
    "fig.suptitle('Drift under cryo conditions')\n",
    "gs = gridspec.GridSpec(3, 1, height_ratios=[1, 3, 1]) \n",
    "\n",
    "# Temperature\n",
    "axTemp = fig.add_subplot(gs[2])\n",
    "axTemp.xaxis.label.set_text('time / minutes')\n",
    "axTemp.yaxis.label.set_text(u\"temp. / °C\")\n",
    "axTemp.plot(temperatures[:,0], temperatures[:,1:])\n",
    "axTemp.legend(temperatureLabels, loc='upper left', prop={'size':11})\n",
    "\n",
    "# Position\n",
    "axPos = fig.add_subplot(gs[1], sharex=axTemp)\n",
    "axPos.yaxis.label.set_text(u'displacement / µm')\n",
    "\n",
    "# Drift rate\n",
    "axDrift = fig.add_subplot(gs[0], sharex=axTemp)\n",
    "axDrift.yaxis.label.set_text(r'drift / nm.s$^-1$')\n",
    "\n",
    "handles = []\n",
    "for col in [3,1,2]:\n",
    "    handles.append(\n",
    "            axPos.plot(aligned.T[0]/60, aligned.T[col], label=colLabels[col],\n",
    "                 ls=' ', marker='+', color=colColours[col]))\n",
    "    axDrift.plot(aligned[:gradient.shape[0],0]/60, gradient[:,col],\n",
    "             ls=' ', marker='.', markersize=2, color=colColours[col])\n",
    "\n",
    "axPos.legend(*axPos.get_legend_handles_labels(), loc='upper left', prop={'size':11})\n",
    "\n",
    "# Set axis limits\n",
    "tMax = 210\n",
    "axTemp.set_xlim(0, tMax)\n",
    "axTemp.set_xticks(range(0, int(tMax+1), 15))\n",
    "axDrift.set_ylim(-25, 25)\n",
    "\n",
    "# Show grid lines on all axes.\n",
    "for ax in (axPos, axDrift, axTemp):\n",
    "    ax.grid(b=True, which='major', alpha=0.2, linestyle='-')\n",
    "\n",
    "# Hide x-labels on all but one axis.\n",
    "for ax in (axDrift, axPos):\n",
    "    plt.setp(ax.get_xticklabels(), visible=False)"
   ]
  },
  {
   "cell_type": "code",
   "execution_count": null,
   "metadata": {
    "collapsed": false
   },
   "outputs": [],
   "source": []
  }
 ],
 "metadata": {
  "kernelspec": {
   "display_name": "Python 3",
   "language": "python",
   "name": "python3"
  },
  "language_info": {
   "codemirror_mode": {
    "name": "ipython",
    "version": 3
   },
   "file_extension": ".py",
   "mimetype": "text/x-python",
   "name": "python",
   "nbconvert_exporter": "python",
   "pygments_lexer": "ipython3",
   "version": "3.5.2"
  }
 },
 "nbformat": 4,
 "nbformat_minor": 0
}
