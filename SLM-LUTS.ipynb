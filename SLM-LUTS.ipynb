{
 "metadata": {
  "name": "",
  "signature": "sha256:c4e3d58fa1c329def8f00b9c3d7dbd0751c043299f89056ff9ae02da287d4d06"
 },
 "nbformat": 3,
 "nbformat_minor": 0,
 "worksheets": [
  {
   "cells": [
    {
     "cell_type": "code",
     "collapsed": false,
     "input": [
      "import numpy as np\n",
      "import matplotlib.pyplot as plt\n",
      "import os"
     ],
     "language": "python",
     "metadata": {},
     "outputs": [],
     "prompt_number": 4
    },
    {
     "cell_type": "code",
     "collapsed": false,
     "input": [
      "os.chdir('\\\\\\\\slm.b24\\\\SLM\\\\bnsdevice\\\\LUT_files')\n",
      "files = {'linear':'linear.lut',\n",
      "         'uv':    'slm7070_at405_P16.lut',\n",
      "         'green': 'slm7070_at532_P16.lut',\n",
      "         'red':   'slm7070_at635_P16.lut',}\n",
      "\n",
      "luts = {}\n",
      "\n",
      "for lutname, fname in files.iteritems():\n",
      "    f = open(fname)\n",
      "    luts.update({lutname: [[],[]]})\n",
      "    lut = luts[lutname]\n",
      "\n",
      "    for line in f:\n",
      "        l, r = [int(i) for i in line.split()]\n",
      "        lut[0].append(l)\n",
      "        lut[1].append(r)\n",
      "    f.close()"
     ],
     "language": "python",
     "metadata": {},
     "outputs": [],
     "prompt_number": 7
    },
    {
     "cell_type": "code",
     "collapsed": false,
     "input": [
      "colours = {'linear':'k', 'uv':'m', 'green':'g', 'red':'r'}\n",
      "series = []\n",
      "fig = plt.figure(figsize=(16,12), dpi=100)\n",
      "for lutname, lut in luts.iteritems():\n",
      "    #series.extend([lut[0], lut[1], colours[lutname] + '.'])\n",
      "    plt.plot(lut[0], lut[1], colours[lutname] + '.', label=lutname)\n",
      "#plt.plot(*series)\n",
      "plt.title('SLM 7070 LUT')\n",
      "plt.legend(loc=4)\n",
      "None"
     ],
     "language": "python",
     "metadata": {},
     "outputs": [],
     "prompt_number": 8
    },
    {
     "cell_type": "code",
     "collapsed": false,
     "input": [
      "max(luts['green'][1]), min(luts['green'][1]), max(luts['green'][1]) - min(luts['green'][1])"
     ],
     "language": "python",
     "metadata": {},
     "outputs": [
      {
       "metadata": {},
       "output_type": "pyout",
       "prompt_number": 80,
       "text": [
        "(65535, 49279, 16256)"
       ]
      }
     ],
     "prompt_number": 80
    }
   ],
   "metadata": {}
  }
 ]
}