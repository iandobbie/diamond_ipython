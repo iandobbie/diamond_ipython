{
 "cells": [
  {
   "cell_type": "code",
   "execution_count": 11,
   "metadata": {
    "collapsed": false
   },
   "outputs": [],
   "source": [
    "import matplotlib\n",
    "%matplotlib inline\n",
    "from matplotlib import pyplot as plt\n",
    "import numpy as np\n",
    "matplotlib.rcParams['figure.figsize'] = (12, 8)"
   ]
  },
  {
   "cell_type": "code",
   "execution_count": 42,
   "metadata": {
    "collapsed": false
   },
   "outputs": [
    {
     "name": "stderr",
     "output_type": "stream",
     "text": [
      "C:\\python3\\python-3.5.2.amd64\\lib\\site-packages\\ipykernel\\__main__.py:55: VisibleDeprecationWarning: using a non-integer number instead of an integer will result in an error in the future\n",
      "C:\\python3\\python-3.5.2.amd64\\lib\\site-packages\\ipykernel\\__main__.py:56: VisibleDeprecationWarning: using a non-integer number instead of an integer will result in an error in the future\n",
      "C:\\python3\\python-3.5.2.amd64\\lib\\site-packages\\ipykernel\\__main__.py:67: VisibleDeprecationWarning: using a non-integer number instead of an integer will result in an error in the future\n",
      "C:\\python3\\python-3.5.2.amd64\\lib\\site-packages\\ipykernel\\__main__.py:79: VisibleDeprecationWarning: using a non-integer number instead of an integer will result in an error in the future\n"
     ]
    },
    {
     "data": {
      "text/plain": [
       "(-100, 1100)"
      ]
     },
     "execution_count": 42,
     "metadata": {},
     "output_type": "execute_result"
    },
    {
     "data": {
      "image/png": "[encoded data removed]",
      "text/plain": [
       "<matplotlib.figure.Figure at 0xa4c3cf8>"
      ]
     },
     "metadata": {},
     "output_type": "display_data"
    }
   ],
   "source": [
    "N = 1000\n",
    "t = np.arange(N)\n",
    "exposures = np.zeros(N)\n",
    "triggers = np.zeros(N)\n",
    "\n",
    "t_exp = 30\n",
    "t_cyc = 50\n",
    "t_trig = 4\n",
    "t_delay = 50\n",
    "\n",
    "d_offset = 5\n",
    "\n",
    "fig, ax = plt.subplots()\n",
    "ax.xaxis.set_visible(False)\n",
    "ax.yaxis.set_visible(False)\n",
    "\n",
    "def add_to_plot():\n",
    "    ax.plot(t, offset + 1.5 + exposures, 'r-')\n",
    "    ax.fill_between(t, offset+1.5+exposures, N*[offset+1.5], color='red')\n",
    "    ax.plot(t, offset + triggers, 'b-') \n",
    "\n",
    "# Before, once\n",
    "offset = 0\n",
    "for i in range(t_delay, N, t_cyc):\n",
    "    triggers[i:i+3] = 1\n",
    "    exposures[i:i+t_exp] = 1\n",
    "add_to_plot()\n",
    "\n",
    "# Before, many\n",
    "offset += d_offset\n",
    "triggers[0:N] = 0\n",
    "exposures[0:N] = 0\n",
    "triggers[t_delay:t_delay+t_trig] = 1\n",
    "for i in range(t_delay, N, t_cyc):\n",
    "    exposures[i:i+t_exp] = 1\n",
    "add_to_plot()\n",
    "\n",
    "# After, once\n",
    "offset += d_offset\n",
    "triggers[0:N] = 0\n",
    "exposures[0:N] = 0\n",
    "for i in range(t_delay+t_exp, N, t_cyc):\n",
    "    exposures[i-t_exp:i] = 1\n",
    "    triggers[i:i+t_trig] = 1\n",
    "add_to_plot()\n",
    "\n",
    "# Bulb\n",
    "offset += d_offset\n",
    "triggers[0:N] = 0\n",
    "exposures[0:N] = 0\n",
    "i = t_delay\n",
    "while (i < N ):\n",
    "    ind = int(i%3)\n",
    "    my_t_exp = [1, 1.5, 2][ind] * t_exp\n",
    "    exposures[i:i+my_t_exp] = 1\n",
    "    triggers[i:i+my_t_exp] = 1\n",
    "    i += int(my_t_exp + (t_cyc - t_exp))\n",
    "add_to_plot()\n",
    "\n",
    "# Gated, before\n",
    "offset += d_offset\n",
    "triggers[0:N] = 0\n",
    "exposures[0:N] = 0\n",
    "i = t_delay\n",
    "triggers[i:i+(8*t_cyc)-t_exp] = 1\n",
    "i += 10 * t_cyc\n",
    "triggers[i:i+(7*t_cyc)-(t_exp/3)] = 1\n",
    "for i in range(t_delay, N, t_cyc):\n",
    "    exposures[i:i+t_exp] = triggers[i]\n",
    "add_to_plot()\n",
    "\n",
    "# Gated, after\n",
    "offset += d_offset\n",
    "triggers[0:N] = 0\n",
    "exposures[0:N] = 0\n",
    "i = t_delay\n",
    "triggers[i:i+(8*t_cyc)-t_exp] = 1\n",
    "i += 10 * t_cyc\n",
    "triggers[i:i+(7*t_cyc)-(t_exp/3)] = 1\n",
    "for i in range(t_delay, N, t_cyc):\n",
    "    exposures[i-t_exp:i] = triggers[i]\n",
    "add_to_plot()\n",
    "\n",
    "ax.set_ylim(-1, offset+4)        \n",
    "ax.set_xlim(-100, 1100)"
   ]
  },
  {
   "cell_type": "code",
   "execution_count": null,
   "metadata": {
    "collapsed": true
   },
   "outputs": [],
   "source": []
  }
 ],
 "metadata": {
  "kernelspec": {
   "display_name": "Python 3",
   "language": "python",
   "name": "python3"
  },
  "language_info": {
   "codemirror_mode": {
    "name": "ipython",
    "version": 3
   },
   "file_extension": ".py",
   "mimetype": "text/x-python",
   "name": "python",
   "nbconvert_exporter": "python",
   "pygments_lexer": "ipython3",
   "version": "3.5.2"
  }
 },
 "nbformat": 4,
 "nbformat_minor": 0
}
